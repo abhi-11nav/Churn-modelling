{
  "nbformat": 4,
  "nbformat_minor": 0,
  "metadata": {
    "colab": {
      "name": "Churn_Modelling.ipynb",
      "provenance": [],
      "collapsed_sections": [],
      "authorship_tag": "ABX9TyN8B+VAt0WcsSCz07AnN5VP",
      "include_colab_link": true
    },
    "kernelspec": {
      "name": "python3",
      "display_name": "Python 3"
    },
    "language_info": {
      "name": "python"
    },
    "gpuClass": "standard",
    "accelerator": "GPU"
  },
  "cells": [
    {
      "cell_type": "markdown",
      "metadata": {
        "id": "view-in-github",
        "colab_type": "text"
      },
      "source": [
        "<a href=\"https://colab.research.google.com/github/abhi-11nav/Churn-modelling/blob/main/Churn_Modelling.ipynb\" target=\"_parent\"><img src=\"https://colab.research.google.com/assets/colab-badge.svg\" alt=\"Open In Colab\"/></a>"
      ]
    },
    {
      "cell_type": "code",
      "execution_count": null,
      "metadata": {
        "id": "WMkaGvvzCvdC"
      },
      "outputs": [],
      "source": [
        "import pandas as pd\n",
        "import numpy as np "
      ]
    },
    {
      "cell_type": "code",
      "source": [
        "url = 'https://raw.githubusercontent.com/abhi-11nav/Churn-modelling/main/Churn_Modelling.csv'"
      ],
      "metadata": {
        "id": "05XIRTALDCzR"
      },
      "execution_count": null,
      "outputs": []
    },
    {
      "cell_type": "code",
      "source": [
        "dataset = pd.read_csv(url)"
      ],
      "metadata": {
        "id": "e-ANnjM3CzBN"
      },
      "execution_count": null,
      "outputs": []
    },
    {
      "cell_type": "code",
      "source": [
        "dataset.head()"
      ],
      "metadata": {
        "colab": {
          "base_uri": "https://localhost:8080/",
          "height": 248
        },
        "id": "Apwcj2A4C7kl",
        "outputId": "83d312e9-4c2d-42dd-936c-d4670468cfe8"
      },
      "execution_count": null,
      "outputs": [
        {
          "output_type": "execute_result",
          "data": {
            "text/plain": [
              "   RowNumber  CustomerId   Surname  CreditScore Geography  Gender  Age  \\\n",
              "0          1    15634602  Hargrave          619    France  Female   42   \n",
              "1          2    15647311      Hill          608     Spain  Female   41   \n",
              "2          3    15619304      Onio          502    France  Female   42   \n",
              "3          4    15701354      Boni          699    France  Female   39   \n",
              "4          5    15737888  Mitchell          850     Spain  Female   43   \n",
              "\n",
              "   Tenure    Balance  NumOfProducts  HasCrCard  IsActiveMember  \\\n",
              "0       2       0.00              1          1               1   \n",
              "1       1   83807.86              1          0               1   \n",
              "2       8  159660.80              3          1               0   \n",
              "3       1       0.00              2          0               0   \n",
              "4       2  125510.82              1          1               1   \n",
              "\n",
              "   EstimatedSalary  Exited  \n",
              "0        101348.88       1  \n",
              "1        112542.58       0  \n",
              "2        113931.57       1  \n",
              "3         93826.63       0  \n",
              "4         79084.10       0  "
            ],
            "text/html": [
              "\n",
              "  <div id=\"df-9510e49a-0cfa-4487-b7d8-5510cdae572c\">\n",
              "    <div class=\"colab-df-container\">\n",
              "      <div>\n",
              "<style scoped>\n",
              "    .dataframe tbody tr th:only-of-type {\n",
              "        vertical-align: middle;\n",
              "    }\n",
              "\n",
              "    .dataframe tbody tr th {\n",
              "        vertical-align: top;\n",
              "    }\n",
              "\n",
              "    .dataframe thead th {\n",
              "        text-align: right;\n",
              "    }\n",
              "</style>\n",
              "<table border=\"1\" class=\"dataframe\">\n",
              "  <thead>\n",
              "    <tr style=\"text-align: right;\">\n",
              "      <th></th>\n",
              "      <th>RowNumber</th>\n",
              "      <th>CustomerId</th>\n",
              "      <th>Surname</th>\n",
              "      <th>CreditScore</th>\n",
              "      <th>Geography</th>\n",
              "      <th>Gender</th>\n",
              "      <th>Age</th>\n",
              "      <th>Tenure</th>\n",
              "      <th>Balance</th>\n",
              "      <th>NumOfProducts</th>\n",
              "      <th>HasCrCard</th>\n",
              "      <th>IsActiveMember</th>\n",
              "      <th>EstimatedSalary</th>\n",
              "      <th>Exited</th>\n",
              "    </tr>\n",
              "  </thead>\n",
              "  <tbody>\n",
              "    <tr>\n",
              "      <th>0</th>\n",
              "      <td>1</td>\n",
              "      <td>15634602</td>\n",
              "      <td>Hargrave</td>\n",
              "      <td>619</td>\n",
              "      <td>France</td>\n",
              "      <td>Female</td>\n",
              "      <td>42</td>\n",
              "      <td>2</td>\n",
              "      <td>0.00</td>\n",
              "      <td>1</td>\n",
              "      <td>1</td>\n",
              "      <td>1</td>\n",
              "      <td>101348.88</td>\n",
              "      <td>1</td>\n",
              "    </tr>\n",
              "    <tr>\n",
              "      <th>1</th>\n",
              "      <td>2</td>\n",
              "      <td>15647311</td>\n",
              "      <td>Hill</td>\n",
              "      <td>608</td>\n",
              "      <td>Spain</td>\n",
              "      <td>Female</td>\n",
              "      <td>41</td>\n",
              "      <td>1</td>\n",
              "      <td>83807.86</td>\n",
              "      <td>1</td>\n",
              "      <td>0</td>\n",
              "      <td>1</td>\n",
              "      <td>112542.58</td>\n",
              "      <td>0</td>\n",
              "    </tr>\n",
              "    <tr>\n",
              "      <th>2</th>\n",
              "      <td>3</td>\n",
              "      <td>15619304</td>\n",
              "      <td>Onio</td>\n",
              "      <td>502</td>\n",
              "      <td>France</td>\n",
              "      <td>Female</td>\n",
              "      <td>42</td>\n",
              "      <td>8</td>\n",
              "      <td>159660.80</td>\n",
              "      <td>3</td>\n",
              "      <td>1</td>\n",
              "      <td>0</td>\n",
              "      <td>113931.57</td>\n",
              "      <td>1</td>\n",
              "    </tr>\n",
              "    <tr>\n",
              "      <th>3</th>\n",
              "      <td>4</td>\n",
              "      <td>15701354</td>\n",
              "      <td>Boni</td>\n",
              "      <td>699</td>\n",
              "      <td>France</td>\n",
              "      <td>Female</td>\n",
              "      <td>39</td>\n",
              "      <td>1</td>\n",
              "      <td>0.00</td>\n",
              "      <td>2</td>\n",
              "      <td>0</td>\n",
              "      <td>0</td>\n",
              "      <td>93826.63</td>\n",
              "      <td>0</td>\n",
              "    </tr>\n",
              "    <tr>\n",
              "      <th>4</th>\n",
              "      <td>5</td>\n",
              "      <td>15737888</td>\n",
              "      <td>Mitchell</td>\n",
              "      <td>850</td>\n",
              "      <td>Spain</td>\n",
              "      <td>Female</td>\n",
              "      <td>43</td>\n",
              "      <td>2</td>\n",
              "      <td>125510.82</td>\n",
              "      <td>1</td>\n",
              "      <td>1</td>\n",
              "      <td>1</td>\n",
              "      <td>79084.10</td>\n",
              "      <td>0</td>\n",
              "    </tr>\n",
              "  </tbody>\n",
              "</table>\n",
              "</div>\n",
              "      <button class=\"colab-df-convert\" onclick=\"convertToInteractive('df-9510e49a-0cfa-4487-b7d8-5510cdae572c')\"\n",
              "              title=\"Convert this dataframe to an interactive table.\"\n",
              "              style=\"display:none;\">\n",
              "        \n",
              "  <svg xmlns=\"http://www.w3.org/2000/svg\" height=\"24px\"viewBox=\"0 0 24 24\"\n",
              "       width=\"24px\">\n",
              "    <path d=\"M0 0h24v24H0V0z\" fill=\"none\"/>\n",
              "    <path d=\"M18.56 5.44l.94 2.06.94-2.06 2.06-.94-2.06-.94-.94-2.06-.94 2.06-2.06.94zm-11 1L8.5 8.5l.94-2.06 2.06-.94-2.06-.94L8.5 2.5l-.94 2.06-2.06.94zm10 10l.94 2.06.94-2.06 2.06-.94-2.06-.94-.94-2.06-.94 2.06-2.06.94z\"/><path d=\"M17.41 7.96l-1.37-1.37c-.4-.4-.92-.59-1.43-.59-.52 0-1.04.2-1.43.59L10.3 9.45l-7.72 7.72c-.78.78-.78 2.05 0 2.83L4 21.41c.39.39.9.59 1.41.59.51 0 1.02-.2 1.41-.59l7.78-7.78 2.81-2.81c.8-.78.8-2.07 0-2.86zM5.41 20L4 18.59l7.72-7.72 1.47 1.35L5.41 20z\"/>\n",
              "  </svg>\n",
              "      </button>\n",
              "      \n",
              "  <style>\n",
              "    .colab-df-container {\n",
              "      display:flex;\n",
              "      flex-wrap:wrap;\n",
              "      gap: 12px;\n",
              "    }\n",
              "\n",
              "    .colab-df-convert {\n",
              "      background-color: #E8F0FE;\n",
              "      border: none;\n",
              "      border-radius: 50%;\n",
              "      cursor: pointer;\n",
              "      display: none;\n",
              "      fill: #1967D2;\n",
              "      height: 32px;\n",
              "      padding: 0 0 0 0;\n",
              "      width: 32px;\n",
              "    }\n",
              "\n",
              "    .colab-df-convert:hover {\n",
              "      background-color: #E2EBFA;\n",
              "      box-shadow: 0px 1px 2px rgba(60, 64, 67, 0.3), 0px 1px 3px 1px rgba(60, 64, 67, 0.15);\n",
              "      fill: #174EA6;\n",
              "    }\n",
              "\n",
              "    [theme=dark] .colab-df-convert {\n",
              "      background-color: #3B4455;\n",
              "      fill: #D2E3FC;\n",
              "    }\n",
              "\n",
              "    [theme=dark] .colab-df-convert:hover {\n",
              "      background-color: #434B5C;\n",
              "      box-shadow: 0px 1px 3px 1px rgba(0, 0, 0, 0.15);\n",
              "      filter: drop-shadow(0px 1px 2px rgba(0, 0, 0, 0.3));\n",
              "      fill: #FFFFFF;\n",
              "    }\n",
              "  </style>\n",
              "\n",
              "      <script>\n",
              "        const buttonEl =\n",
              "          document.querySelector('#df-9510e49a-0cfa-4487-b7d8-5510cdae572c button.colab-df-convert');\n",
              "        buttonEl.style.display =\n",
              "          google.colab.kernel.accessAllowed ? 'block' : 'none';\n",
              "\n",
              "        async function convertToInteractive(key) {\n",
              "          const element = document.querySelector('#df-9510e49a-0cfa-4487-b7d8-5510cdae572c');\n",
              "          const dataTable =\n",
              "            await google.colab.kernel.invokeFunction('convertToInteractive',\n",
              "                                                     [key], {});\n",
              "          if (!dataTable) return;\n",
              "\n",
              "          const docLinkHtml = 'Like what you see? Visit the ' +\n",
              "            '<a target=\"_blank\" href=https://colab.research.google.com/notebooks/data_table.ipynb>data table notebook</a>'\n",
              "            + ' to learn more about interactive tables.';\n",
              "          element.innerHTML = '';\n",
              "          dataTable['output_type'] = 'display_data';\n",
              "          await google.colab.output.renderOutput(dataTable, element);\n",
              "          const docLink = document.createElement('div');\n",
              "          docLink.innerHTML = docLinkHtml;\n",
              "          element.appendChild(docLink);\n",
              "        }\n",
              "      </script>\n",
              "    </div>\n",
              "  </div>\n",
              "  "
            ]
          },
          "metadata": {},
          "execution_count": 4
        }
      ]
    },
    {
      "cell_type": "code",
      "source": [
        "# Checking for any missing values in the dataset\n",
        "\n",
        "dataset.isna().any()"
      ],
      "metadata": {
        "id": "YZqAG7oGC7-F",
        "colab": {
          "base_uri": "https://localhost:8080/"
        },
        "outputId": "912268cc-39d2-4721-c177-3a1266d49d97"
      },
      "execution_count": null,
      "outputs": [
        {
          "output_type": "execute_result",
          "data": {
            "text/plain": [
              "RowNumber          False\n",
              "CustomerId         False\n",
              "Surname            False\n",
              "CreditScore        False\n",
              "Geography          False\n",
              "Gender             False\n",
              "Age                False\n",
              "Tenure             False\n",
              "Balance            False\n",
              "NumOfProducts      False\n",
              "HasCrCard          False\n",
              "IsActiveMember     False\n",
              "EstimatedSalary    False\n",
              "Exited             False\n",
              "dtype: bool"
            ]
          },
          "metadata": {},
          "execution_count": 5
        }
      ]
    },
    {
      "cell_type": "markdown",
      "source": [
        "We can observe that no feature has missing value "
      ],
      "metadata": {
        "id": "LTPHu48wKIIR"
      }
    },
    {
      "cell_type": "code",
      "source": [
        "for x in dataset.columns:\n",
        "  if len(pd.unique(dataset[x])) == dataset.shape[0]:\n",
        "    print(x, \"feature has unique values. So it does not add any value in the dataframe.\")"
      ],
      "metadata": {
        "colab": {
          "base_uri": "https://localhost:8080/"
        },
        "id": "XbaLH141KGj1",
        "outputId": "a4a4fc83-7dfd-4222-9008-d0a7eb3152f6"
      },
      "execution_count": null,
      "outputs": [
        {
          "output_type": "stream",
          "name": "stdout",
          "text": [
            "RowNumber feature has unique values. So it does not add any value in the dataframe.\n",
            "CustomerId feature has unique values. So it does not add any value in the dataframe.\n"
          ]
        }
      ]
    },
    {
      "cell_type": "code",
      "source": [
        "dataset.drop(['RowNumber','CustomerId'],axis=1,inplace=True)\n",
        "\n",
        "# Dropping columns with unique values"
      ],
      "metadata": {
        "id": "eZvVeAW5Ka6s"
      },
      "execution_count": null,
      "outputs": []
    },
    {
      "cell_type": "code",
      "source": [
        "# We know that \"Surname\" feature does not add much value to the dataframe either. So dropping the feature surname too \n",
        "\n",
        "dataset.drop(\"Surname\",axis=1,inplace=True)\n"
      ],
      "metadata": {
        "id": "IQI28Z-0LV8G"
      },
      "execution_count": null,
      "outputs": []
    },
    {
      "cell_type": "code",
      "source": [
        "# Printing the first 5 rows of the dataset\n",
        "\n",
        "dataset.head()"
      ],
      "metadata": {
        "colab": {
          "base_uri": "https://localhost:8080/",
          "height": 204
        },
        "id": "Ca4AMt2KOVSH",
        "outputId": "9e670d0e-550c-4413-a673-a5120f72e1de"
      },
      "execution_count": null,
      "outputs": [
        {
          "output_type": "execute_result",
          "data": {
            "text/plain": [
              "   CreditScore Geography  Gender  Age  Tenure    Balance  NumOfProducts  \\\n",
              "0          619    France  Female   42       2       0.00              1   \n",
              "1          608     Spain  Female   41       1   83807.86              1   \n",
              "2          502    France  Female   42       8  159660.80              3   \n",
              "3          699    France  Female   39       1       0.00              2   \n",
              "4          850     Spain  Female   43       2  125510.82              1   \n",
              "\n",
              "   HasCrCard  IsActiveMember  EstimatedSalary  Exited  \n",
              "0          1               1        101348.88       1  \n",
              "1          0               1        112542.58       0  \n",
              "2          1               0        113931.57       1  \n",
              "3          0               0         93826.63       0  \n",
              "4          1               1         79084.10       0  "
            ],
            "text/html": [
              "\n",
              "  <div id=\"df-cf863c6b-c47a-4d11-a693-f995deb586d0\">\n",
              "    <div class=\"colab-df-container\">\n",
              "      <div>\n",
              "<style scoped>\n",
              "    .dataframe tbody tr th:only-of-type {\n",
              "        vertical-align: middle;\n",
              "    }\n",
              "\n",
              "    .dataframe tbody tr th {\n",
              "        vertical-align: top;\n",
              "    }\n",
              "\n",
              "    .dataframe thead th {\n",
              "        text-align: right;\n",
              "    }\n",
              "</style>\n",
              "<table border=\"1\" class=\"dataframe\">\n",
              "  <thead>\n",
              "    <tr style=\"text-align: right;\">\n",
              "      <th></th>\n",
              "      <th>CreditScore</th>\n",
              "      <th>Geography</th>\n",
              "      <th>Gender</th>\n",
              "      <th>Age</th>\n",
              "      <th>Tenure</th>\n",
              "      <th>Balance</th>\n",
              "      <th>NumOfProducts</th>\n",
              "      <th>HasCrCard</th>\n",
              "      <th>IsActiveMember</th>\n",
              "      <th>EstimatedSalary</th>\n",
              "      <th>Exited</th>\n",
              "    </tr>\n",
              "  </thead>\n",
              "  <tbody>\n",
              "    <tr>\n",
              "      <th>0</th>\n",
              "      <td>619</td>\n",
              "      <td>France</td>\n",
              "      <td>Female</td>\n",
              "      <td>42</td>\n",
              "      <td>2</td>\n",
              "      <td>0.00</td>\n",
              "      <td>1</td>\n",
              "      <td>1</td>\n",
              "      <td>1</td>\n",
              "      <td>101348.88</td>\n",
              "      <td>1</td>\n",
              "    </tr>\n",
              "    <tr>\n",
              "      <th>1</th>\n",
              "      <td>608</td>\n",
              "      <td>Spain</td>\n",
              "      <td>Female</td>\n",
              "      <td>41</td>\n",
              "      <td>1</td>\n",
              "      <td>83807.86</td>\n",
              "      <td>1</td>\n",
              "      <td>0</td>\n",
              "      <td>1</td>\n",
              "      <td>112542.58</td>\n",
              "      <td>0</td>\n",
              "    </tr>\n",
              "    <tr>\n",
              "      <th>2</th>\n",
              "      <td>502</td>\n",
              "      <td>France</td>\n",
              "      <td>Female</td>\n",
              "      <td>42</td>\n",
              "      <td>8</td>\n",
              "      <td>159660.80</td>\n",
              "      <td>3</td>\n",
              "      <td>1</td>\n",
              "      <td>0</td>\n",
              "      <td>113931.57</td>\n",
              "      <td>1</td>\n",
              "    </tr>\n",
              "    <tr>\n",
              "      <th>3</th>\n",
              "      <td>699</td>\n",
              "      <td>France</td>\n",
              "      <td>Female</td>\n",
              "      <td>39</td>\n",
              "      <td>1</td>\n",
              "      <td>0.00</td>\n",
              "      <td>2</td>\n",
              "      <td>0</td>\n",
              "      <td>0</td>\n",
              "      <td>93826.63</td>\n",
              "      <td>0</td>\n",
              "    </tr>\n",
              "    <tr>\n",
              "      <th>4</th>\n",
              "      <td>850</td>\n",
              "      <td>Spain</td>\n",
              "      <td>Female</td>\n",
              "      <td>43</td>\n",
              "      <td>2</td>\n",
              "      <td>125510.82</td>\n",
              "      <td>1</td>\n",
              "      <td>1</td>\n",
              "      <td>1</td>\n",
              "      <td>79084.10</td>\n",
              "      <td>0</td>\n",
              "    </tr>\n",
              "  </tbody>\n",
              "</table>\n",
              "</div>\n",
              "      <button class=\"colab-df-convert\" onclick=\"convertToInteractive('df-cf863c6b-c47a-4d11-a693-f995deb586d0')\"\n",
              "              title=\"Convert this dataframe to an interactive table.\"\n",
              "              style=\"display:none;\">\n",
              "        \n",
              "  <svg xmlns=\"http://www.w3.org/2000/svg\" height=\"24px\"viewBox=\"0 0 24 24\"\n",
              "       width=\"24px\">\n",
              "    <path d=\"M0 0h24v24H0V0z\" fill=\"none\"/>\n",
              "    <path d=\"M18.56 5.44l.94 2.06.94-2.06 2.06-.94-2.06-.94-.94-2.06-.94 2.06-2.06.94zm-11 1L8.5 8.5l.94-2.06 2.06-.94-2.06-.94L8.5 2.5l-.94 2.06-2.06.94zm10 10l.94 2.06.94-2.06 2.06-.94-2.06-.94-.94-2.06-.94 2.06-2.06.94z\"/><path d=\"M17.41 7.96l-1.37-1.37c-.4-.4-.92-.59-1.43-.59-.52 0-1.04.2-1.43.59L10.3 9.45l-7.72 7.72c-.78.78-.78 2.05 0 2.83L4 21.41c.39.39.9.59 1.41.59.51 0 1.02-.2 1.41-.59l7.78-7.78 2.81-2.81c.8-.78.8-2.07 0-2.86zM5.41 20L4 18.59l7.72-7.72 1.47 1.35L5.41 20z\"/>\n",
              "  </svg>\n",
              "      </button>\n",
              "      \n",
              "  <style>\n",
              "    .colab-df-container {\n",
              "      display:flex;\n",
              "      flex-wrap:wrap;\n",
              "      gap: 12px;\n",
              "    }\n",
              "\n",
              "    .colab-df-convert {\n",
              "      background-color: #E8F0FE;\n",
              "      border: none;\n",
              "      border-radius: 50%;\n",
              "      cursor: pointer;\n",
              "      display: none;\n",
              "      fill: #1967D2;\n",
              "      height: 32px;\n",
              "      padding: 0 0 0 0;\n",
              "      width: 32px;\n",
              "    }\n",
              "\n",
              "    .colab-df-convert:hover {\n",
              "      background-color: #E2EBFA;\n",
              "      box-shadow: 0px 1px 2px rgba(60, 64, 67, 0.3), 0px 1px 3px 1px rgba(60, 64, 67, 0.15);\n",
              "      fill: #174EA6;\n",
              "    }\n",
              "\n",
              "    [theme=dark] .colab-df-convert {\n",
              "      background-color: #3B4455;\n",
              "      fill: #D2E3FC;\n",
              "    }\n",
              "\n",
              "    [theme=dark] .colab-df-convert:hover {\n",
              "      background-color: #434B5C;\n",
              "      box-shadow: 0px 1px 3px 1px rgba(0, 0, 0, 0.15);\n",
              "      filter: drop-shadow(0px 1px 2px rgba(0, 0, 0, 0.3));\n",
              "      fill: #FFFFFF;\n",
              "    }\n",
              "  </style>\n",
              "\n",
              "      <script>\n",
              "        const buttonEl =\n",
              "          document.querySelector('#df-cf863c6b-c47a-4d11-a693-f995deb586d0 button.colab-df-convert');\n",
              "        buttonEl.style.display =\n",
              "          google.colab.kernel.accessAllowed ? 'block' : 'none';\n",
              "\n",
              "        async function convertToInteractive(key) {\n",
              "          const element = document.querySelector('#df-cf863c6b-c47a-4d11-a693-f995deb586d0');\n",
              "          const dataTable =\n",
              "            await google.colab.kernel.invokeFunction('convertToInteractive',\n",
              "                                                     [key], {});\n",
              "          if (!dataTable) return;\n",
              "\n",
              "          const docLinkHtml = 'Like what you see? Visit the ' +\n",
              "            '<a target=\"_blank\" href=https://colab.research.google.com/notebooks/data_table.ipynb>data table notebook</a>'\n",
              "            + ' to learn more about interactive tables.';\n",
              "          element.innerHTML = '';\n",
              "          dataTable['output_type'] = 'display_data';\n",
              "          await google.colab.output.renderOutput(dataTable, element);\n",
              "          const docLink = document.createElement('div');\n",
              "          docLink.innerHTML = docLinkHtml;\n",
              "          element.appendChild(docLink);\n",
              "        }\n",
              "      </script>\n",
              "    </div>\n",
              "  </div>\n",
              "  "
            ]
          },
          "metadata": {},
          "execution_count": 9
        }
      ]
    },
    {
      "cell_type": "markdown",
      "source": [
        "DEALING WITH CATEGORICAL VARIABLES"
      ],
      "metadata": {
        "id": "__7r2O7gOrcx"
      }
    },
    {
      "cell_type": "code",
      "source": [
        "# We notice that there are only two categorical varibales in the dataset. \"Geography and Gender\"\n",
        "\n",
        "dataset[\"Geography\"].value_counts()"
      ],
      "metadata": {
        "colab": {
          "base_uri": "https://localhost:8080/"
        },
        "id": "buC7Y22YOiPl",
        "outputId": "f3eac864-ae43-409d-9db3-b3280ca3c0bf"
      },
      "execution_count": null,
      "outputs": [
        {
          "output_type": "execute_result",
          "data": {
            "text/plain": [
              "France     5014\n",
              "Germany    2509\n",
              "Spain      2477\n",
              "Name: Geography, dtype: int64"
            ]
          },
          "metadata": {},
          "execution_count": 10
        }
      ]
    },
    {
      "cell_type": "code",
      "source": [
        "dataset['Gender'].value_counts()"
      ],
      "metadata": {
        "colab": {
          "base_uri": "https://localhost:8080/"
        },
        "id": "GfsjgnBlO-_n",
        "outputId": "f4632be1-6e9a-442c-f253-e001ff14ddcd"
      },
      "execution_count": null,
      "outputs": [
        {
          "output_type": "execute_result",
          "data": {
            "text/plain": [
              "Male      5457\n",
              "Female    4543\n",
              "Name: Gender, dtype: int64"
            ]
          },
          "metadata": {},
          "execution_count": 11
        }
      ]
    },
    {
      "cell_type": "code",
      "source": [
        "# We are going to encode the following categorical variables with label encoding.\n",
        "\n",
        "from sklearn.preprocessing import LabelEncoder"
      ],
      "metadata": {
        "id": "4n0rzdtTPCLU"
      },
      "execution_count": null,
      "outputs": []
    },
    {
      "cell_type": "code",
      "source": [
        "encoder = LabelEncoder()"
      ],
      "metadata": {
        "id": "Ny_lEgqOPP5F"
      },
      "execution_count": null,
      "outputs": []
    },
    {
      "cell_type": "code",
      "source": [
        "cat_feat_list = []\n",
        "\n",
        "for x in dataset.columns:\n",
        "  if type(dataset[x][0]) == str:\n",
        "    cat_feat_list.append(x)"
      ],
      "metadata": {
        "id": "u_Cgp7sWPTD3"
      },
      "execution_count": null,
      "outputs": []
    },
    {
      "cell_type": "code",
      "source": [
        "categorical_variables = pd.DataFrame()\n",
        "\n",
        "for x in cat_feat_list:\n",
        "  categorical_variables[x] = dataset[x]"
      ],
      "metadata": {
        "id": "Oy3fHkZ3PZgo"
      },
      "execution_count": null,
      "outputs": []
    },
    {
      "cell_type": "code",
      "source": [
        "for x in categorical_variables.columns:\n",
        "  categorical_variables[x] = encoder.fit_transform(categorical_variables[x].values)"
      ],
      "metadata": {
        "id": "2cIzqqLSPvED"
      },
      "execution_count": null,
      "outputs": []
    },
    {
      "cell_type": "code",
      "source": [
        "categorical_variables[\"Geography\"].value_counts() "
      ],
      "metadata": {
        "colab": {
          "base_uri": "https://localhost:8080/"
        },
        "id": "5sFutkuQQ7NU",
        "outputId": "857c35bd-7494-41cc-c665-e20f93a0a98e"
      },
      "execution_count": null,
      "outputs": [
        {
          "output_type": "execute_result",
          "data": {
            "text/plain": [
              "0    5014\n",
              "1    2509\n",
              "2    2477\n",
              "Name: Geography, dtype: int64"
            ]
          },
          "metadata": {},
          "execution_count": 17
        }
      ]
    },
    {
      "cell_type": "code",
      "source": [
        "# Seperating features and labels in the dataset\n",
        "\n",
        "X = dataset.drop(\"Exited\",axis=1)\n",
        "y = dataset[\"Exited\"]"
      ],
      "metadata": {
        "id": "1-EB1urQP7JO"
      },
      "execution_count": null,
      "outputs": []
    },
    {
      "cell_type": "code",
      "source": [
        "# Replacing the categorical varibles in the datset with encoded values \n",
        "\n",
        "for x in categorical_variables.columns:\n",
        "  X[x] = categorical_variables[x]"
      ],
      "metadata": {
        "id": "mjRmQ8ek9gsx"
      },
      "execution_count": null,
      "outputs": []
    },
    {
      "cell_type": "code",
      "source": [
        "dataset.head()"
      ],
      "metadata": {
        "colab": {
          "base_uri": "https://localhost:8080/",
          "height": 204
        },
        "id": "44er2zT8RBPh",
        "outputId": "e0626ff8-39e7-45ad-ee38-3275697f2fcd"
      },
      "execution_count": null,
      "outputs": [
        {
          "output_type": "execute_result",
          "data": {
            "text/plain": [
              "   CreditScore Geography  Gender  Age  Tenure    Balance  NumOfProducts  \\\n",
              "0          619    France  Female   42       2       0.00              1   \n",
              "1          608     Spain  Female   41       1   83807.86              1   \n",
              "2          502    France  Female   42       8  159660.80              3   \n",
              "3          699    France  Female   39       1       0.00              2   \n",
              "4          850     Spain  Female   43       2  125510.82              1   \n",
              "\n",
              "   HasCrCard  IsActiveMember  EstimatedSalary  Exited  \n",
              "0          1               1        101348.88       1  \n",
              "1          0               1        112542.58       0  \n",
              "2          1               0        113931.57       1  \n",
              "3          0               0         93826.63       0  \n",
              "4          1               1         79084.10       0  "
            ],
            "text/html": [
              "\n",
              "  <div id=\"df-f17d87fc-9397-4d3d-9f6d-e92e02fd27f1\">\n",
              "    <div class=\"colab-df-container\">\n",
              "      <div>\n",
              "<style scoped>\n",
              "    .dataframe tbody tr th:only-of-type {\n",
              "        vertical-align: middle;\n",
              "    }\n",
              "\n",
              "    .dataframe tbody tr th {\n",
              "        vertical-align: top;\n",
              "    }\n",
              "\n",
              "    .dataframe thead th {\n",
              "        text-align: right;\n",
              "    }\n",
              "</style>\n",
              "<table border=\"1\" class=\"dataframe\">\n",
              "  <thead>\n",
              "    <tr style=\"text-align: right;\">\n",
              "      <th></th>\n",
              "      <th>CreditScore</th>\n",
              "      <th>Geography</th>\n",
              "      <th>Gender</th>\n",
              "      <th>Age</th>\n",
              "      <th>Tenure</th>\n",
              "      <th>Balance</th>\n",
              "      <th>NumOfProducts</th>\n",
              "      <th>HasCrCard</th>\n",
              "      <th>IsActiveMember</th>\n",
              "      <th>EstimatedSalary</th>\n",
              "      <th>Exited</th>\n",
              "    </tr>\n",
              "  </thead>\n",
              "  <tbody>\n",
              "    <tr>\n",
              "      <th>0</th>\n",
              "      <td>619</td>\n",
              "      <td>France</td>\n",
              "      <td>Female</td>\n",
              "      <td>42</td>\n",
              "      <td>2</td>\n",
              "      <td>0.00</td>\n",
              "      <td>1</td>\n",
              "      <td>1</td>\n",
              "      <td>1</td>\n",
              "      <td>101348.88</td>\n",
              "      <td>1</td>\n",
              "    </tr>\n",
              "    <tr>\n",
              "      <th>1</th>\n",
              "      <td>608</td>\n",
              "      <td>Spain</td>\n",
              "      <td>Female</td>\n",
              "      <td>41</td>\n",
              "      <td>1</td>\n",
              "      <td>83807.86</td>\n",
              "      <td>1</td>\n",
              "      <td>0</td>\n",
              "      <td>1</td>\n",
              "      <td>112542.58</td>\n",
              "      <td>0</td>\n",
              "    </tr>\n",
              "    <tr>\n",
              "      <th>2</th>\n",
              "      <td>502</td>\n",
              "      <td>France</td>\n",
              "      <td>Female</td>\n",
              "      <td>42</td>\n",
              "      <td>8</td>\n",
              "      <td>159660.80</td>\n",
              "      <td>3</td>\n",
              "      <td>1</td>\n",
              "      <td>0</td>\n",
              "      <td>113931.57</td>\n",
              "      <td>1</td>\n",
              "    </tr>\n",
              "    <tr>\n",
              "      <th>3</th>\n",
              "      <td>699</td>\n",
              "      <td>France</td>\n",
              "      <td>Female</td>\n",
              "      <td>39</td>\n",
              "      <td>1</td>\n",
              "      <td>0.00</td>\n",
              "      <td>2</td>\n",
              "      <td>0</td>\n",
              "      <td>0</td>\n",
              "      <td>93826.63</td>\n",
              "      <td>0</td>\n",
              "    </tr>\n",
              "    <tr>\n",
              "      <th>4</th>\n",
              "      <td>850</td>\n",
              "      <td>Spain</td>\n",
              "      <td>Female</td>\n",
              "      <td>43</td>\n",
              "      <td>2</td>\n",
              "      <td>125510.82</td>\n",
              "      <td>1</td>\n",
              "      <td>1</td>\n",
              "      <td>1</td>\n",
              "      <td>79084.10</td>\n",
              "      <td>0</td>\n",
              "    </tr>\n",
              "  </tbody>\n",
              "</table>\n",
              "</div>\n",
              "      <button class=\"colab-df-convert\" onclick=\"convertToInteractive('df-f17d87fc-9397-4d3d-9f6d-e92e02fd27f1')\"\n",
              "              title=\"Convert this dataframe to an interactive table.\"\n",
              "              style=\"display:none;\">\n",
              "        \n",
              "  <svg xmlns=\"http://www.w3.org/2000/svg\" height=\"24px\"viewBox=\"0 0 24 24\"\n",
              "       width=\"24px\">\n",
              "    <path d=\"M0 0h24v24H0V0z\" fill=\"none\"/>\n",
              "    <path d=\"M18.56 5.44l.94 2.06.94-2.06 2.06-.94-2.06-.94-.94-2.06-.94 2.06-2.06.94zm-11 1L8.5 8.5l.94-2.06 2.06-.94-2.06-.94L8.5 2.5l-.94 2.06-2.06.94zm10 10l.94 2.06.94-2.06 2.06-.94-2.06-.94-.94-2.06-.94 2.06-2.06.94z\"/><path d=\"M17.41 7.96l-1.37-1.37c-.4-.4-.92-.59-1.43-.59-.52 0-1.04.2-1.43.59L10.3 9.45l-7.72 7.72c-.78.78-.78 2.05 0 2.83L4 21.41c.39.39.9.59 1.41.59.51 0 1.02-.2 1.41-.59l7.78-7.78 2.81-2.81c.8-.78.8-2.07 0-2.86zM5.41 20L4 18.59l7.72-7.72 1.47 1.35L5.41 20z\"/>\n",
              "  </svg>\n",
              "      </button>\n",
              "      \n",
              "  <style>\n",
              "    .colab-df-container {\n",
              "      display:flex;\n",
              "      flex-wrap:wrap;\n",
              "      gap: 12px;\n",
              "    }\n",
              "\n",
              "    .colab-df-convert {\n",
              "      background-color: #E8F0FE;\n",
              "      border: none;\n",
              "      border-radius: 50%;\n",
              "      cursor: pointer;\n",
              "      display: none;\n",
              "      fill: #1967D2;\n",
              "      height: 32px;\n",
              "      padding: 0 0 0 0;\n",
              "      width: 32px;\n",
              "    }\n",
              "\n",
              "    .colab-df-convert:hover {\n",
              "      background-color: #E2EBFA;\n",
              "      box-shadow: 0px 1px 2px rgba(60, 64, 67, 0.3), 0px 1px 3px 1px rgba(60, 64, 67, 0.15);\n",
              "      fill: #174EA6;\n",
              "    }\n",
              "\n",
              "    [theme=dark] .colab-df-convert {\n",
              "      background-color: #3B4455;\n",
              "      fill: #D2E3FC;\n",
              "    }\n",
              "\n",
              "    [theme=dark] .colab-df-convert:hover {\n",
              "      background-color: #434B5C;\n",
              "      box-shadow: 0px 1px 3px 1px rgba(0, 0, 0, 0.15);\n",
              "      filter: drop-shadow(0px 1px 2px rgba(0, 0, 0, 0.3));\n",
              "      fill: #FFFFFF;\n",
              "    }\n",
              "  </style>\n",
              "\n",
              "      <script>\n",
              "        const buttonEl =\n",
              "          document.querySelector('#df-f17d87fc-9397-4d3d-9f6d-e92e02fd27f1 button.colab-df-convert');\n",
              "        buttonEl.style.display =\n",
              "          google.colab.kernel.accessAllowed ? 'block' : 'none';\n",
              "\n",
              "        async function convertToInteractive(key) {\n",
              "          const element = document.querySelector('#df-f17d87fc-9397-4d3d-9f6d-e92e02fd27f1');\n",
              "          const dataTable =\n",
              "            await google.colab.kernel.invokeFunction('convertToInteractive',\n",
              "                                                     [key], {});\n",
              "          if (!dataTable) return;\n",
              "\n",
              "          const docLinkHtml = 'Like what you see? Visit the ' +\n",
              "            '<a target=\"_blank\" href=https://colab.research.google.com/notebooks/data_table.ipynb>data table notebook</a>'\n",
              "            + ' to learn more about interactive tables.';\n",
              "          element.innerHTML = '';\n",
              "          dataTable['output_type'] = 'display_data';\n",
              "          await google.colab.output.renderOutput(dataTable, element);\n",
              "          const docLink = document.createElement('div');\n",
              "          docLink.innerHTML = docLinkHtml;\n",
              "          element.appendChild(docLink);\n",
              "        }\n",
              "      </script>\n",
              "    </div>\n",
              "  </div>\n",
              "  "
            ]
          },
          "metadata": {},
          "execution_count": 20
        }
      ]
    },
    {
      "cell_type": "code",
      "source": [
        "dataset.info()"
      ],
      "metadata": {
        "id": "CqRIwwt98d1U",
        "colab": {
          "base_uri": "https://localhost:8080/"
        },
        "outputId": "e5ff64be-0b2f-45c3-d196-854d8208251f"
      },
      "execution_count": null,
      "outputs": [
        {
          "output_type": "stream",
          "name": "stdout",
          "text": [
            "<class 'pandas.core.frame.DataFrame'>\n",
            "RangeIndex: 10000 entries, 0 to 9999\n",
            "Data columns (total 11 columns):\n",
            " #   Column           Non-Null Count  Dtype  \n",
            "---  ------           --------------  -----  \n",
            " 0   CreditScore      10000 non-null  int64  \n",
            " 1   Geography        10000 non-null  object \n",
            " 2   Gender           10000 non-null  object \n",
            " 3   Age              10000 non-null  int64  \n",
            " 4   Tenure           10000 non-null  int64  \n",
            " 5   Balance          10000 non-null  float64\n",
            " 6   NumOfProducts    10000 non-null  int64  \n",
            " 7   HasCrCard        10000 non-null  int64  \n",
            " 8   IsActiveMember   10000 non-null  int64  \n",
            " 9   EstimatedSalary  10000 non-null  float64\n",
            " 10  Exited           10000 non-null  int64  \n",
            "dtypes: float64(2), int64(7), object(2)\n",
            "memory usage: 859.5+ KB\n"
          ]
        }
      ]
    },
    {
      "cell_type": "code",
      "source": [
        "from sklearn.preprocessing import StandardScaler"
      ],
      "metadata": {
        "id": "RvEwuFwQA1Jf"
      },
      "execution_count": null,
      "outputs": []
    },
    {
      "cell_type": "code",
      "source": [
        "scaler = StandardScaler()"
      ],
      "metadata": {
        "id": "PA1PHaX4BLWp"
      },
      "execution_count": null,
      "outputs": []
    },
    {
      "cell_type": "code",
      "source": [
        "scaled_df = pd.DataFrame(scaler.fit_transform(X),columns=X.columns)"
      ],
      "metadata": {
        "id": "jO-BcZ0bBQmO"
      },
      "execution_count": null,
      "outputs": []
    },
    {
      "cell_type": "code",
      "source": [
        "scaled_df.head()"
      ],
      "metadata": {
        "colab": {
          "base_uri": "https://localhost:8080/",
          "height": 204
        },
        "id": "AeliwqkUBWk1",
        "outputId": "7b0db2f8-efb6-4fad-fecc-a84174abefdf"
      },
      "execution_count": null,
      "outputs": [
        {
          "output_type": "execute_result",
          "data": {
            "text/plain": [
              "   CreditScore  Geography    Gender       Age    Tenure   Balance  \\\n",
              "0    -0.326221  -0.901886 -1.095988  0.293517 -1.041760 -1.225848   \n",
              "1    -0.440036   1.515067 -1.095988  0.198164 -1.387538  0.117350   \n",
              "2    -1.536794  -0.901886 -1.095988  0.293517  1.032908  1.333053   \n",
              "3     0.501521  -0.901886 -1.095988  0.007457 -1.387538 -1.225848   \n",
              "4     2.063884   1.515067 -1.095988  0.388871 -1.041760  0.785728   \n",
              "\n",
              "   NumOfProducts  HasCrCard  IsActiveMember  EstimatedSalary  \n",
              "0      -0.911583   0.646092        0.970243         0.021886  \n",
              "1      -0.911583  -1.547768        0.970243         0.216534  \n",
              "2       2.527057   0.646092       -1.030670         0.240687  \n",
              "3       0.807737  -1.547768       -1.030670        -0.108918  \n",
              "4      -0.911583   0.646092        0.970243        -0.365276  "
            ],
            "text/html": [
              "\n",
              "  <div id=\"df-4bf1df56-2231-4a15-bec9-3d0b88cd901e\">\n",
              "    <div class=\"colab-df-container\">\n",
              "      <div>\n",
              "<style scoped>\n",
              "    .dataframe tbody tr th:only-of-type {\n",
              "        vertical-align: middle;\n",
              "    }\n",
              "\n",
              "    .dataframe tbody tr th {\n",
              "        vertical-align: top;\n",
              "    }\n",
              "\n",
              "    .dataframe thead th {\n",
              "        text-align: right;\n",
              "    }\n",
              "</style>\n",
              "<table border=\"1\" class=\"dataframe\">\n",
              "  <thead>\n",
              "    <tr style=\"text-align: right;\">\n",
              "      <th></th>\n",
              "      <th>CreditScore</th>\n",
              "      <th>Geography</th>\n",
              "      <th>Gender</th>\n",
              "      <th>Age</th>\n",
              "      <th>Tenure</th>\n",
              "      <th>Balance</th>\n",
              "      <th>NumOfProducts</th>\n",
              "      <th>HasCrCard</th>\n",
              "      <th>IsActiveMember</th>\n",
              "      <th>EstimatedSalary</th>\n",
              "    </tr>\n",
              "  </thead>\n",
              "  <tbody>\n",
              "    <tr>\n",
              "      <th>0</th>\n",
              "      <td>-0.326221</td>\n",
              "      <td>-0.901886</td>\n",
              "      <td>-1.095988</td>\n",
              "      <td>0.293517</td>\n",
              "      <td>-1.041760</td>\n",
              "      <td>-1.225848</td>\n",
              "      <td>-0.911583</td>\n",
              "      <td>0.646092</td>\n",
              "      <td>0.970243</td>\n",
              "      <td>0.021886</td>\n",
              "    </tr>\n",
              "    <tr>\n",
              "      <th>1</th>\n",
              "      <td>-0.440036</td>\n",
              "      <td>1.515067</td>\n",
              "      <td>-1.095988</td>\n",
              "      <td>0.198164</td>\n",
              "      <td>-1.387538</td>\n",
              "      <td>0.117350</td>\n",
              "      <td>-0.911583</td>\n",
              "      <td>-1.547768</td>\n",
              "      <td>0.970243</td>\n",
              "      <td>0.216534</td>\n",
              "    </tr>\n",
              "    <tr>\n",
              "      <th>2</th>\n",
              "      <td>-1.536794</td>\n",
              "      <td>-0.901886</td>\n",
              "      <td>-1.095988</td>\n",
              "      <td>0.293517</td>\n",
              "      <td>1.032908</td>\n",
              "      <td>1.333053</td>\n",
              "      <td>2.527057</td>\n",
              "      <td>0.646092</td>\n",
              "      <td>-1.030670</td>\n",
              "      <td>0.240687</td>\n",
              "    </tr>\n",
              "    <tr>\n",
              "      <th>3</th>\n",
              "      <td>0.501521</td>\n",
              "      <td>-0.901886</td>\n",
              "      <td>-1.095988</td>\n",
              "      <td>0.007457</td>\n",
              "      <td>-1.387538</td>\n",
              "      <td>-1.225848</td>\n",
              "      <td>0.807737</td>\n",
              "      <td>-1.547768</td>\n",
              "      <td>-1.030670</td>\n",
              "      <td>-0.108918</td>\n",
              "    </tr>\n",
              "    <tr>\n",
              "      <th>4</th>\n",
              "      <td>2.063884</td>\n",
              "      <td>1.515067</td>\n",
              "      <td>-1.095988</td>\n",
              "      <td>0.388871</td>\n",
              "      <td>-1.041760</td>\n",
              "      <td>0.785728</td>\n",
              "      <td>-0.911583</td>\n",
              "      <td>0.646092</td>\n",
              "      <td>0.970243</td>\n",
              "      <td>-0.365276</td>\n",
              "    </tr>\n",
              "  </tbody>\n",
              "</table>\n",
              "</div>\n",
              "      <button class=\"colab-df-convert\" onclick=\"convertToInteractive('df-4bf1df56-2231-4a15-bec9-3d0b88cd901e')\"\n",
              "              title=\"Convert this dataframe to an interactive table.\"\n",
              "              style=\"display:none;\">\n",
              "        \n",
              "  <svg xmlns=\"http://www.w3.org/2000/svg\" height=\"24px\"viewBox=\"0 0 24 24\"\n",
              "       width=\"24px\">\n",
              "    <path d=\"M0 0h24v24H0V0z\" fill=\"none\"/>\n",
              "    <path d=\"M18.56 5.44l.94 2.06.94-2.06 2.06-.94-2.06-.94-.94-2.06-.94 2.06-2.06.94zm-11 1L8.5 8.5l.94-2.06 2.06-.94-2.06-.94L8.5 2.5l-.94 2.06-2.06.94zm10 10l.94 2.06.94-2.06 2.06-.94-2.06-.94-.94-2.06-.94 2.06-2.06.94z\"/><path d=\"M17.41 7.96l-1.37-1.37c-.4-.4-.92-.59-1.43-.59-.52 0-1.04.2-1.43.59L10.3 9.45l-7.72 7.72c-.78.78-.78 2.05 0 2.83L4 21.41c.39.39.9.59 1.41.59.51 0 1.02-.2 1.41-.59l7.78-7.78 2.81-2.81c.8-.78.8-2.07 0-2.86zM5.41 20L4 18.59l7.72-7.72 1.47 1.35L5.41 20z\"/>\n",
              "  </svg>\n",
              "      </button>\n",
              "      \n",
              "  <style>\n",
              "    .colab-df-container {\n",
              "      display:flex;\n",
              "      flex-wrap:wrap;\n",
              "      gap: 12px;\n",
              "    }\n",
              "\n",
              "    .colab-df-convert {\n",
              "      background-color: #E8F0FE;\n",
              "      border: none;\n",
              "      border-radius: 50%;\n",
              "      cursor: pointer;\n",
              "      display: none;\n",
              "      fill: #1967D2;\n",
              "      height: 32px;\n",
              "      padding: 0 0 0 0;\n",
              "      width: 32px;\n",
              "    }\n",
              "\n",
              "    .colab-df-convert:hover {\n",
              "      background-color: #E2EBFA;\n",
              "      box-shadow: 0px 1px 2px rgba(60, 64, 67, 0.3), 0px 1px 3px 1px rgba(60, 64, 67, 0.15);\n",
              "      fill: #174EA6;\n",
              "    }\n",
              "\n",
              "    [theme=dark] .colab-df-convert {\n",
              "      background-color: #3B4455;\n",
              "      fill: #D2E3FC;\n",
              "    }\n",
              "\n",
              "    [theme=dark] .colab-df-convert:hover {\n",
              "      background-color: #434B5C;\n",
              "      box-shadow: 0px 1px 3px 1px rgba(0, 0, 0, 0.15);\n",
              "      filter: drop-shadow(0px 1px 2px rgba(0, 0, 0, 0.3));\n",
              "      fill: #FFFFFF;\n",
              "    }\n",
              "  </style>\n",
              "\n",
              "      <script>\n",
              "        const buttonEl =\n",
              "          document.querySelector('#df-4bf1df56-2231-4a15-bec9-3d0b88cd901e button.colab-df-convert');\n",
              "        buttonEl.style.display =\n",
              "          google.colab.kernel.accessAllowed ? 'block' : 'none';\n",
              "\n",
              "        async function convertToInteractive(key) {\n",
              "          const element = document.querySelector('#df-4bf1df56-2231-4a15-bec9-3d0b88cd901e');\n",
              "          const dataTable =\n",
              "            await google.colab.kernel.invokeFunction('convertToInteractive',\n",
              "                                                     [key], {});\n",
              "          if (!dataTable) return;\n",
              "\n",
              "          const docLinkHtml = 'Like what you see? Visit the ' +\n",
              "            '<a target=\"_blank\" href=https://colab.research.google.com/notebooks/data_table.ipynb>data table notebook</a>'\n",
              "            + ' to learn more about interactive tables.';\n",
              "          element.innerHTML = '';\n",
              "          dataTable['output_type'] = 'display_data';\n",
              "          await google.colab.output.renderOutput(dataTable, element);\n",
              "          const docLink = document.createElement('div');\n",
              "          docLink.innerHTML = docLinkHtml;\n",
              "          element.appendChild(docLink);\n",
              "        }\n",
              "      </script>\n",
              "    </div>\n",
              "  </div>\n",
              "  "
            ]
          },
          "metadata": {},
          "execution_count": 25
        }
      ]
    },
    {
      "cell_type": "code",
      "source": [
        "y"
      ],
      "metadata": {
        "colab": {
          "base_uri": "https://localhost:8080/"
        },
        "id": "PKaNPuvjPwiU",
        "outputId": "0b2c6a58-ae38-4a0a-fa76-12c43ecf5cee"
      },
      "execution_count": null,
      "outputs": [
        {
          "output_type": "execute_result",
          "data": {
            "text/plain": [
              "0       1\n",
              "1       0\n",
              "2       1\n",
              "3       0\n",
              "4       0\n",
              "       ..\n",
              "9995    0\n",
              "9996    0\n",
              "9997    1\n",
              "9998    1\n",
              "9999    0\n",
              "Name: Exited, Length: 10000, dtype: int64"
            ]
          },
          "metadata": {},
          "execution_count": 26
        }
      ]
    },
    {
      "cell_type": "code",
      "source": [
        "# Splitting the dataset into train and test sets\n",
        "\n",
        "from sklearn.model_selection import train_test_split \n",
        "\n",
        "train_X,test_x,train_y,test_y = train_test_split(scaled_df,y,test_size=0.28,random_state=101)"
      ],
      "metadata": {
        "id": "D32_gLsjQ_uh"
      },
      "execution_count": null,
      "outputs": []
    },
    {
      "cell_type": "code",
      "source": [
        "print(train_X.shape, test_x.shape, train_y.shape, test_y.shape)"
      ],
      "metadata": {
        "colab": {
          "base_uri": "https://localhost:8080/"
        },
        "id": "dITjj_nbVD5X",
        "outputId": "ca03af68-304a-426c-e701-f519a52a10f3"
      },
      "execution_count": null,
      "outputs": [
        {
          "output_type": "stream",
          "name": "stdout",
          "text": [
            "(7199, 10) (2801, 10) (7199,) (2801,)\n"
          ]
        }
      ]
    },
    {
      "cell_type": "code",
      "source": [
        "import keras \n",
        "\n",
        "from keras.models import Sequential \n",
        "\n",
        "from keras.layers import Dense\n",
        "from keras.layers import Dropout \n",
        "from keras.layers import PReLU, LeakyReLU"
      ],
      "metadata": {
        "id": "9N5yGaD9VMJG"
      },
      "execution_count": null,
      "outputs": []
    },
    {
      "cell_type": "code",
      "source": [
        "classifier = Sequential()"
      ],
      "metadata": {
        "id": "aR7wlOAZWRuX"
      },
      "execution_count": null,
      "outputs": []
    },
    {
      "cell_type": "code",
      "source": [
        "# Adding the input and first hidden layer\n",
        "classifier.add(Dense(12,kernel_initializer=\"he_normal\",activation=\"relu\"))\n",
        "\n",
        "# Adding the second hidden layer\n",
        "classifier.add(Dense(12,kernel_initializer=\"he_normal\",activation=\"relu\"))\n",
        "\n",
        "# Adding a dropout layer\n",
        "classifier.add(Dropout(0.7))\n",
        "\n",
        "# Adding the third hidden layer\n",
        "classifier.add(Dense(12,kernel_initializer=\"he_normal\",activation=\"relu\"))\n",
        "\n",
        "# Adding the output layer\n",
        "classifier.add(Dense(1,kernel_initializer=\"glorot_uniform\",activation=\"sigmoid\"))"
      ],
      "metadata": {
        "id": "Xbw0xN9GWeOz"
      },
      "execution_count": null,
      "outputs": []
    },
    {
      "cell_type": "code",
      "source": [
        "classifier.compile(optimizer=\"adam\",loss=\"binary_crossentropy\",metrics=[\"accuracy\"])"
      ],
      "metadata": {
        "id": "HMev4LBkeTgF"
      },
      "execution_count": null,
      "outputs": []
    },
    {
      "cell_type": "code",
      "source": [
        "# Feeding data to artificial neural network\n",
        "\n",
        "model = classifier.fit(train_X,train_y,validation_split=0.30,batch_size=10,epochs=35)"
      ],
      "metadata": {
        "colab": {
          "base_uri": "https://localhost:8080/"
        },
        "id": "HDydhTSofWWU",
        "outputId": "cafc9023-8d57-4172-e83c-bf3e5f3c2119"
      },
      "execution_count": null,
      "outputs": [
        {
          "output_type": "stream",
          "name": "stdout",
          "text": [
            "Epoch 1/35\n",
            "504/504 [==============================] - 2s 4ms/step - loss: 0.6362 - accuracy: 0.7371 - val_loss: 0.4868 - val_accuracy: 0.8037\n",
            "Epoch 2/35\n",
            "504/504 [==============================] - 2s 3ms/step - loss: 0.5133 - accuracy: 0.7930 - val_loss: 0.4729 - val_accuracy: 0.8037\n",
            "Epoch 3/35\n",
            "504/504 [==============================] - 2s 3ms/step - loss: 0.4942 - accuracy: 0.7952 - val_loss: 0.4633 - val_accuracy: 0.8028\n",
            "Epoch 4/35\n",
            "504/504 [==============================] - 2s 3ms/step - loss: 0.4825 - accuracy: 0.7956 - val_loss: 0.4532 - val_accuracy: 0.8060\n",
            "Epoch 5/35\n",
            "504/504 [==============================] - 2s 3ms/step - loss: 0.4686 - accuracy: 0.8010 - val_loss: 0.4400 - val_accuracy: 0.8097\n",
            "Epoch 6/35\n",
            "504/504 [==============================] - 2s 3ms/step - loss: 0.4680 - accuracy: 0.7992 - val_loss: 0.4361 - val_accuracy: 0.8116\n",
            "Epoch 7/35\n",
            "504/504 [==============================] - 2s 3ms/step - loss: 0.4530 - accuracy: 0.8119 - val_loss: 0.4311 - val_accuracy: 0.8116\n",
            "Epoch 8/35\n",
            "504/504 [==============================] - 2s 3ms/step - loss: 0.4481 - accuracy: 0.8123 - val_loss: 0.4251 - val_accuracy: 0.8148\n",
            "Epoch 9/35\n",
            "504/504 [==============================] - 2s 3ms/step - loss: 0.4419 - accuracy: 0.8164 - val_loss: 0.4209 - val_accuracy: 0.8171\n",
            "Epoch 10/35\n",
            "504/504 [==============================] - 2s 3ms/step - loss: 0.4363 - accuracy: 0.8154 - val_loss: 0.4158 - val_accuracy: 0.8176\n",
            "Epoch 11/35\n",
            "504/504 [==============================] - 2s 3ms/step - loss: 0.4300 - accuracy: 0.8244 - val_loss: 0.4096 - val_accuracy: 0.8190\n",
            "Epoch 12/35\n",
            "504/504 [==============================] - 2s 3ms/step - loss: 0.4273 - accuracy: 0.8226 - val_loss: 0.4105 - val_accuracy: 0.8194\n",
            "Epoch 13/35\n",
            "504/504 [==============================] - 2s 3ms/step - loss: 0.4242 - accuracy: 0.8254 - val_loss: 0.4106 - val_accuracy: 0.8194\n",
            "Epoch 14/35\n",
            "504/504 [==============================] - 2s 3ms/step - loss: 0.4169 - accuracy: 0.8279 - val_loss: 0.4062 - val_accuracy: 0.8218\n",
            "Epoch 15/35\n",
            "504/504 [==============================] - 2s 3ms/step - loss: 0.4126 - accuracy: 0.8323 - val_loss: 0.4048 - val_accuracy: 0.8208\n",
            "Epoch 16/35\n",
            "504/504 [==============================] - 2s 4ms/step - loss: 0.4042 - accuracy: 0.8281 - val_loss: 0.4011 - val_accuracy: 0.8213\n",
            "Epoch 17/35\n",
            "504/504 [==============================] - 2s 4ms/step - loss: 0.4036 - accuracy: 0.8369 - val_loss: 0.4020 - val_accuracy: 0.8208\n",
            "Epoch 18/35\n",
            "504/504 [==============================] - 2s 3ms/step - loss: 0.4011 - accuracy: 0.8327 - val_loss: 0.4023 - val_accuracy: 0.8208\n",
            "Epoch 19/35\n",
            "504/504 [==============================] - 2s 3ms/step - loss: 0.3980 - accuracy: 0.8341 - val_loss: 0.3972 - val_accuracy: 0.8208\n",
            "Epoch 20/35\n",
            "504/504 [==============================] - 2s 3ms/step - loss: 0.4025 - accuracy: 0.8331 - val_loss: 0.3980 - val_accuracy: 0.8199\n",
            "Epoch 21/35\n",
            "504/504 [==============================] - 2s 3ms/step - loss: 0.3979 - accuracy: 0.8341 - val_loss: 0.4009 - val_accuracy: 0.8208\n",
            "Epoch 22/35\n",
            "504/504 [==============================] - 2s 3ms/step - loss: 0.4017 - accuracy: 0.8345 - val_loss: 0.3981 - val_accuracy: 0.8204\n",
            "Epoch 23/35\n",
            "504/504 [==============================] - 2s 3ms/step - loss: 0.4015 - accuracy: 0.8317 - val_loss: 0.4043 - val_accuracy: 0.8208\n",
            "Epoch 24/35\n",
            "504/504 [==============================] - 2s 3ms/step - loss: 0.4004 - accuracy: 0.8331 - val_loss: 0.4030 - val_accuracy: 0.8204\n",
            "Epoch 25/35\n",
            "504/504 [==============================] - 2s 3ms/step - loss: 0.3948 - accuracy: 0.8345 - val_loss: 0.4009 - val_accuracy: 0.8204\n",
            "Epoch 26/35\n",
            "504/504 [==============================] - 2s 3ms/step - loss: 0.3921 - accuracy: 0.8381 - val_loss: 0.3918 - val_accuracy: 0.8208\n",
            "Epoch 27/35\n",
            "504/504 [==============================] - 2s 3ms/step - loss: 0.3945 - accuracy: 0.8367 - val_loss: 0.4035 - val_accuracy: 0.8208\n",
            "Epoch 28/35\n",
            "504/504 [==============================] - 2s 3ms/step - loss: 0.3873 - accuracy: 0.8393 - val_loss: 0.4082 - val_accuracy: 0.8204\n",
            "Epoch 29/35\n",
            "504/504 [==============================] - 2s 3ms/step - loss: 0.3862 - accuracy: 0.8416 - val_loss: 0.4080 - val_accuracy: 0.8227\n",
            "Epoch 30/35\n",
            "504/504 [==============================] - 2s 3ms/step - loss: 0.3843 - accuracy: 0.8426 - val_loss: 0.3986 - val_accuracy: 0.8255\n",
            "Epoch 31/35\n",
            "504/504 [==============================] - 2s 3ms/step - loss: 0.3912 - accuracy: 0.8369 - val_loss: 0.4091 - val_accuracy: 0.8204\n",
            "Epoch 32/35\n",
            "504/504 [==============================] - 2s 3ms/step - loss: 0.3887 - accuracy: 0.8375 - val_loss: 0.4056 - val_accuracy: 0.8208\n",
            "Epoch 33/35\n",
            "504/504 [==============================] - 2s 3ms/step - loss: 0.3833 - accuracy: 0.8402 - val_loss: 0.4090 - val_accuracy: 0.8204\n",
            "Epoch 34/35\n",
            "504/504 [==============================] - 3s 5ms/step - loss: 0.3813 - accuracy: 0.8424 - val_loss: 0.4072 - val_accuracy: 0.8222\n",
            "Epoch 35/35\n",
            "504/504 [==============================] - 3s 6ms/step - loss: 0.3875 - accuracy: 0.8379 - val_loss: 0.4136 - val_accuracy: 0.8204\n"
          ]
        }
      ]
    },
    {
      "cell_type": "code",
      "source": [
        "print(model.history.keys())"
      ],
      "metadata": {
        "colab": {
          "base_uri": "https://localhost:8080/"
        },
        "id": "p9TnghwRgdLj",
        "outputId": "eab6e5a4-2e3c-45f1-9fc3-1163489487ba"
      },
      "execution_count": null,
      "outputs": [
        {
          "output_type": "stream",
          "name": "stdout",
          "text": [
            "dict_keys(['loss', 'accuracy', 'val_loss', 'val_accuracy'])\n"
          ]
        }
      ]
    },
    {
      "cell_type": "code",
      "source": [
        "import matplotlib.pyplot as plt "
      ],
      "metadata": {
        "id": "hpYCEYYfgeBm"
      },
      "execution_count": null,
      "outputs": []
    },
    {
      "cell_type": "code",
      "source": [
        "plt.plot(model.history['accuracy'])\n",
        "plt.plot(model.history['val_accuracy'])\n",
        "\n",
        "plt.legend()"
      ],
      "metadata": {
        "colab": {
          "base_uri": "https://localhost:8080/",
          "height": 299
        },
        "id": "fQ5gNcSejD6r",
        "outputId": "627a6425-d756-43da-8bb6-c95e040120f4"
      },
      "execution_count": null,
      "outputs": [
        {
          "output_type": "stream",
          "name": "stderr",
          "text": [
            "No handles with labels found to put in legend.\n"
          ]
        },
        {
          "output_type": "execute_result",
          "data": {
            "text/plain": [
              "<matplotlib.legend.Legend at 0x7fd147bb5e10>"
            ]
          },
          "metadata": {},
          "execution_count": 79
        },
        {
          "output_type": "display_data",
          "data": {
            "text/plain": [
              "<Figure size 432x288 with 1 Axes>"
            ],
            "image/png": "[encoded data removed]"
          },
          "metadata": {
            "needs_background": "light"
          }
        }
      ]
    },
    {
      "cell_type": "code",
      "source": [
        "plt.plot(model.history['loss'])\n",
        "plt.plot(model.history['val_loss'])\n",
        "\n",
        "plt.legend()\n",
        "plt.xlabel(\"epoch\")\n",
        "plt.ylabel(\"loss\")"
      ],
      "metadata": {
        "colab": {
          "base_uri": "https://localhost:8080/",
          "height": 313
        },
        "id": "5s1KdmoUjOrd",
        "outputId": "950a1430-c1be-40d6-cba5-50245114a959"
      },
      "execution_count": null,
      "outputs": [
        {
          "output_type": "stream",
          "name": "stderr",
          "text": [
            "No handles with labels found to put in legend.\n"
          ]
        },
        {
          "output_type": "execute_result",
          "data": {
            "text/plain": [
              "Text(0, 0.5, 'loss')"
            ]
          },
          "metadata": {},
          "execution_count": 80
        },
        {
          "output_type": "display_data",
          "data": {
            "text/plain": [
              "<Figure size 432x288 with 1 Axes>"
            ],
            "image/png": "[encoded data removed]"
          },
          "metadata": {
            "needs_background": "light"
          }
        }
      ]
    },
    {
      "cell_type": "code",
      "source": [
        "# Prediction of test features\n",
        "\n",
        "predictions = classifier.predict(test_x)\n",
        "predictions = (predictions>0.5)"
      ],
      "metadata": {
        "id": "xcvflxPgjohD"
      },
      "execution_count": null,
      "outputs": []
    },
    {
      "cell_type": "code",
      "source": [
        "from sklearn.metrics import accuracy_score"
      ],
      "metadata": {
        "id": "e_ZkgT9rkUDG"
      },
      "execution_count": null,
      "outputs": []
    },
    {
      "cell_type": "code",
      "source": [
        ""
      ],
      "metadata": {
        "id": "GPSA-SO0VtP4"
      },
      "execution_count": null,
      "outputs": []
    },
    {
      "cell_type": "code",
      "source": [
        "score = accuracy_score(test_y,predictions)"
      ],
      "metadata": {
        "id": "Hek2e_l5kevk"
      },
      "execution_count": null,
      "outputs": []
    },
    {
      "cell_type": "code",
      "source": [
        "score"
      ],
      "metadata": {
        "colab": {
          "base_uri": "https://localhost:8080/"
        },
        "id": "aBPOHMLMk0Q5",
        "outputId": "f5068301-081c-44a9-c9a2-48f95f436551"
      },
      "execution_count": null,
      "outputs": [
        {
          "output_type": "execute_result",
          "data": {
            "text/plain": [
              "0.8161370938950375"
            ]
          },
          "metadata": {},
          "execution_count": 84
        }
      ]
    },
    {
      "cell_type": "code",
      "source": [
        "import sys"
      ],
      "metadata": {
        "id": "_hQMV-Xhk6vs"
      },
      "execution_count": null,
      "outputs": []
    },
    {
      "cell_type": "code",
      "source": [
        "print(sys.modules.keys())"
      ],
      "metadata": {
        "id": "9ABNIArnlmO5",
        "colab": {
          "base_uri": "https://localhost:8080/"
        },
        "outputId": "e1cd2e17-6961-4163-b04f-1f4c6ec870f3"
      },
      "execution_count": null,
      "outputs": [
        {
          "output_type": "stream",
          "name": "stdout",
          "text": [
            "dict_keys(['sys', 'builtins', '_frozen_importlib', '_imp', '_thread', '_warnings', '_weakref', 'zipimport', '_frozen_importlib_external', '_io', 'marshal', 'posix', 'encodings', 'codecs', '_codecs', 'encodings.aliases', 'encodings.utf_8', '_signal', '__main__', 'encodings.latin_1', 'io', 'abc', '_abc', '_bootlocale', '_locale', 'warnings', 're', 'enum', 'types', '_collections', 'sre_compile', '_sre', 'sre_parse', 'sre_constants', 'functools', '_functools', 'collections', '_collections_abc', 'operator', '_operator', 'keyword', 'heapq', '_heapq', 'itertools', 'reprlib', 'copyreg', 'site', 'os', 'stat', '_stat', 'posixpath', 'genericpath', 'os.path', '_sitebuiltins', 'importlib', 'importlib._bootstrap', 'importlib._bootstrap_external', 'importlib.util', 'importlib.abc', 'importlib.machinery', 'contextlib', 'google', 'google.cloud', 'google.logging', 'mpl_toolkits', 'sphinxcontrib', 'sitecustomize', 'runpy', 'pkgutil', 'weakref', '_weakrefset', 'ipykernel', 'ipykernel._version', 'ipykernel.connect', '__future__', 'json', 'json.decoder', 'json.scanner', '_json', 'json.encoder', 'subprocess', 'time', 'signal', 'errno', '_posixsubprocess', 'select', 'selectors', 'collections.abc', 'math', 'threading', 'traceback', 'linecache', 'tokenize', 'token', 'IPython', 'IPython.core', 'IPython.core.getipython', 'IPython.core.release', 'IPython.core.application', 'atexit', 'copy', 'glob', 'fnmatch', 'logging', 'string', '_string', 'shutil', 'zlib', 'bz2', '_compression', '_bz2', 'lzma', '_lzma', 'pwd', 'grp', 'traitlets', 'traitlets.traitlets', 'ast', '_ast', 'inspect', 'dis', 'opcode', '_opcode', 'traitlets.utils', 'traitlets.utils.getargspec', 'traitlets.utils.importstring', 'traitlets.utils.sentinel', 'traitlets.utils.bunch', 'traitlets.utils.descriptions', 'traitlets.utils.decorators', 'traitlets._version', 'traitlets.config', 'traitlets.config.application', 'pprint', 'traitlets.config.configurable', 'traitlets.config.loader', 'argparse', 'gettext', 'locale', 'traitlets.utils.text', 'textwrap', 'IPython.core.crashhandler', 'IPython.core.ultratb', 'pydoc', 'platform', 'sysconfig', 'urllib', 'urllib.parse', '_sysconfigdata_m_x86_64-linux-gnu', 'IPython.core.debugger', 'bdb', 'IPython.utils', 'IPython.utils.PyColorize', 'IPython.utils.coloransi', 'IPython.utils.ipstruct', 'IPython.utils.py3compat', 'IPython.utils.encoding', 'IPython.utils.colorable', 'pygments', 'IPython.utils.ulinecache', 'IPython.utils.openpy', 'IPython.core.excolors', 'IPython.testing', 'IPython.testing.skipdoctest', 'pdb', 'cmd', 'code', 'codeop', 'IPython.core.display_trap', 'IPython.utils.path', 'random', 'hashlib', '_hashlib', '_blake2', '_sha3', 'bisect', '_bisect', '_random', 'IPython.utils.process', 'IPython.utils._process_posix', 'pexpect', 'pexpect.exceptions', 'pexpect.utils', 'pexpect.expect', 'pexpect.pty_spawn', 'pty', 'tty', 'termios', 'ptyprocess', 'ptyprocess.ptyprocess', 'fcntl', 'resource', 'struct', '_struct', 'ptyprocess.util', 'pexpect.spawnbase', 'pexpect.run', 'IPython.utils._process_common', 'shlex', 'IPython.utils.decorators', 'IPython.utils.data', 'IPython.utils.terminal', 'IPython.utils.sysinfo', 'IPython.utils._sysinfo', 'IPython.core.profiledir', 'IPython.paths', 'tempfile', 'IPython.utils.importstring', 'IPython.terminal', 'IPython.terminal.embed', 'IPython.core.compilerop', 'IPython.core.magic_arguments', 'IPython.core.error', 'IPython.utils.text', 'pathlib', 'ntpath', 'IPython.core.magic', 'getopt', 'IPython.core.oinspect', 'IPython.core.page', 'IPython.core.display', 'base64', 'binascii', 'mimetypes', 'IPython.lib', 'IPython.lib.security', 'getpass', 'IPython.lib.pretty', 'datetime', '_datetime', 'IPython.utils.dir2', 'IPython.utils.wildcard', 'IPython.utils.signatures', 'pygments.lexers', 'pygments.lexers._mapping', 'pygments.modeline', 'pygments.plugin', 'pygments.util', 'pygments.lexers.python', 'pygments.lexer', 'pygments.filter', 'pygments.filters', 'pygments.token', 'pygments.regexopt', 'pygments.unistring', 'pygments.formatters', 'pygments.formatters._mapping', 'pygments.formatters.html', 'pygments.formatter', 'pygments.styles', 'IPython.core.inputsplitter', 'IPython.core.inputtransformer', 'IPython.core.splitinput', 'IPython.utils.tokenize2', 'IPython.utils._tokenize_py3', 'decorator', 'IPython.core.interactiveshell', 'pickleshare', 'pickle', '_compat_pickle', '_pickle', 'IPython.core.prefilter', 'IPython.core.autocall', 'IPython.core.macro', 'IPython.core.shadowns', 'IPython.core.alias', 'IPython.core.builtin_trap', 'IPython.core.events', 'IPython.core.displayhook', 'IPython.core.displaypub', 'IPython.core.extensions', 'IPython.core.formatters', 'IPython.utils.sentinel', 'IPython.core.history', 'sqlite3', 'sqlite3.dbapi2', '_sqlite3', 'IPython.core.logger', 'IPython.core.payload', 'IPython.core.usage', 'IPython.display', 'IPython.lib.display', 'IPython.utils.io', 'IPython.utils.capture', 'IPython.utils.strdispatch', 'IPython.core.hooks', 'IPython.utils.syspathcontext', 'IPython.utils.tempdir', 'IPython.utils.contexts', 'IPython.terminal.interactiveshell', 'prompt_toolkit', 'prompt_toolkit.interface', 'six', 'prompt_toolkit.application', 'prompt_toolkit.buffer', 'prompt_toolkit.auto_suggest', 'prompt_toolkit.filters', 'prompt_toolkit.filters.base', 'prompt_toolkit.utils', 'wcwidth', 'wcwidth.wcwidth', 'wcwidth.table_wide', 'wcwidth.table_zero', 'wcwidth.unicode_versions', 'six.moves', 'prompt_toolkit.filters.cli', 'prompt_toolkit.enums', 'prompt_toolkit.key_binding', 'prompt_toolkit.key_binding.vi_state', 'prompt_toolkit.cache', 'prompt_toolkit.filters.types', 'prompt_toolkit.filters.utils', 'prompt_toolkit.clipboard', 'prompt_toolkit.clipboard.base', 'prompt_toolkit.selection', 'prompt_toolkit.clipboard.in_memory', 'prompt_toolkit.completion', 'prompt_toolkit.document', 'prompt_toolkit.history', 'prompt_toolkit.search_state', 'prompt_toolkit.validation', 'prompt_toolkit.buffer_mapping', 'prompt_toolkit.key_binding.bindings', 'prompt_toolkit.key_binding.bindings.basic', 'prompt_toolkit.keys', 'prompt_toolkit.layout', 'prompt_toolkit.layout.containers', 'prompt_toolkit.layout.controls', 'prompt_toolkit.mouse_events', 'prompt_toolkit.token', 'prompt_toolkit.layout.lexers', 'prompt_toolkit.layout.utils', 'prompt_toolkit.layout.processors', 'prompt_toolkit.reactive', 'prompt_toolkit.layout.screen', 'prompt_toolkit.layout.dimension', 'prompt_toolkit.layout.margins', 'prompt_toolkit.renderer', 'prompt_toolkit.layout.mouse_handlers', 'prompt_toolkit.output', 'prompt_toolkit.styles', 'prompt_toolkit.styles.base', 'prompt_toolkit.styles.defaults', 'prompt_toolkit.styles.from_dict', 'prompt_toolkit.styles.utils', 'prompt_toolkit.styles.from_pygments', 'pygments.style', 'pygments.styles.default', 'prompt_toolkit.key_binding.bindings.named_commands', 'prompt_toolkit.key_binding.bindings.completion', 'prompt_toolkit.key_binding.registry', 'prompt_toolkit.key_binding.input_processor', 'prompt_toolkit.key_binding.bindings.emacs', 'prompt_toolkit.key_binding.bindings.scroll', 'prompt_toolkit.key_binding.bindings.vi', 'prompt_toolkit.key_binding.digraphs', 'prompt_toolkit.key_binding.defaults', 'prompt_toolkit.eventloop', 'prompt_toolkit.eventloop.base', 'prompt_toolkit.eventloop.callbacks', 'prompt_toolkit.input', 'prompt_toolkit.terminal', 'prompt_toolkit.terminal.vt100_input', 'prompt_toolkit.shortcuts', 'prompt_toolkit.layout.menus', 'prompt_toolkit.layout.prompt', 'prompt_toolkit.layout.toolbars', 'prompt_toolkit.terminal.vt100_output', 'array', 'prompt_toolkit.key_binding.manager', 'IPython.terminal.debugger', 'IPython.core.completer', 'unicodedata', 'IPython.core.latex_symbols', 'IPython.utils.generics', 'simplegeneric', 'IPython.terminal.ptutils', 'IPython.terminal.shortcuts', 'IPython.terminal.magics', 'IPython.lib.clipboard', 'IPython.terminal.pt_inputhooks', 'IPython.terminal.prompts', 'pkg_resources', 'zipfile', 'plistlib', 'xml', 'xml.parsers', 'xml.parsers.expat', 'pyexpat.errors', 'pyexpat.model', 'pyexpat', 'xml.parsers.expat.model', 'xml.parsers.expat.errors', 'email', 'email.parser', 'email.feedparser', 'email.errors', 'email._policybase', 'email.header', 'email.quoprimime', 'email.base64mime', 'email.charset', 'email.encoders', 'quopri', 'email.utils', 'socket', '_socket', 'email._parseaddr', 'calendar', 'pkg_resources.extern', 'pkg_resources._vendor', 'pkg_resources._vendor.appdirs', 'pkg_resources.extern.appdirs', 'pkg_resources._vendor.packaging', 'pkg_resources._vendor.packaging.__about__', 'pkg_resources.extern.packaging', 'pkg_resources.extern.packaging.version', 'pkg_resources.extern.packaging._structures', 'pkg_resources.extern.packaging._typing', 'pkg_resources.extern.packaging.specifiers', 'pkg_resources.extern.packaging._compat', 'pkg_resources.extern.packaging.utils', 'pkg_resources.extern.packaging.requirements', 'pkg_resources._vendor.pyparsing', 'pkg_resources.extern.pyparsing', 'pkg_resources.extern.packaging.markers', 'IPython.terminal.ipapp', 'IPython.core.magics', 'IPython.core.magics.auto', 'IPython.core.magics.basic', 'IPython.core.magics.code', 'IPython.core.magics.config', 'IPython.core.magics.display', 'IPython.core.magics.execution', 'gc', 'timeit', 'cProfile', '_lsprof', 'profile', 'pstats', 'IPython.utils.module_paths', 'imp', 'IPython.utils.timing', 'IPython.core.magics.extension', 'IPython.core.magics.history', 'IPython.core.magics.logging', 'IPython.core.magics.namespace', 'IPython.core.magics.osm', 'IPython.core.magics.pylab', 'IPython.core.pylabtools', 'IPython.core.magics.script', 'IPython.lib.backgroundjobs', 'IPython.core.shellapp', 'IPython.extensions', 'IPython.extensions.storemagic', 'IPython.utils.frame', 'ipython_genutils', 'ipython_genutils._version', 'ipython_genutils.path', 'ipython_genutils.py3compat', 'ipython_genutils.encoding', 'jupyter_client', 'jupyter_client._version', 'jupyter_client.connect', 'zmq', 'ctypes', '_ctypes', 'ctypes._endian', 'zmq.backend', 'zmq.backend.select', 'typing', 'typing.io', 'typing.re', 'zmq.backend.cython', 'zmq.backend.cython._device', '_cython_0_29_30', 'cython_runtime', 'zmq.backend.cython.context', 'zmq.error', 'zmq.backend.cython.socket', 'zmq.backend.cython.message', 'zmq.constants', 'zmq.backend.cython._poll', 'zmq.backend.cython._proxy_steerable', 'zmq.backend.cython._version', 'zmq.backend.cython.error', 'zmq.backend.cython.utils', 'zmq.sugar', 'zmq.sugar.context', 'zmq.sugar.attrsettr', 'zmq.sugar.socket', 'zmq._typing', 'typing_extensions', 'zmq.utils', 'zmq.utils.jsonapi', 'zmq.sugar.poll', 'zmq.sugar.frame', 'zmq.sugar.tracker', 'zmq.sugar.version', 'zmq.sugar.stopwatch', 'jupyter_client.localinterfaces', 'jupyter_core', 'jupyter_core.version', 'jupyter_core.paths', 'jupyter_client.launcher', 'traitlets.log', 'jupyter_client.client', 'jupyter_client.channels', 'jupyter_client.channelsabc', 'jupyter_client.clientabc', 'jupyter_client.manager', 'ipython_genutils.importstring', 'jupyter_client.kernelspec', 'jupyter_client.managerabc', 'jupyter_client.blocking', 'jupyter_client.blocking.client', 'queue', '_queue', 'jupyter_client.blocking.channels', 'jupyter_client.multikernelmanager', 'uuid', 'ipykernel.kernelapp', 'tornado', 'tornado.ioloop', 'numbers', 'tornado.concurrent', 'tornado.log', 'logging.handlers', 'tornado.escape', 'tornado.util', 'tornado.speedups', 'html', 'html.entities', 'curses', '_curses', 'tornado.stack_context', 'concurrent', 'concurrent.futures', 'concurrent.futures._base', 'asyncio', 'asyncio.base_events', 'ssl', '_ssl', 'asyncio.constants', 'asyncio.coroutines', 'asyncio.base_futures', 'asyncio.format_helpers', 'asyncio.log', 'asyncio.events', 'contextvars', '_contextvars', 'asyncio.base_tasks', '_asyncio', 'asyncio.futures', 'asyncio.protocols', 'asyncio.sslproto', 'asyncio.transports', 'asyncio.tasks', 'asyncio.locks', 'asyncio.runners', 'asyncio.queues', 'asyncio.streams', 'asyncio.subprocess', 'asyncio.unix_events', 'asyncio.base_subprocess', 'asyncio.selector_events', 'tornado.platform', 'tornado.platform.auto', 'tornado.platform.posix', 'tornado.platform.common', 'tornado.platform.interface', 'concurrent.futures.thread', 'zmq.eventloop', 'zmq.eventloop.ioloop', 'tornado.platform.asyncio', 'tornado.gen', 'zmq.eventloop.zmqstream', 'ipykernel.iostream', 'jupyter_client.session', 'hmac', 'jupyter_client.jsonutil', 'dateutil', 'dateutil._version', 'dateutil.parser', 'dateutil.parser._parser', 'decimal', '_decimal', 'dateutil.relativedelta', 'dateutil._common', 'dateutil.tz', 'dateutil.tz.tz', 'dateutil.tz._common', 'dateutil.tz._factories', 'dateutil.parser.isoparser', '_strptime', 'jupyter_client.adapter', 'ipykernel.heartbeat', 'ipykernel.ipkernel', 'IPython.utils.tokenutil', 'ipykernel.comm', 'ipykernel.comm.manager', 'ipykernel.comm.comm', 'ipykernel.kernelbase', 'ipykernel.jsonutil', 'ipykernel.zmqshell', 'IPython.core.payloadpage', 'ipykernel.displayhook', 'ipykernel.parentpoller', 'google.colab', 'google.colab._import_hooks', 'google.colab._import_hooks._altair', 'google.colab._import_hooks._bokeh', 'google.colab._import_hooks._cv2', 'google.colab._import_hooks._pydrive', 'google.colab._import_magics', 'google.colab._installation_commands', 'google.colab._reprs', 'IPython.utils.traitlets', 'google.colab._shell_customizations', 'google.colab._ipython', 'google.colab._system_commands', 'google.colab._message', 'google.colab.errors', 'google.colab.output', 'google.colab.output._area', 'google.colab.output._js_builder', 'google.colab.output._js', 'google.colab.output._publish', 'google.colab.output._tags', 'google.colab.output._util', 'google.colab.output._widgets', 'google.colab._tensorflow_magics', 'google.colab.auth', 'google.colab.files', 'http', 'http.server', 'http.client', 'email.message', 'uu', 'email._encoded_words', 'email.iterators', 'socketserver', 'six.moves.urllib', 'google.colab.data_table', 'google.colab._interactive_table_helper', 'google.colab.drive', 'pexpect.popen_spawn', 'psutil', 'psutil._common', 'psutil._compat', 'psutil._exceptions', 'psutil._pslinux', 'psutil._psposix', 'psutil._psutil_linux', 'psutil._psutil_posix', 'google.colab.snippets', 'google.colab.widgets', 'google.colab.widgets._grid', 'google.colab.widgets._widget', 'google.colab.widgets._tabbar', 'google.colab._kernel', 'google.colab._shell', 'google.colab._event_manager', 'google.colab._history', 'google.colab._inspector', 'astor', 'astor.code_gen', 'astor.op_util', 'astor.node_util', 'astor.string_repr', 'astor.source_repr', 'astor.file_util', 'astor.tree_walk', 'google.colab._pip', 'encodings.idna', 'stringprep', 'faulthandler', 'ipykernel.datapub', 'ipykernel.serialize', 'ipykernel.pickleutil', 'ipykernel.codeutil', 'IPython.lib.deepreload', 'IPython.core.completerlib', 'matplotlib', 'distutils', 'distutils.version', 'matplotlib.cbook', 'gzip', 'numpy', 'numpy._globals', 'numpy.__config__', 'numpy._version', 'numpy._distributor_init', 'numpy.core', 'numpy.version', 'numpy.core.multiarray', 'numpy.core.overrides', 'numpy.core._multiarray_umath', 'numpy.compat', 'numpy.compat._inspect', 'numpy.compat.py3k', 'numpy.core.umath', 'numpy.core.numerictypes', 'numpy.core._string_helpers', 'numpy.core._type_aliases', 'numpy.core._dtype', 'numpy.core.numeric', 'numpy.core.shape_base', 'numpy.core.fromnumeric', 'numpy.core._methods', 'numpy.core._exceptions', 'numpy.core._ufunc_config', 'numpy.core.arrayprint', 'numpy.core._asarray', 'numpy.core.defchararray', 'numpy.core.records', 'numpy.core.memmap', 'numpy.core.function_base', 'numpy.core.machar', 'numpy.core.getlimits', 'numpy.core.einsumfunc', 'numpy.core._add_newdocs', 'numpy.core._multiarray_tests', 'numpy.core._add_newdocs_scalars', 'numpy.core._dtype_ctypes', 'numpy.core._internal', 'numpy._pytesttester', 'numpy.lib', 'numpy.lib.mixins', 'numpy.lib.scimath', 'numpy.lib.type_check', 'numpy.lib.ufunclike', 'numpy.lib.index_tricks', 'numpy.matrixlib', 'numpy.matrixlib.defmatrix', 'numpy.linalg', 'numpy.linalg.linalg', 'numpy.lib.twodim_base', 'numpy.lib.stride_tricks', 'numpy.linalg.lapack_lite', 'numpy.linalg._umath_linalg', 'numpy.lib.function_base', 'numpy.lib.histograms', 'numpy.lib.nanfunctions', 'numpy.lib.shape_base', 'numpy.lib.polynomial', 'numpy.lib.utils', 'numpy.lib.arraysetops', 'numpy.lib.npyio', 'numpy.lib.format', 'numpy.lib._datasource', 'numpy.lib._iotools', 'numpy.lib.arrayterator', 'numpy.lib.arraypad', 'numpy.lib._version', 'numpy.fft', 'numpy.fft._pocketfft', 'numpy.fft._pocketfft_internal', 'numpy.fft.helper', 'numpy.polynomial', 'numpy.polynomial.polynomial', 'numpy.polynomial.polyutils', 'numpy.polynomial._polybase', 'numpy.polynomial.chebyshev', 'numpy.polynomial.legendre', 'numpy.polynomial.hermite', 'numpy.polynomial.hermite_e', 'numpy.polynomial.laguerre', 'numpy.random', 'numpy.random._pickle', 'numpy.random.mtrand', 'numpy.random.bit_generator', '_cython_0_29_24', 'numpy.random._common', 'secrets', 'numpy.random._bounded_integers', 'numpy.random._mt19937', 'numpy.random._philox', 'numpy.random._pcg64', 'numpy.random._sfc64', 'numpy.random._generator', 'numpy.ctypeslib', 'numpy.ma', 'numpy.ma.core', 'numpy.ma.extras', 'matplotlib.cbook.deprecation', 'matplotlib.rcsetup', 'matplotlib.fontconfig_pattern', 'pyparsing', 'pyparsing.util', 'pyparsing.exceptions', 'pyparsing.unicode', 'pyparsing.actions', 'pyparsing.core', 'pyparsing.results', 'pyparsing.helpers', 'pyparsing.testing', 'pyparsing.common', 'matplotlib.colors', 'matplotlib.docstring', 'matplotlib._color_data', 'cycler', 'matplotlib._version', 'matplotlib.ft2font', 'kiwisolver', 'kiwisolver._cext', 'matplotlib.pyplot', 'matplotlib.colorbar', 'matplotlib.artist', 'matplotlib.path', 'matplotlib._path', 'matplotlib.transforms', 'matplotlib.collections', 'matplotlib.cm', 'matplotlib._cm', 'matplotlib._cm_listed', 'matplotlib.lines', 'matplotlib.markers', 'matplotlib.contour', 'matplotlib.ticker', 'matplotlib.font_manager', 'matplotlib.afm', 'matplotlib._mathtext_data', 'matplotlib.text', 'matplotlib.patches', 'matplotlib.bezier', 'matplotlib.textpath', 'matplotlib._text_layout', 'matplotlib.dviread', 'matplotlib.mathtext', 'matplotlib.texmanager', 'matplotlib.blocking_input', 'matplotlib.gridspec', 'matplotlib._pylab_helpers', 'matplotlib.tight_layout', 'matplotlib._layoutbox', 'matplotlib._constrained_layout', 'matplotlib.image', 'matplotlib.backend_bases', 'matplotlib.backend_tools', 'matplotlib.tight_bbox', 'matplotlib.widgets', 'PIL', 'PIL._version', 'matplotlib._image', 'matplotlib.style', 'matplotlib.style.core', 'matplotlib.figure', 'matplotlib.backends', 'matplotlib.projections', 'matplotlib.axes', 'matplotlib.axes._subplots', 'matplotlib.axes._axes', 'matplotlib.category', 'matplotlib.units', 'matplotlib.dates', 'dateutil.rrule', 'matplotlib.legend', 'matplotlib.offsetbox', 'matplotlib.container', 'matplotlib.legend_handler', 'matplotlib.mlab', 'csv', '_csv', 'matplotlib.quiver', 'matplotlib.stackplot', 'matplotlib.streamplot', 'matplotlib.table', 'matplotlib.tri', 'matplotlib.tri.triangulation', 'matplotlib.tri.tricontour', 'matplotlib.tri.tritools', 'matplotlib.tri.trifinder', 'matplotlib.tri.triinterpolate', 'matplotlib.tri.trirefine', 'matplotlib.tri.tripcolor', 'matplotlib.tri.triplot', 'matplotlib.axes._base', 'matplotlib.axis', 'matplotlib.scale', 'matplotlib.spines', 'matplotlib.axes._secondary_axes', 'matplotlib.projections.geo', 'matplotlib.projections.polar', 'mpl_toolkits.mplot3d', 'mpl_toolkits.mplot3d.axes3d', 'mpl_toolkits.mplot3d.art3d', 'mpl_toolkits.mplot3d.proj3d', 'mpl_toolkits.mplot3d.axis3d', 'ipykernel.pylab', 'ipykernel.pylab.backend_inline', 'matplotlib.backends.backend_agg', 'matplotlib.backends._backend_agg', 'PIL.Image', 'PIL.ImageMode', 'PIL.TiffTags', 'PIL._binary', 'PIL._util', 'PIL._imaging', 'cffi', 'cffi.api', 'cffi.lock', 'cffi.error', 'cffi.model', 'ipykernel.pylab.config', 'ipykernel.eventloops', 'storemagic', 'ipywidgets', 'ipywidgets._version', 'ipywidgets.widgets', 'ipywidgets.widgets.widget', 'ipywidgets.widgets.domwidget', 'ipywidgets.widgets.trait_types', 'ipywidgets.widgets.util', 'ipywidgets.widgets.widget_layout', 'ipywidgets.widgets.widget_style', 'ipywidgets.widgets.valuewidget', 'ipywidgets.widgets.widget_core', 'ipywidgets.widgets.widget_bool', 'ipywidgets.widgets.widget_description', 'ipywidgets.widgets.widget_button', 'ipywidgets.widgets.widget_box', 'ipywidgets.widgets.docutils', 'ipywidgets.widgets.widget_float', 'ipywidgets.widgets.widget_int', 'ipywidgets.widgets.widget_color', 'ipywidgets.widgets.widget_date', 'ipywidgets.widgets.widget_output', 'ipywidgets.widgets.widget_selection', 'ipywidgets.widgets.widget_selectioncontainer', 'ipywidgets.widgets.widget_string', 'ipywidgets.widgets.widget_controller', 'ipywidgets.widgets.interaction', 'ipywidgets.widgets.widget_link', 'ipywidgets.widgets.widget_media', 'ipywidgets.widgets.widget_templates', 'ipywidgets.widgets.widget_upload', 'google.colab._debugpy', 'debugpy', 'debugpy._version', 'debugpy.common', 'debugpy.common.compat', 'debugpy.common.fmt', 'debugpy.common.json', 'google.colab._debugpy_repr', 'google.colab._variable_inspector', 'portpicker', 'debugpy.server', 'debugpy._vendored', 'debugpy._vendored._util', 'debugpy._vendored.force_pydevd', '_pydevd_bundle', '_pydevd_bundle.pydevd_constants', 'encodings.ascii', '_pydevd_bundle.pydevd_vm_type', '_pydev_imps', '_pydev_imps._pydev_saved_modules', 'xmlrpc', 'xmlrpc.client', 'xmlrpc.server', '_pydev_bundle', '_pydev_runfiles', '_pydevd_frame_eval', 'pydev_ipython', 'pydevd_concurrency_analyser', 'pydevd_plugins', 'pydevd', 'pydevd_file_utils', '_pydev_bundle.pydev_log', '_pydev_bundle._pydev_filesystem_encoding', '_pydevd_bundle.pydevd_comm_constants', '_pydev_bundle.pydev_imports', '_pydev_imps._pydev_execfile', '_pydevd_bundle.pydevd_exec2', '_pydev_bundle.pydev_is_thread_alive', '_pydev_bundle.pydev_override', '_pydevd_bundle.pydevd_extension_utils', 'pydevd_plugins.extensions', '_pydevd_bundle.pydevd_frame_utils', '_pydevd_bundle.pydevd_filtering', '_pydevd_bundle.pydevd_io', '_pydevd_bundle.pydevd_utils', '_pydev_bundle.pydev_console_utils', '_pydev_bundle._pydev_calltip_util', '_pydev_bundle._pydev_imports_tipper', '_pydev_bundle._pydev_tipper_common', '_pydevd_bundle.pydevd_vars', '_pydevd_bundle.pydevd_xml', '_pydevd_bundle.pydevd_resolver', '_pydevd_bundle.pydevd_safe_repr', '_pydevd_bundle.pydevd_extension_api', '_pydevd_bundle.pydevd_thread_lifecycle', '_pydevd_bundle.pydevd_additional_thread_info', '_pydevd_bundle.pydevd_cython_wrapper', '_pydevd_bundle.pydevd_cython', '_cython_0_29_21', '_pydevd_bundle.pydevd_dont_trace', '_pydevd_bundle.pydevd_save_locals', '_pydevd_bundle.pydevd_timeout', '_pydevd_bundle.pydevd_daemon_thread', 'pydevd_tracing', '_pydev_bundle.pydev_monkey', '_pydevd_bundle.pydevd_breakpoints', '_pydevd_bundle.pydevd_import_class', '_pydevd_bundle.pydevd_defaults', '_pydevd_bundle.pydevd_custom_frames', '_pydevd_bundle.pydevd_dont_trace_files', '_pydevd_bundle.pydevd_net_command_factory_xml', '_pydevd_bundle.pydevd_net_command', '_pydev_bundle._pydev_completer', 'pydevconsole', '_pydev_bundle.pydev_umd', '_pydevd_bundle.pydevd_trace_dispatch', '_pydevd_bundle.pydevd_additional_thread_info_regular', '_pydevd_bundle.pydevd_frame', '_pydevd_frame_eval.pydevd_frame_eval_main', '_pydevd_bundle.pydevd_source_mapping', 'pydevd_concurrency_analyser.pydevd_concurrency_logger', 'pydevd_concurrency_analyser.pydevd_thread_wrappers', '_pydevd_bundle.pydevd_comm', '_pydevd_bundle._debug_adapter', '_pydevd_bundle._debug_adapter.pydevd_schema', '_pydevd_bundle._debug_adapter.pydevd_base_schema', '_pydevd_bundle._debug_adapter.pydevd_schema_log', '_pydevd_bundle.pydevd_console', '_pydevd_bundle.pydevd_process_net_command_json', '_pydevd_bundle.pydevd_api', '_pydevd_bundle.pydevd_net_command_factory_json', '_pydevd_bundle.pydevd_collect_bytecode_info', '_pydevd_bundle.pydevd_json_debug_options', '_pydevd_bundle.pydevd_process_net_command', '_pydevd_bundle.pydevd_traceproperty', '_pydevd_bundle.pydevd_suspended_frames', '_pydevd_bundle.pydevd_plugin_utils', '_pydevd_bundle.pydevd_trace_api', 'pydevd_plugins.django_debug', 'pydevd_plugins.jinja2_debug', 'pydevd_plugins.extensions.types', 'pydevd_plugins.extensions.types.pydevd_plugin_numpy_types', 'pydevd_plugins.extensions.types.pydevd_helpers', 'pydevd_plugins.extensions.types.pydevd_plugins_django_form_str', 'debugpy.server.api', 'debugpy.adapter', 'debugpy.common.log', 'debugpy.common.timestamp', 'debugpy.common.util', 'debugpy.common.sockets', 'google.colab._interactive_table_hint_button', 'encodings.hex_codec', 'pandas', 'pytz', 'pytz.exceptions', 'pytz.lazy', 'pytz.tzinfo', 'pytz.tzfile', 'pandas.compat', 'pandas._typing', 'mmap', 'pandas.compat.numpy', 'pandas.util', 'pandas.util._decorators', 'pandas._libs', 'pandas._libs.interval', 'pandas._libs.hashtable', 'pandas._libs.missing', 'pandas._libs.tslibs', 'pandas._libs.tslibs.dtypes', 'pandas._libs.tslibs.conversion', 'pandas._libs.tslibs.base', 'pandas._libs.tslibs.nattype', 'pandas._libs.tslibs.np_datetime', 'pandas._libs.tslibs.timezones', 'pandas._libs.tslibs.tzconversion', 'pandas._libs.tslibs.ccalendar', 'pandas._libs.tslibs.parsing', 'pandas._libs.tslibs.offsets', 'pandas._libs.tslibs.timedeltas', 'pandas._libs.tslibs.fields', 'pandas._config', 'pandas._config.config', 'pandas._config.dates', 'pandas._config.display', 'pandas._config.localization', 'pandas._libs.tslibs.strptime', 'pandas._libs.tslibs.timestamps', 'dateutil.easter', 'pandas._libs.properties', 'pandas._libs.tslibs.period', 'pandas._libs.tslibs.vectorized', 'pandas._libs.ops_dispatch', 'pandas._libs.algos', 'pandas.core', 'pandas.core.util', 'pandas.core.util.hashing', 'pandas._libs.lib', 'pandas._libs.tslib', 'pandas._libs.hashing', 'pandas.core.dtypes', 'pandas.core.dtypes.common', 'pandas.core.dtypes.base', 'pandas.errors', 'pandas.core.dtypes.generic', 'pandas.core.dtypes.dtypes', 'pandas.core.dtypes.inference', 'pandas.util.version', 'pandas.compat.pyarrow', 'pyarrow', 'pyarrow._generated_version', 'pyarrow.lib', 'cloudpickle', 'cloudpickle.cloudpickle', 'pyarrow.util', 'pyarrow._hdfsio', 'pyarrow.hdfs', 'pyarrow.filesystem', 'pyarrow.ipc', 'pyarrow.serialization', 'pyarrow.types', 'pandas.core.config_init', 'pandas.core.api', 'pandas.core.dtypes.missing', 'pandas.core.algorithms', 'pandas.core.dtypes.cast', 'pandas.util._exceptions', 'pandas.util._validators', 'pandas.core.array_algos', 'pandas.core.array_algos.take', 'pandas.core.construction', 'pandas.core.common', 'pandas.core.indexers', 'pandas.core.arrays', 'pandas.core.arrays.base', 'pandas.compat.numpy.function', 'pandas.core.missing', 'pandas.compat._optional', 'pandas.core.ops', 'pandas.core.roperator', 'pandas.core.ops.array_ops', 'pandas._libs.ops', 'pandas.core.computation', 'pandas.core.computation.expressions', 'pandas.core.computation.check', 'numexpr', 'numexpr.interpreter', 'numexpr.expressions', 'packaging', 'packaging.__about__', 'packaging.version', 'packaging._structures', 'numexpr.necompiler', 'numexpr.utils', 'numexpr.version', 'pandas.core.ops.missing', 'pandas.core.ops.dispatch', 'pandas.core.ops.invalid', 'pandas.core.ops.common', 'pandas.core.ops.docstrings', 'pandas.core.ops.mask_ops', 'pandas.core.ops.methods', 'pandas.core.sorting', 'pandas.core.arrays.boolean', 'pandas.core.arrays.masked', 'pandas.core.nanops', 'bottleneck', 'bottleneck.benchmark', 'bottleneck.benchmark.bench', 'bottleneck.benchmark.autotimeit', 'bottleneck.benchmark.bench_detailed', 'bottleneck.tests', 'bottleneck.tests.util', 'bottleneck.slow', 'bottleneck.slow.reduce', 'bottleneck.slow.nonreduce', 'bottleneck.slow.nonreduce_axis', 'bottleneck.slow.move', 'bottleneck._pytesttester', 'bottleneck.move', 'bottleneck.nonreduce', 'bottleneck.nonreduce_axis', 'bottleneck.reduce', 'bottleneck._version', 'pandas.core.array_algos.masked_reductions', 'pandas.core.arraylike', 'pandas.core.arrays.categorical', 'pandas._libs.arrays', 'pandas.core.accessor', 'pandas.core.arrays._mixins', 'pandas.core.array_algos.transforms', 'pandas.core.base', 'pandas.core.strings', 'pandas.core.strings.accessor', 'pandas.core.strings.base', 'pandas.core.strings.object_array', 'pandas.io', 'pandas.io.formats', 'pandas.io.formats.console', 'pandas.core.arrays.datetimes', 'pandas.core.arrays.datetimelike', 'pandas.tseries', 'pandas.tseries.frequencies', 'pandas.core.arrays._ranges', 'pandas.core.arrays.integer', 'pandas.core.arrays.numeric', 'pandas.core.tools', 'pandas.core.tools.numeric', 'pandas.tseries.offsets', 'pandas.core.arrays.floating', 'pandas.core.arrays.interval', 'pandas.core.indexes', 'pandas.core.indexes.base', 'pandas._libs.index', 'pandas._libs.join', 'pandas.core.dtypes.concat', 'pandas.core.arrays.sparse', 'pandas.core.arrays.sparse.accessor', 'pandas.core.arrays.sparse.array', 'pandas._libs.sparse', 'pandas.core.arrays.sparse.dtype', 'pandas.io.formats.printing', 'pandas.core.array_algos.putmask', 'pandas.core.indexes.frozen', 'pandas.core.arrays.numpy_', 'pandas.core.arrays.period', 'pandas.core.arrays.string_', 'pandas.core.arrays.string_arrow', 'pyarrow.compute', 'pyarrow._compute', 'pandas.core.arrays.timedeltas', 'pandas.core.flags', 'pandas.core.groupby', 'pandas.core.groupby.generic', 'pandas._libs.reduction', 'pandas.core.aggregation', 'pandas.core.indexes.api', 'pandas.core.indexes.category', 'pandas.core.indexes.extension', 'pandas.core.indexes.datetimes', 'pandas.core.indexes.datetimelike', 'pandas.core.indexes.numeric', 'pandas.core.tools.timedeltas', 'pandas.core.tools.times', 'pandas.core.indexes.interval', 'pandas.core.indexes.multi', 'pandas.core.indexes.timedeltas', 'pandas.core.indexes.period', 'pandas.core.indexes.range', 'pandas.core.apply', 'pandas.core.frame', 'pandas.core.generic', 'pandas.core.indexing', 'pandas._libs.indexing', 'pandas.core.describe', 'pandas.core.reshape', 'pandas.core.reshape.concat', 'pandas.core.internals', 'pandas.core.internals.api', 'pandas._libs.internals', 'pandas.core.internals.blocks', 'pandas._libs.writers', 'pandas.core.array_algos.quantile', 'pandas.core.array_algos.replace', 'pandas.core.internals.array_manager', 'pandas.core.internals.base', 'pandas.core.internals.concat', 'pandas.core.internals.managers', 'pandas.core.internals.ops', 'pandas.io.formats.format', 'pandas.io.common', 'dataclasses', 'pandas.core.internals.construction', 'pandas.core.shared_docs', 'pandas.core.window', 'pandas.core.window.ewm', 'pandas._libs.window', 'pandas._libs.window.aggregations', 'pandas.core.util.numba_', 'pandas.core.window.common', 'pandas.core.window.doc', 'pandas.core.window.indexers', 'pandas._libs.window.indexers', 'pandas.core.window.numba_', 'pandas.core.window.online', 'pandas.core.window.rolling', 'pandas.core.window.expanding', 'pandas.core.reshape.melt', 'pandas.core.reshape.util', 'pandas.core.series', 'pandas._libs.reshape', 'pandas.core.indexes.accessors', 'pandas.core.tools.datetimes', 'pandas.arrays', 'pandas.plotting', 'pandas.plotting._core', 'pandas.plotting._misc', 'pandas.io.formats.info', 'pandas.core.groupby.base', 'pandas.core.groupby.groupby', 'pandas._libs.groupby', 'pandas.core.groupby.numba_', 'pandas.core.groupby.ops', 'pandas.core.groupby.grouper', 'pandas.core.groupby.categorical', 'pandas.tseries.api', 'pandas.core.computation.api', 'pandas.core.computation.eval', 'pandas.core.computation.engines', 'pandas.core.computation.align', 'pandas.core.computation.common', 'pandas.core.computation.expr', 'pandas.core.computation.ops', 'pandas.core.computation.scope', 'pandas.compat.chainmap', 'pandas.core.computation.parsing', 'pandas.core.reshape.api', 'pandas.core.reshape.merge', 'pandas.core.reshape.pivot', 'pandas.core.reshape.reshape', 'pandas.core.reshape.tile', 'pandas.api', 'pandas.api.extensions', 'pandas.api.indexers', 'pandas.api.types', 'pandas.core.dtypes.api', 'pandas.util._print_versions', 'pandas.io.api', 'pandas.io.clipboards', 'pandas.io.excel', 'pandas.io.excel._base', 'pandas._libs.parsers', 'pandas.io.excel._util', 'pandas.io.parsers', 'pandas.io.parsers.readers', 'pandas.io.parsers.base_parser', 'pandas.io.date_converters', 'pandas.io.parsers.c_parser_wrapper', 'pandas.io.parsers.python_parser', 'pandas.io.excel._odfreader', 'pandas.io.excel._openpyxl', 'pandas.io.excel._pyxlsb', 'pandas.io.excel._xlrd', 'pandas.io.excel._odswriter', 'pandas._libs.json', 'pandas.io.formats.excel', 'pandas.io.formats._color_data', 'pandas.io.formats.css', 'pandas.io.excel._xlsxwriter', 'pandas.io.excel._xlwt', 'pandas.io.feather_format', 'pandas.io.gbq', 'pandas.io.html', 'pandas.io.json', 'pandas.io.json._json', 'pandas.io.json._normalize', 'pandas.io.json._table_schema', 'pandas.io.orc', 'pandas.io.parquet', 'pandas.io.pickle', 'pandas.compat.pickle_compat', 'pandas.io.pytables', 'pandas.core.computation.pytables', 'pandas.io.sas', 'pandas.io.sas.sasreader', 'pandas.io.spss', 'pandas.io.sql', 'pandas.io.stata', 'pandas.io.xml', 'pandas.util._tester', 'pandas.testing', 'pandas._testing', 'pandas._testing._io', 'pandas._testing._random', 'pandas._testing.contexts', 'pandas._testing._warnings', 'pandas._testing.asserters', 'pandas._libs.testing', 'cmath', 'pandas._testing.compat', 'pandas._version', 'urllib.request', 'urllib.error', 'urllib.response', 'pandas.io.formats.string', 'pandas.io.formats.html', 'sklearn', 'sklearn._config', 'sklearn._distributor_init', 'sklearn.__check_build', 'sklearn.__check_build._check_build', 'sklearn.base', 'sklearn.utils', 'scipy', 'scipy._lib', 'scipy._lib._testutils', 'scipy._lib.deprecation', 'scipy._distributor_init', 'scipy.__config__', 'scipy.version', 'scipy._lib._version', 'scipy._lib.six', 'scipy._lib._ccallback', 'scipy._lib._ccallback_c', 'scipy.fft', 'scipy.fft._basic', 'scipy._lib.uarray', 'scipy._lib._uarray', 'scipy._lib._uarray._backend', 'scipy._lib._uarray._uarray', 'scipy.fft._realtransforms', 'scipy.fft._helper', 'scipy.fft._pocketfft', 'scipy.fft._pocketfft.basic', 'scipy.fft._pocketfft.pypocketfft', 'scipy.fft._pocketfft.helper', 'scipy.fft._pocketfft.realtransforms', 'scipy.fft._backend', 'numpy.dual', 'scipy.sparse', 'scipy.sparse.base', 'scipy._lib._numpy_compat', 'numpy.testing', 'unittest', 'unittest.result', 'unittest.util', 'unittest.case', 'difflib', 'unittest.suite', 'unittest.loader', 'unittest.main', 'unittest.runner', 'unittest.signals', 'numpy.testing._private', 'numpy.testing._private.utils', 'numpy.testing._private.decorators', 'numpy.testing._private.nosetester', 'scipy.sparse.sputils', 'scipy.sparse.csr', 'scipy.sparse._sparsetools', 'scipy.sparse.compressed', 'scipy._lib._util', 'multiprocessing', 'multiprocessing.context', 'multiprocessing.process', 'multiprocessing.reduction', '__mp_main__', 'scipy.sparse.data', 'scipy.sparse.dia', 'scipy.sparse._index', 'scipy.sparse.csc', 'scipy.sparse.lil', 'scipy.sparse._csparsetools', 'scipy.sparse.dok', 'scipy.sparse.coo', 'scipy.sparse.bsr', 'scipy.sparse.construct', 'scipy.sparse.extract', 'scipy.sparse._matrix_io', 'scipy.sparse.csgraph', 'scipy.sparse.csgraph._laplacian', 'scipy.sparse.csgraph._shortest_path', '_cython_0_29_14', 'scipy.sparse.csgraph._validation', 'scipy.sparse.csgraph._tools', 'scipy.sparse.csgraph._traversal', 'scipy.sparse.csgraph._min_spanning_tree', 'scipy.sparse.csgraph._flow', 'scipy.sparse.csgraph._matching', 'scipy.sparse.csgraph._reordering', 'sklearn.utils.murmurhash', 'sklearn.utils.class_weight', 'sklearn.utils._joblib', 'joblib', 'joblib.memory', 'joblib.hashing', 'joblib.func_inspect', 'joblib.logger', 'joblib.disk', 'multiprocessing.util', 'joblib._store_backends', 'joblib.backports', 'joblib.numpy_pickle', 'joblib.compressor', 'joblib.numpy_pickle_utils', 'joblib.numpy_pickle_compat', 'joblib.parallel', 'joblib._multiprocessing_helpers', '_multiprocessing', 'joblib._parallel_backends', 'joblib.my_exceptions', 'joblib._deprecated_my_exceptions', 'joblib.pool', 'joblib._memmapping_reducer', 'joblib.externals', 'joblib.externals.loky', 'joblib.externals.loky._base', 'joblib.externals.loky.backend', 'joblib.externals.loky.backend.context', 'joblib.externals.loky.backend.process', 'joblib.externals.loky.backend.compat', 'joblib.externals.loky.backend.compat_posix', 'multiprocessing.connection', 'multiprocessing.synchronize', 'joblib.externals.loky.backend.reduction', 'joblib.externals.loky.backend._posix_reduction', 'joblib.externals.cloudpickle', 'joblib.externals.cloudpickle.cloudpickle', 'joblib.externals.cloudpickle.compat', 'joblib.externals.cloudpickle.cloudpickle_fast', 'joblib.externals.loky.reusable_executor', 'joblib.externals.loky.process_executor', 'joblib.externals.loky.backend.queues', 'multiprocessing.queues', 'joblib.externals.loky.backend.utils', 'joblib.externals.loky.initializers', 'concurrent.futures.process', 'joblib.externals.loky.cloudpickle_wrapper', 'joblib.externals.loky.backend.resource_tracker', 'joblib.externals.loky.backend.spawn', 'multiprocessing.pool', 'joblib.executor', 'sklearn.exceptions', 'sklearn.utils.deprecation', 'sklearn.utils.fixes', 'scipy.stats', 'scipy.stats.stats', 'scipy.spatial', 'scipy.spatial.kdtree', 'scipy.spatial.ckdtree', 'scipy.spatial.qhull', 'scipy._lib.messagestream', 'scipy.spatial._spherical_voronoi', 'scipy.spatial._voronoi', 'scipy.spatial._plotutils', 'scipy._lib.decorator', 'scipy.spatial._procrustes', 'scipy.linalg', 'scipy.linalg.linalg_version', 'scipy.linalg.misc', 'scipy.linalg.blas', 'scipy.linalg._fblas', 'scipy.linalg.lapack', 'scipy.linalg._flapack', 'scipy.linalg.basic', 'scipy.linalg.flinalg', 'scipy.linalg._flinalg', 'scipy.linalg.decomp', 'scipy.linalg.decomp_svd', 'scipy.linalg._solve_toeplitz', 'scipy.linalg.decomp_lu', 'scipy.linalg._decomp_ldl', 'scipy.linalg.decomp_cholesky', 'scipy.linalg.decomp_qr', 'scipy.linalg._decomp_qz', 'scipy.linalg.decomp_schur', 'scipy.linalg._decomp_polar', 'scipy.linalg.matfuncs', 'scipy.linalg.special_matrices', 'scipy.linalg._expm_frechet', 'scipy.linalg._matfuncs_sqrtm', 'scipy.linalg._solvers', 'scipy.linalg._procrustes', 'scipy.linalg._decomp_update', 'scipy.linalg.cython_blas', 'scipy.linalg.cython_lapack', 'scipy.linalg._sketches', 'scipy.spatial.distance', 'scipy.spatial._distance_wrap', 'scipy.spatial._hausdorff', 'scipy.special', 'scipy.special.sf_error', 'scipy.special._ufuncs', 'scipy.special._ufuncs_cxx', 'scipy.special._basic', 'scipy.special.specfun', 'scipy.special.orthogonal', 'scipy.special._comb', 'scipy.special._logsumexp', 'scipy.special.spfun_stats', 'scipy.special._ellip_harm', 'scipy.special._ellip_harm_2', 'scipy.special.lambertw', 'scipy.special._spherical_bessel', 'scipy.spatial.transform', 'scipy.spatial.transform.rotation', 'scipy.spatial.transform._rotation_groups', 'scipy.constants', 'scipy.constants.codata', 'scipy.constants.constants', 'scipy.spatial.transform._rotation_spline', 'scipy.ndimage', 'scipy.ndimage.filters', 'scipy.ndimage._ni_support', 'scipy.ndimage._nd_image', 'scipy.ndimage._ni_docstrings', 'scipy._lib.doccer', 'scipy.ndimage.fourier', 'scipy.ndimage.interpolation', 'scipy.ndimage.measurements', 'scipy.ndimage._ni_label', '_ni_label', 'scipy.ndimage.morphology', 'scipy.stats.distributions', 'scipy.stats._distn_infrastructure', 'scipy.stats._distr_params', 'scipy.optimize', 'scipy.optimize.optimize', 'scipy.optimize.linesearch', 'scipy.optimize.minpack2', 'scipy.optimize._minimize', 'scipy.optimize._trustregion_dogleg', 'scipy.optimize._trustregion', 'scipy.optimize._trustregion_ncg', 'scipy.optimize._trustregion_krylov', 'scipy.optimize._trlib', 'scipy.optimize._trlib._trlib', 'scipy.optimize._trustregion_exact', 'scipy.optimize._trustregion_constr', 'scipy.optimize._trustregion_constr.minimize_trustregion_constr', 'scipy.sparse.linalg', 'scipy.sparse.linalg.isolve', 'scipy.sparse.linalg.isolve.iterative', 'scipy.sparse.linalg.isolve._iterative', 'scipy.sparse.linalg.interface', 'scipy.sparse.linalg.isolve.utils', 'scipy._lib._threadsafety', 'scipy.sparse.linalg.isolve.minres', 'scipy.sparse.linalg.isolve.lgmres', 'scipy.sparse.linalg.isolve._gcrotmk', 'scipy.sparse.linalg.isolve.lsqr', 'scipy.sparse.linalg.isolve.lsmr', 'scipy.sparse.linalg.dsolve', 'scipy.sparse.linalg.dsolve.linsolve', 'scipy.sparse.linalg.dsolve._superlu', 'scipy.sparse.linalg.dsolve._add_newdocs', 'scipy.sparse.linalg.eigen', 'scipy.sparse.linalg.eigen.arpack', 'scipy.sparse.linalg.eigen.arpack.arpack', 'scipy.sparse.linalg.eigen.arpack._arpack', 'scipy.sparse.linalg.eigen.lobpcg', 'scipy.sparse.linalg.eigen.lobpcg.lobpcg', 'scipy.sparse.linalg.matfuncs', 'scipy.sparse.linalg._expm_multiply', 'scipy.sparse.linalg._onenormest', 'scipy.sparse.linalg._norm', 'scipy.optimize._differentiable_functions', 'scipy.optimize._numdiff', 'scipy.optimize._group_columns', 'scipy.optimize._hessian_update_strategy', 'scipy.optimize._constraints', 'scipy.optimize._trustregion_constr.equality_constrained_sqp', 'scipy.optimize._trustregion_constr.projections', 'scipy.optimize._trustregion_constr.qp_subproblem', 'scipy.optimize._trustregion_constr.canonical_constraint', 'scipy.optimize._trustregion_constr.tr_interior_point', 'scipy.optimize._trustregion_constr.report', 'scipy.optimize.lbfgsb', 'scipy.optimize._lbfgsb', 'scipy.optimize.tnc', 'scipy.optimize.moduleTNC', 'scipy.optimize.cobyla', 'scipy.optimize._cobyla', 'scipy.optimize.slsqp', 'scipy.optimize._slsqp', 'scipy.optimize._root', 'scipy.optimize.minpack', 'scipy.optimize._minpack', 'scipy.optimize._lsq', 'scipy.optimize._lsq.least_squares', 'scipy.optimize._lsq.trf', 'scipy.optimize._lsq.common', 'scipy.optimize._lsq.dogbox', 'scipy.optimize._lsq.lsq_linear', 'scipy.optimize._lsq.trf_linear', 'scipy.optimize._lsq.givens_elimination', 'scipy.optimize._lsq.bvls', 'scipy.optimize._spectral', 'scipy.optimize.nonlin', 'scipy.optimize._root_scalar', 'scipy.optimize.zeros', 'scipy.optimize._zeros', 'scipy.optimize.nnls', 'scipy.optimize._nnls', 'scipy.optimize._basinhopping', 'scipy.optimize._linprog', 'scipy.optimize._linprog_ip', 'scipy.optimize._linprog_util', 'scipy.optimize._remove_redundancy', 'scipy.optimize._linprog_simplex', 'scipy.optimize._linprog_rs', 'scipy.optimize._bglu_dense', 'scipy.optimize._lsap', 'scipy.optimize._lsap_module', 'scipy.optimize._differentialevolution', 'scipy.optimize._shgo', 'scipy.optimize._shgo_lib', 'scipy.optimize._shgo_lib.sobol_seq', 'scipy.optimize._shgo_lib.triangulation', 'scipy.optimize._dual_annealing', 'scipy.integrate', 'scipy.integrate.quadrature', 'scipy.integrate.odepack', 'scipy.integrate._odepack', 'scipy.integrate.quadpack', 'scipy.integrate._quadpack', 'scipy.integrate._ode', 'scipy.integrate.vode', 'scipy.integrate._dop', 'scipy.integrate.lsoda', 'scipy.integrate._bvp', 'scipy.integrate._ivp', 'scipy.integrate._ivp.ivp', 'scipy.integrate._ivp.bdf', 'scipy.integrate._ivp.common', 'scipy.integrate._ivp.base', 'scipy.integrate._ivp.radau', 'scipy.integrate._ivp.rk', 'scipy.integrate._ivp.dop853_coefficients', 'scipy.integrate._ivp.lsoda', 'scipy.integrate._quad_vec', 'scipy.misc', 'scipy.misc.doccer', 'scipy.misc.common', 'scipy.stats._constants', 'scipy.stats._continuous_distns', 'scipy.interpolate', 'scipy.interpolate.interpolate', 'scipy.interpolate.fitpack', 'scipy.interpolate._fitpack_impl', 'scipy.interpolate._fitpack', 'scipy.interpolate.dfitpack', 'scipy.interpolate._bsplines', 'scipy.interpolate._bspl', 'scipy.interpolate.polyint', 'scipy.interpolate._ppoly', 'scipy.interpolate.fitpack2', 'scipy.interpolate.interpnd', 'scipy.interpolate.rbf', 'scipy.interpolate._cubic', 'scipy.interpolate.ndgriddata', 'scipy.interpolate._pade', 'scipy.stats._stats', 'scipy.stats._tukeylambda_stats', 'scipy.stats._discrete_distns', 'scipy.stats.mstats_basic', 'scipy.stats._stats_mstats_common', 'scipy.stats._rvs_sampling', 'scipy.stats._hypotests', 'scipy.stats.morestats', 'scipy.stats.statlib', 'scipy.stats.contingency', 'scipy.stats._binned_statistic', 'scipy.stats.kde', 'scipy.stats.mvn', 'scipy.stats.mstats', 'scipy.stats.mstats_extras', 'scipy.stats._multivariate', 'threadpoolctl', 'ctypes.util', 'sklearn.externals', 'sklearn.externals._packaging', 'sklearn.externals._packaging.version', 'sklearn.externals._packaging._structures', 'sklearn.utils._estimator_html_repr', 'sklearn.utils.validation', 'sklearn.utils._tags', 'sklearn.utils._show_versions', 'sklearn.utils._openmp_helpers', 'sklearn.preprocessing', 'sklearn.preprocessing._function_transformer', 'sklearn.preprocessing._data', 'sklearn.utils.extmath', 'sklearn.utils._logistic_sigmoid', 'sklearn.utils.sparsefuncs_fast', '_cython_0_29_26', 'sklearn.utils.sparsefuncs', 'sklearn.preprocessing._encoders', 'sklearn.utils._mask', 'sklearn.utils._encode', 'sklearn.preprocessing._label', 'sklearn.utils.multiclass', 'sklearn.preprocessing._discretization', 'sklearn.preprocessing._polynomial', 'sklearn.utils.stats', 'sklearn.preprocessing._csr_polynomial_expansion', 'sklearn.model_selection', 'sklearn.model_selection._split', 'sklearn.model_selection._validation', 'sklearn.utils.metaestimators', 'sklearn.metrics', 'sklearn.metrics._ranking', 'sklearn.metrics._base', 'sklearn.metrics._classification', 'sklearn.metrics._dist_metrics', 'sklearn.utils._typedefs', 'sklearn.utils._readonly_array_wrapper', 'sklearn.metrics.cluster', 'sklearn.metrics.cluster._supervised', 'sklearn.metrics.cluster._expected_mutual_info_fast', 'sklearn.metrics.cluster._unsupervised', 'sklearn.metrics.pairwise', 'sklearn.metrics._pairwise_fast', 'sklearn.metrics.cluster._bicluster', 'sklearn.metrics._regression', 'sklearn._loss', 'sklearn._loss.glm_distribution', 'sklearn.metrics._scorer', 'sklearn.metrics._plot', 'sklearn.metrics._plot.det_curve', 'sklearn.metrics._plot.base', 'sklearn.metrics._plot.roc_curve', 'sklearn.metrics._plot.precision_recall_curve', 'sklearn.metrics._plot.confusion_matrix', 'sklearn.model_selection._search', 'sklearn.utils.random', 'sklearn.utils._random', 'keras', 'tensorflow', 'tensorflow.python', 'tensorflow.python.pywrap_tensorflow', 'tensorflow.python.platform', 'tensorflow.python.platform.self_check', 'tensorflow.python.platform.build_info', 'tensorflow.python._pywrap_tensorflow_internal', 'tensorflow.python.eager', 'tensorflow.python.eager.context', 'absl', 'absl.logging', 'absl.flags', 'absl.flags._argument_parser', 'absl.flags._helpers', 'absl.flags._defines', 'absl.flags._exceptions', 'absl.flags._flag', 'absl.flags._flagvalues', 'xml.dom', 'xml.dom.domreg', 'xml.dom.minidom', 'xml.dom.minicompat', 'xml.dom.xmlbuilder', 'xml.dom.NodeFilter', 'absl.flags._validators_classes', 'absl.flags._validators', 'absl.logging.converter', 'tensorflow.core', 'tensorflow.core.framework', 'tensorflow.core.framework.function_pb2', 'google.protobuf', 'google.protobuf.descriptor', 'google.protobuf.internal', 'google.protobuf.internal.api_implementation', 'google.protobuf.internal._api_implementation', 'google.protobuf.pyext', 'google.protobuf.internal.containers', 'google.protobuf.internal.enum_type_wrapper', 'google.protobuf.message', 'google.protobuf.pyext._message', 'google.protobuf.reflection', 'google.protobuf.message_factory', 'google.protobuf.descriptor_pool', 'google.protobuf.descriptor_database', 'google.protobuf.text_encoding', 'google.protobuf.pyext.cpp_message', 'google.protobuf.symbol_database', 'tensorflow.core.framework.attr_value_pb2', 'tensorflow.core.framework.tensor_pb2', 'tensorflow.core.framework.resource_handle_pb2', 'tensorflow.core.framework.tensor_shape_pb2', 'google.protobuf.internal.well_known_types', 'tensorflow.core.framework.types_pb2', 'tensorflow.core.framework.node_def_pb2', 'tensorflow.core.framework.full_type_pb2', 'tensorflow.core.framework.op_def_pb2', 'tensorflow.core.protobuf', 'tensorflow.core.protobuf.config_pb2', 'tensorflow.core.framework.cost_graph_pb2', 'tensorflow.core.framework.graph_pb2', 'tensorflow.core.framework.versions_pb2', 'tensorflow.core.framework.step_stats_pb2', 'tensorflow.core.framework.allocation_description_pb2', 'tensorflow.core.framework.tensor_description_pb2', 'tensorflow.core.protobuf.cluster_pb2', 'tensorflow.core.protobuf.coordination_config_pb2', 'tensorflow.core.protobuf.debug_pb2', 'tensorflow.core.protobuf.rewriter_config_pb2', 'tensorflow.core.protobuf.verifier_config_pb2', 'tensorflow.python.pywrap_tfe', 'tensorflow.python._pywrap_tfe', 'tensorflow.python.tf2', 'tensorflow.python.platform._pywrap_tf2', 'tensorflow.python.util', 'tensorflow.python.util.tf_export', 'tensorflow.python.util.tf_decorator', 'tensorflow.python.util.tf_inspect', 'tensorflow.python.client', 'tensorflow.python.client.pywrap_tf_session', 'tensorflow.python.client._pywrap_tf_session', 'tensorflow.python.eager.executor', 'tensorflow.python.eager.monitoring', 'tensorflow.core.framework.summary_pb2', 'tensorflow.python.framework', 'tensorflow.python.framework.c_api_util', 'tensorflow.core.framework.api_def_pb2', 'tensorflow.python.util.compat', 'tensorflow.python.util.tf_contextlib', 'tensorflow.python.framework.device', 'tensorflow.python.framework.device_spec', 'tensorflow.python.framework.tfrt_utils', 'tensorflow.python.util.is_in_graph_mode', 'tensorflow.python.util.deprecation', 'tensorflow.python.platform.tf_logging', 'tensorflow.python.util.decorator_utils', 'tensorflow.tools', 'tensorflow.tools.docs', 'tensorflow.tools.docs.doc_controls', 'tensorflow.python.data', 'tensorflow.python.data.experimental', 'tensorflow.python.data.experimental.service', 'tensorflow.python.data.experimental.ops', 'tensorflow.python.data.experimental.ops.data_service_ops', 'tensorflow.core.protobuf.data_service_pb2', 'tensorflow.python.compat', 'tensorflow.python.compat.compat', 'tensorflow.python.data.experimental.ops.compression_ops', 'tensorflow.python.data.util', 'tensorflow.python.data.util.structure', 'wrapt', 'wrapt.wrappers', 'wrapt._wrappers', 'wrapt.decorators', 'wrapt.arguments', 'wrapt.importer', 'tensorflow.python.data.util.nest', 'tensorflow.python.framework.sparse_tensor', 'tensorflow.python.framework.composite_tensor', 'tensorflow.python.util._pywrap_utils', 'tensorflow.python.util.nest', 'tensorflow.python.util._pywrap_nest', 'tensorflow.python.framework.constant_op', 'tensorflow.python.eager.execute', 'google.protobuf.text_format', 'encodings.raw_unicode_escape', 'encodings.unicode_escape', 'google.protobuf.internal.decoder', 'google.protobuf.internal.encoder', 'google.protobuf.internal.wire_format', 'google.protobuf.internal.type_checkers', 'tensorflow.python.eager.core', 'tensorflow.python.framework.errors', 'tensorflow.python.framework.errors_impl', 'tensorflow.core.lib', 'tensorflow.core.lib.core', 'tensorflow.core.lib.core.error_codes_pb2', 'tensorflow.core.protobuf.error_codes_pb2', 'tensorflow.python._pywrap_py_exception_registry', 'tensorflow.python.framework.dtypes', 'tensorflow.python.framework._dtypes', 'tensorflow.python.types', 'tensorflow.python.types.doc_typealias', 'tensorflow.python.lib', 'tensorflow.python.lib.core', 'tensorflow.python.lib.core._pywrap_bfloat16', 'tensorflow.python.framework.ops', 'absl.app', 'absl.command_name', 'tensorflow.python.eager.tape', 'tensorflow.python.util.lazy_loader', 'tensorflow.python.framework.cpp_shape_inference_pb2', 'tensorflow.python.framework.indexed_slices', 'tensorflow.python.framework.tensor_conversion_registry', 'tensorflow.python.framework.tensor_shape', 'tensorflow.python.framework.type_spec', 'tensorflow.python.types.trace', 'tensorflow.python.types.internal', 'tensorflow.python.framework.registry', 'tensorflow.python.framework.traceable_stack', 'tensorflow.python.framework.versions', 'tensorflow.python.ops', 'tensorflow.python.ops.control_flow_util', 'tensorflow.python.profiler', 'tensorflow.python.profiler.trace', 'tensorflow.python.profiler.internal', 'tensorflow.python.profiler.internal._pywrap_traceme', 'tensorflow.python.types.core', 'tensorflow.python.util.dispatch', 'tensorflow.python.framework._pywrap_python_api_dispatcher', 'tensorflow.python.util.traceback_utils', 'tensorflow.python.util.type_annotations', 'tensorflow.python.util.function_utils', 'tensorflow.python.util.lock_util', 'tensorflow.python.util.memory', 'tensorflow.python.util.object_identity', 'tensorflow.python.util.tf_stack', 'tensorflow.python.util._tf_stack', 'tensorflow.python.framework.op_callbacks', 'tensorflow.python.framework.tensor_util', 'tensorflow.python.framework.fast_tensor_util', 'tensorflow.python.framework.tensor_spec', 'tensorflow.python.framework.common_shapes', 'tensorflow.python.ops.gen_sparse_ops', 'tensorflow.python.framework.op_def_registry', 'tensorflow.python.framework._op_def_registry', 'tensorflow.python.framework.op_def_library', 'tensorflow.python.ops.tensor_array_ops', 'tensorflow.python.ops.array_ops', 'tensorflow.python.ops.gen_array_ops', 'tensorflow.python.ops.gen_math_ops', 'tensorflow.python.ops.gen_control_flow_ops', 'tensorflow.python.ops.gen_data_flow_ops', 'tensorflow.python.ops.list_ops', 'tensorflow.python.ops.gen_list_ops', 'tensorflow.python.ops.handle_data_util', 'tensorflow.python.ops.math_ops', 'tensorflow.python.framework.graph_util', 'tensorflow.python.framework.graph_util_impl', 'tensorflow.python.framework._proto_comparators', 'tensorflow.python.ops.gen_bitwise_ops', 'tensorflow.python.ops.gen_nn_ops', 'tensorflow.python.util.tf_should_use', 'tensorflow.python.ops.ragged', 'tensorflow.python.ops.ragged.ragged_tensor', 'tensorflow.python.client.session', 'tensorflow.python.framework.error_interpolation', 'tensorflow.core.protobuf.graph_debug_info_pb2', 'tensorflow.python.ops.session_ops', 'tensorflow.python.training', 'tensorflow.python.training.experimental', 'tensorflow.python.training.experimental.mixed_precision_global_state', 'tensorflow.python.ops.check_ops', 'tensorflow.python.ops.control_flow_ops', 'tensorflow.core.protobuf.control_flow_pb2', 'tensorflow.python.ops.gen_functional_ops', 'tensorflow.python.ops.gen_logging_ops', 'tensorflow.python.ops.gen_ragged_conversion_ops', 'tensorflow.python.ops.ragged.ragged_config', 'tensorflow.python.ops.ragged.ragged_tensor_value', 'tensorflow.python.ops.ragged.row_partition', 'tensorflow.python.ops.gen_ragged_math_ops', 'tensorflow.python.ops.ragged.segment_id_ops', 'tensorflow.python.ops.ragged.ragged_util', 'tensorflow.python.ops.gen_experimental_dataset_ops', 'tensorflow.python.data.experimental.service._pywrap_server_lib', 'tensorflow.python.data.experimental.service._pywrap_utils', 'tensorflow.python.data.ops', 'tensorflow.python.data.ops.dataset_ops', 'tensorflow.core.framework.dataset_metadata_pb2', 'tensorflow.core.framework.dataset_options_pb2', 'tensorflow.core.framework.model_pb2', 'tensorflow.python.data.ops.iterator_ops', 'tensorflow.python.data.ops.optional_ops', 'tensorflow.python.ops.gen_dataset_ops', 'tensorflow.python.data.ops.options', 'tensorflow.python.data.util.options', 'tensorflow.python.training.saver', 'tensorflow.core.protobuf.meta_graph_pb2', 'google.protobuf.any_pb2', 'tensorflow.core.protobuf.saved_object_graph_pb2', 'tensorflow.core.framework.variable_pb2', 'tensorflow.core.protobuf.struct_pb2', 'tensorflow.core.protobuf.trackable_object_graph_pb2', 'google.protobuf.wrappers_pb2', 'tensorflow.core.protobuf.saver_pb2', 'tensorflow.python.framework.meta_graph', 'tensorflow.python.framework.graph_io', 'tensorflow.python.lib.io', 'tensorflow.python.lib.io.file_io', 'tensorflow.python.lib.io._pywrap_file_io', 'tensorflow.python.framework.importer', 'tensorflow.python.framework.function', 'tensorflow.python.framework.graph_to_function_def', 'tensorflow.python.ops.resource_variable_ops', 'tensorflow.python.framework.auto_control_deps_utils', 'tensorflow.python.ops.gen_resource_variable_ops', 'tensorflow.python.ops.gen_state_ops', 'tensorflow.python.ops.state_ops', 'tensorflow.python.ops.variables', 'tensorflow.python.training.tracking', 'tensorflow.python.training.tracking.base', 'tensorflow.python.ops.gen_io_ops', 'tensorflow.python.saved_model', 'tensorflow.python.saved_model.registration', 'tensorflow.python.training.saving', 'tensorflow.python.training.saving.saveable_object', 'tensorflow.python.ops.variable_scope', 'tensorflow.python.ops.init_ops', 'tensorflow.python.ops.gen_linalg_ops', 'tensorflow.python.ops.linalg_ops_impl', 'tensorflow.python.ops.random_ops', 'tensorflow.python.framework.random_seed', 'tensorflow.python.framework.config', 'tensorflow.python.util._pywrap_determinism', 'tensorflow.python.util._pywrap_tensor_float_32_execution', 'tensorflow.python.ops.gen_random_ops', 'tensorflow.python.ops.stateless_random_ops', 'tensorflow.python.ops.bitwise_ops', 'tensorflow.python.ops.gen_stateless_random_ops', 'tensorflow.python.ops.gen_stateless_random_ops_v2', 'tensorflow.python.ops.io_ops', 'tensorflow.python.lib.io.python_io', 'tensorflow.python.lib.io.tf_record', 'tensorflow.python.lib.io._pywrap_record_io', 'tensorflow.python.ops.gen_parsing_ops', 'tensorflow.python.ops.string_ops', 'tensorflow.python.ops.gen_string_ops', 'tensorflow.python.platform.gfile', 'tensorflow.python.saved_model.pywrap_saved_model.constants', 'tensorflow.python.saved_model.pywrap_saved_model.metrics', 'tensorflow.python.saved_model.pywrap_saved_model', 'tensorflow.python.training.checkpoint_management', 'tensorflow.python.training.training_util', 'tensorflow.python.training.checkpoint_state_pb2', 'tensorflow.python.training.py_checkpoint_reader', 'tensorflow.python.util._pywrap_checkpoint_reader', 'tensorflow.python.training.saving.saveable_object_util', 'tensorflow.python.eager.def_function', 'tensorflow.python.distribute', 'tensorflow.python.distribute.parallel_device', 'tensorflow.python.distribute.parallel_device.parallel_device', 'tensorflow.python._pywrap_parallel_device', 'tensorflow.python.distribute.device_util', 'tensorflow.python.distribute.parallel_device.saving', 'tensorflow.python.tpu', 'tensorflow.python.tpu.ops', 'tensorflow.python.tpu.ops.tpu_ops', 'tensorflow.python.ops.gen_tpu_ops', 'tensorflow.python.tpu.tpu_function', 'tensorflow.python.eager.function', 'tensorflow.python.eager.backprop', 'tensorflow.python.eager.backprop_util', 'tensorflow.python.eager.imperative_grad', 'tensorflow.python.ops.unconnected_gradients', 'tensorflow.python.ops.default_gradient', 'tensorflow.python.eager.forwardprop_util', 'tensorflow.python.eager.function_cache', 'tensorflow.python.eager.function_trace_type', 'tensorflow.python.framework.func_graph', 'tensorflow.python.eager.graph_only_ops', 'tensorflow.python.framework.auto_control_deps', 'tensorflow.python.saved_model.save_context', 'tensorflow.python.ops.functional_ops', 'tensorflow.python.ops.gradients_util', 'tensorflow.python.ops.control_flow_state', 'tensorflow.python.ops.control_flow_v2_func_graphs', 'tensorflow.python.eager.lift_to_graph', 'tensorflow.python.ops.op_selector', 'tensorflow.python.data.ops.structured_function', 'tensorflow.python.ops.script_ops', 'tensorflow.python.lib.core._pywrap_py_func', 'tensorflow.python.ops.gen_script_ops', 'tensorflow.python.data.util.random_seed', 'tensorflow.python.data.util.traverse', 'tensorflow.python.framework.smart_cond', 'tensorflow.python.ops.logging_ops', 'tensorflow.python.training.tracking.tracking', 'tensorflow.python.training.tracking.asset', 'tensorflow.python.training.tracking.autotrackable', 'tensorflow.python.training.tracking.data_structures', 'tensorflow.python.saved_model.revived_types', 'tensorflow.python.training.tracking.layer_utils', 'tensorflow.python.training.tracking.resource', 'tensorflow.python.data.experimental.service.server_lib', 'tensorflow.core.protobuf.service_config_pb2', 'tensorflow.python.data.experimental.ops.batching', 'tensorflow.python.data.util.convert', 'tensorflow.python.data.experimental.ops.cardinality', 'tensorflow.python.data.experimental.ops.counter', 'tensorflow.python.data.experimental.ops.distribute', 'tensorflow.python.data.experimental.ops.enumerate_ops', 'tensorflow.python.data.experimental.ops.error_ops', 'tensorflow.python.data.experimental.ops.get_single_element', 'tensorflow.python.data.experimental.ops.grouping', 'tensorflow.python.data.experimental.ops.interleave_ops', 'tensorflow.python.data.ops.readers', 'tensorflow.python.data.experimental.ops.io', 'tensorflow.python.data.experimental.ops.iterator_ops', 'tensorflow.python.training.basic_session_run_hooks', 'tensorflow.core.util', 'tensorflow.core.util.event_pb2', 'tensorflow.python.client.timeline', 'tensorflow.python.training.session_run_hook', 'tensorflow.python.training.summary_io', 'tensorflow.python.summary', 'tensorflow.python.summary.summary_iterator', 'tensorflow.python.summary.writer', 'tensorflow.python.summary.writer.writer', 'tensorflow.python.summary.plugin_asset', 'tensorflow.python.summary.writer.event_file_writer', 'tensorflow.python.client._pywrap_events_writer', 'tensorflow.python.summary.writer.event_file_writer_v2', 'tensorflow.python.ops.summary_ops_v2', 'tensorflow.python.eager.profiler', 'tensorflow.python.profiler.internal._pywrap_profiler', 'tensorflow.python.ops.gen_summary_ops', 'tensorflow.python.ops.summary_op_util', 'tensorflow.python.summary.writer.writer_cache', 'tensorflow.python.data.experimental.ops.lookup_ops', 'tensorflow.python.ops.lookup_ops', 'tensorflow.python.ops.gen_lookup_ops', 'tensorflow.python.data.experimental.ops.parsing_ops', 'tensorflow.python.ops.parsing_ops', 'tensorflow.python.ops.parsing_config', 'tensorflow.python.ops.sparse_ops', 'tensorflow.python.ops.special_math_ops', 'opt_einsum', 'opt_einsum.blas', 'opt_einsum.helpers', 'opt_einsum.parser', 'opt_einsum.paths', 'opt_einsum.path_random', 'opt_einsum.contract', 'opt_einsum.backends', 'opt_einsum.backends.cupy', 'opt_einsum.sharing', 'opt_einsum.backends.dispatch', 'opt_einsum.backends.object_arrays', 'opt_einsum.backends.jax', 'opt_einsum.backends.tensorflow', 'opt_einsum.backends.theano', 'opt_einsum.backends.torch', 'opt_einsum._version', 'tensorflow.compiler', 'tensorflow.compiler.tf2xla', 'tensorflow.compiler.tf2xla.ops', 'tensorflow.compiler.tf2xla.ops.gen_xla_ops', 'tensorflow.python.ops.gen_special_math_ops', 'tensorflow.python.ops.ragged.ragged_math_ops', 'tensorflow.python.ops.map_fn', 'tensorflow.python.autograph', 'tensorflow.python.autograph.operators', 'tensorflow.python.autograph.operators.conditional_expressions', 'tensorflow.python.autograph.operators.control_flow', 'tensorflow.python.autograph.operators.py_builtins', 'tensorflow.python.autograph.utils', 'tensorflow.python.autograph.utils.context_managers', 'tensorflow.python.autograph.utils.misc', 'tensorflow.python.autograph.utils.py_func', 'tensorflow.python.autograph.utils.tensor_list', 'tensorflow.python.autograph.utils.tensors', 'tensorflow.python.ops.sort_ops', 'tensorflow.python.ops.nn_ops', 'tensorflow.python.platform.device_context', 'tensorflow.python.autograph.operators.variables', 'tensorflow.python.autograph.utils.ag_logging', 'tensorflow.python.data.experimental.ops.take_while_ops', 'tensorflow.python.types.distribute', 'tensorflow.python.autograph.operators.data_structures', 'tensorflow.python.autograph.operators.exceptions', 'tensorflow.python.autograph.operators.logical', 'tensorflow.python.autograph.operators.slices', 'tensorflow.python.autograph.core', 'tensorflow.python.autograph.core.converter', 'tensorflow.python.autograph.pyct', 'tensorflow.python.autograph.pyct.anno', 'gast', 'gast.gast', 'gast.ast3', 'gast.astn', 'gast.version', 'tensorflow.python.autograph.pyct.ast_util', 'tensorflow.python.autograph.pyct.parser', 'astunparse', 'astunparse.unparser', 'astunparse.printer', 'tensorflow.python.autograph.pyct.errors', 'tensorflow.python.autograph.pyct.inspect_utils', 'tensorflow.python.autograph.pyct.qual_names', 'tensorflow.python.autograph.pyct.templates', 'tensorflow.python.autograph.pyct.transformer', 'tensorflow.python.autograph.pyct.pretty_printer', 'termcolor', 'tensorflow.python.autograph.impl', 'tensorflow.python.autograph.impl.api', 'tensorflow.python.autograph.converters', 'tensorflow.python.autograph.converters.asserts', 'tensorflow.python.autograph.converters.break_statements', 'tensorflow.python.autograph.pyct.static_analysis', 'tensorflow.python.autograph.pyct.static_analysis.activity', 'tensorflow.python.autograph.pyct.static_analysis.annos', 'tensorflow.python.autograph.converters.call_trees', 'tensorflow.python.autograph.converters.conditional_expressions', 'tensorflow.python.autograph.converters.continue_statements', 'tensorflow.python.autograph.converters.control_flow', 'tensorflow.python.autograph.lang', 'tensorflow.python.autograph.lang.directives', 'tensorflow.python.autograph.pyct.cfg', 'tensorflow.python.autograph.pyct.origin_info', 'tensorflow.python.autograph.pyct.static_analysis.liveness', 'tensorflow.python.autograph.pyct.static_analysis.reaching_definitions', 'tensorflow.python.autograph.pyct.static_analysis.reaching_fndefs', 'tensorflow.python.autograph.converters.directives', 'tensorflow.python.autograph.converters.functions', 'tensorflow.python.autograph.converters.lists', 'tensorflow.python.autograph.converters.logical_expressions', 'tensorflow.python.autograph.converters.return_statements', 'tensorflow.python.autograph.converters.slices', 'tensorflow.python.autograph.converters.variables', 'tensorflow.python.autograph.core.ag_ctx', 'tensorflow.python.autograph.core.function_wrappers', 'tensorflow.python.autograph.core.unsupported_features_checker', 'tensorflow.python.autograph.impl.conversion', 'tensorflow.python.autograph.core.config', 'tensorflow.python.autograph.core.config_lib', 'tensorflow.python.autograph.pyct.cache', 'tensorflow.python.autograph.lang.special_functions', 'tensorflow.python.autograph.pyct.error_utils', 'tensorflow.python.autograph.pyct.transpiler', 'tensorflow.python.autograph.pyct.loader', 'tensorflow.python.autograph.pyct.naming', 'tensorflow.python.util.all_util', 'tensorflow.python.ops.ragged.ragged_functional_ops', 'tensorflow.python.data.experimental.ops.prefetching_ops', 'tensorflow.python.data.experimental.ops.random_ops', 'tensorflow.python.data.experimental.ops.readers', 'tensorflow.python.data.experimental.ops.resampling', 'tensorflow.python.data.experimental.ops.scan_ops', 'tensorflow.python.data.experimental.ops.shuffle_ops', 'tensorflow.python.data.experimental.ops.snapshot', 'tensorflow.python.data.experimental.ops.unique', 'tensorflow.python.data.experimental.ops.writers', 'tensorflow.python.feature_column', 'tensorflow.python.feature_column.feature_column_lib', 'tensorflow.python.feature_column.feature_column', 'tensorflow.python.feature_column.utils', 'tensorflow.python.layers', 'tensorflow.python.layers.base', 'tensorflow.python.keras', 'tensorflow.python.keras.distribute', 'tensorflow.python.keras.distribute.sidecar_evaluator', 'tensorflow.python.training.checkpoint_utils', 'tensorflow.python.distribute.distribution_strategy_context', 'tensorflow.python.training.tracking.util', 'tensorflow.python.saved_model.utils_impl', 'tensorflow.python.saved_model.constants', 'tensorflow.python.saved_model.nested_structure_coder', 'tensorflow.python.distribute.values', 'tensorflow.python.distribute.distribute_lib', 'tensorflow.python.distribute.collective_util', 'tensorflow.python.distribute.numpy_dataset', 'tensorflow.python.distribute.reduce_util', 'tensorflow.python.ops.custom_gradient', 'tensorflow.python.ops.losses', 'tensorflow.python.ops.losses.losses_impl', 'tensorflow.python.ops.confusion_matrix', 'tensorflow.python.ops.nn', 'tensorflow.python.ops.ctc_ops', 'tensorflow.python.ops.gen_ctc_ops', 'tensorflow.python.ops.inplace_ops', 'tensorflow.python.ops.linalg_ops', 'tensorflow.python.ops.nn_grad', 'tensorflow.python.ops.embedding_ops', 'tensorflow.python.ops.clip_ops', 'tensorflow.python.ops.data_flow_grad', 'tensorflow.python.ops.data_flow_ops', 'tensorflow.python.ops.nn_impl', 'tensorflow.python.ops.candidate_sampling_ops', 'tensorflow.python.ops.gen_candidate_sampling_ops', 'tensorflow.python.ops.losses.util', 'tensorflow.python.ops.weights_broadcast_ops', 'tensorflow.python.ops.sets', 'tensorflow.python.ops.sets_impl', 'tensorflow.python.ops.gen_set_ops', 'tensorflow.python.distribute.packed_distributed_variable', 'tensorflow.python.distribute.values_util', 'tensorflow.python.saved_model.save_options', 'tensorflow.python.framework.extension_type', 'tensorflow.python.framework.extension_type_field', 'tensorflow.python.framework.immutable_dict', 'tensorflow.python.ops.composite_tensor_ops', 'tensorflow.core.protobuf.composite_tensor_variant_pb2', 'tensorflow.python.ops.gen_composite_tensor_ops', 'tensorflow.python.training.saving.checkpoint_options', 'tensorflow.python.training.saving.functional_saver', 'tensorflow.python.training.saving.saveable_hook', 'tensorflow.python.training.tracking.graph_view', 'tensorflow.python.training.optimizer', 'tensorflow.python.distribute.distribute_utils', 'tensorflow.python.distribute.tpu_values', 'tensorflow.python.distribute.tpu_replicated_variable', 'tensorflow.compiler.xla', 'tensorflow.compiler.xla.experimental', 'tensorflow.compiler.xla.experimental.xla_sharding', 'tensorflow.compiler.xla.experimental.xla_sharding.xla_sharding', 'tensorflow.compiler.tf2xla.python', 'tensorflow.compiler.tf2xla.python.xla', 'tensorflow.python.ops.numpy_ops', 'tensorflow.python.ops.numpy_ops.np_random', 'tensorflow.python.ops.numpy_ops.np_array_ops', 'tensorflow.python.ops.manip_ops', 'tensorflow.python.ops.gen_manip_ops', 'tensorflow.python.ops.numpy_ops.np_arrays', 'tensorflow.python.ops.numpy_ops.np_dtypes', 'tensorflow.python.ops.numpy_ops.np_export', 'tensorflow.python.ops.numpy_ops.np_utils', 'tensorflow.python.ops.numpy_ops.np_config', 'tensorflow.python.ops.numpy_ops.np_math_ops', 'tensorflow.compiler.xla.xla_data_pb2', 'tensorflow.python.distribute.tpu_util', 'tensorflow.python.tpu.tpu', 'tensorflow.core.protobuf.tpu', 'tensorflow.core.protobuf.tpu.dynamic_padding_pb2', 'tensorflow.core.protobuf.tpu.tpu_embedding_configuration_pb2', 'tensorflow.core.protobuf.tpu.optimization_parameters_pb2', 'tensorflow.compiler.xla.service', 'tensorflow.compiler.xla.service.hlo_pb2', 'tensorflow.python.compiler', 'tensorflow.python.compiler.xla', 'tensorflow.python.compiler.xla.jit', 'tensorflow.python.compiler.xla.xla', 'tensorflow.compiler.jit', 'tensorflow.compiler.jit.ops', 'tensorflow.compiler.jit.ops.xla_ops', 'tensorflow.compiler.jit.ops.xla_ops_grad', 'tensorflow.python.distribute.summary_op_util', 'tensorflow.python.tpu.device_assignment', 'tensorflow.python.tpu.topology', 'tensorflow.core.protobuf.tpu.topology_pb2', 'tensorflow.python.tpu.tpu_feed', 'tensorflow.python.tpu.tpu_name_util', 'tensorflow.python.tpu.tpu_sharding', 'tensorflow.python.ops.gen_tpu_partition_ops', 'tensorflow.python.ops.gradients', 'tensorflow.python.eager.forwardprop', 'tensorflow.python.ops.parallel_for', 'tensorflow.python.ops.parallel_for.control_flow_ops', 'tensorflow.python.ops.parallel_for.pfor', 'tensorflow.python.ops.gen_image_ops', 'tensorflow.python.ops.gen_spectral_ops', 'tensorflow.python.platform.flags', 'tensorflow.python.ops.parallel_for.gradients', 'tensorflow.python.ops.gradients_impl', 'tensorflow.python.ops.array_grad', 'tensorflow.python.ops.control_flow_grad', 'tensorflow.python.ops.image_grad', 'tensorflow.python.ops.linalg_grad', 'tensorflow.python.ops.linalg', 'tensorflow.python.ops.linalg.linalg_impl', 'tensorflow.python.ops.manip_grad', 'tensorflow.python.ops.math_grad', 'tensorflow.python.ops.optional_grad', 'tensorflow.python.ops.random_grad', 'tensorflow.python.training.slot_creator', 'tensorflow.python.keras.models', 'tensorflow.python.keras.backend', 'tensorflow.python.keras.backend_config', 'tensorflow.python.keras.distribute.distribute_coordinator_utils', 'tensorflow.python.training.monitored_session', 'tensorflow.python.distribute.distribute_coordinator_context', 'tensorflow.python.ops.resources', 'tensorflow.python.summary.summary', 'google.protobuf.json_format', 'tensorflow.python.training.coordinator', 'tensorflow.python.training.queue_runner', 'tensorflow.python.training.queue_runner_impl', 'tensorflow.core.protobuf.queue_runner_pb2', 'tensorflow.python.training.session_manager', 'tensorflow.python.training.server_lib', 'tensorflow.core.protobuf.device_filters_pb2', 'tensorflow.core.protobuf.tensorflow_server_pb2', 'tensorflow.python.keras.engine', 'tensorflow.python.keras.engine.keras_tensor', 'tensorflow.python.keras.utils', 'tensorflow.python.keras.utils.object_identity', 'tensorflow.python.ops.ragged.ragged_operators', 'tensorflow.python.ops.ragged.ragged_getitem', 'tensorflow.python.ops.ragged.ragged_gather_ops', 'tensorflow.python.ops.gen_ragged_array_ops', 'tensorflow.python.ops.ragged.ragged_array_ops', 'tensorflow.python.ops.ragged.ragged_shape', 'tensorflow.python.keras.utils.control_flow_util', 'tensorflow.python.keras.utils.tf_contextlib', 'tensorflow.python.keras.utils.tf_inspect', 'tensorflow.python.ops.image_ops', 'tensorflow.python.ops.image_ops_impl', 'tensorflow.python.ops.tensor_array_grad', 'tensorflow.python.training.moving_averages', 'tensorflow.python.util.keras_deps', 'tensorflow.python.keras.metrics', 'tensorflow.python.keras.activations', 'tensorflow.python.keras.layers', 'tensorflow.python.keras.engine.input_layer', 'tensorflow.python.keras.distribute.distributed_training_utils', 'tensorflow.python.keras.engine.base_layer', 'tensorflow.python.keras.constraints', 'tensorflow.python.keras.utils.generic_utils', 'tensorflow.python.keras.initializers', 'tensorflow.python.keras.initializers.initializers_v1', 'tensorflow.python.keras.initializers.initializers_v2', 'tensorflow.python.keras.regularizers', 'tensorflow.python.keras.engine.base_layer_utils', 'tensorflow.python.keras.utils.tf_utils', 'tensorflow.python.distribute.coordinator', 'tensorflow.python.distribute.coordinator.cluster_coordinator', 'tensorflow.python.distribute.parameter_server_strategy_v2', 'tensorflow.python.distribute.cross_device_ops', 'multiprocessing.dummy', 'multiprocessing.dummy.connection', 'tensorflow.python.client.device_lib', 'tensorflow.core.framework.device_attributes_pb2', 'tensorflow.python.client._pywrap_device_lib', 'tensorflow.python.distribute.cross_device_utils', 'tensorflow.python.ops.collective_ops', 'tensorflow.python.ops.gen_collective_ops', 'tensorflow.python.ops.nccl_ops', 'tensorflow.python.ops.gen_nccl_ops', 'tensorflow.python.distribute.ps_values', 'tensorflow.python.distribute.coordinator.coordinator_context', 'tensorflow.python.framework.kernels', 'tensorflow.core.framework.kernel_def_pb2', 'tensorflow.python.distribute.input_lib', 'tensorflow.python.data.ops.multi_device_iterator_ops', 'tensorflow.python.distribute.input_ops', 'tensorflow.python.distribute.input_util', 'tensorflow.python.distribute.v1', 'tensorflow.python.distribute.v1.input_lib', 'tensorflow.python.distribute.mirrored_run', 'tensorflow.python.distribute.shared_variable_creator', 'tensorflow.python.distribute.multi_worker_util', 'tensorflow.python.distribute.parameter_server_strategy', 'tensorflow.python.distribute.cluster_resolver', 'tensorflow.python.distribute.cluster_resolver.cluster_resolver', 'tensorflow.python.distribute.cluster_resolver.gce_cluster_resolver', 'googleapiclient', 'googleapiclient.discovery', 'six.moves.urllib.parse', 'email.generator', 'email.mime', 'email.mime.multipart', 'email.mime.base', 'email.policy', 'email.headerregistry', 'email._header_value_parser', 'email.contentmanager', 'email.mime.nonmultipart', 'httplib2', 'socks', 'httplib2.iri2uri', 'httplib2.certs', 'certifi', 'certifi.core', 'importlib.resources', 'uritemplate', 'uritemplate.api', 'uritemplate.orderedset', 'uritemplate.template', 'uritemplate.variable', 'google.api_core', 'google.api_core.version', 'google.api_core.client_options', 'google.auth', 'google.auth.version', 'google.auth._default', 'google.auth.environment_vars', 'google.auth.exceptions', 'google.auth.transport', 'google.auth.transport._http_client', 'google.auth.transport.mtls', 'google.auth.transport._mtls_helper', 'google_auth_httplib2', 'googleapiclient._auth', 'google.auth.credentials', 'google.auth._helpers', 'oauth2client', 'oauth2client.client', 'oauth2client._helpers', 'oauth2client._pkce', 'oauth2client.clientsecrets', 'oauth2client.transport', 'oauth2client.crypt', 'oauth2client._pure_python_crypt', 'pyasn1', 'pyasn1.codec', 'pyasn1.codec.der', 'pyasn1.codec.der.decoder', 'pyasn1.codec.cer', 'pyasn1.codec.cer.decoder', 'pyasn1.error', 'pyasn1.codec.ber', 'pyasn1.codec.ber.decoder', 'pyasn1.debug', 'pyasn1.compat', 'pyasn1.compat.octets', 'pyasn1.codec.ber.eoo', 'pyasn1.type', 'pyasn1.type.base', 'pyasn1.compat.calling', 'pyasn1.type.constraint', 'pyasn1.type.error', 'pyasn1.type.tag', 'pyasn1.type.tagmap', 'pyasn1.compat.integer', 'pyasn1.type.char', 'pyasn1.type.univ', 'pyasn1.compat.binary', 'pyasn1.type.namedtype', 'pyasn1.type.namedval', 'pyasn1.type.useful', 'pyasn1.compat.dateandtime', 'pyasn1.compat.string', 'pyasn1_modules', 'pyasn1_modules.pem', 'pyasn1_modules.rfc2459', 'pyasn1.type.opentype', 'pyasn1_modules.rfc5208', 'pyasn1_modules.rfc2251', 'rsa', 'rsa.key', 'rsa.prime', 'rsa.common', 'rsa.randnum', 'rsa.transform', 'rsa.pem', 'rsa.core', 'rsa.pkcs1', 'googleapiclient.mimeparse', 'googleapiclient.errors', 'googleapiclient._helpers', 'googleapiclient.http', 'googleapiclient.model', 'googleapiclient.version', 'googleapiclient.schema', 'tensorflow.python.distribute.cluster_resolver.kubernetes_cluster_resolver', 'tensorflow.python.distribute.cluster_resolver.slurm_cluster_resolver', 'tensorflow.python.distribute.cluster_resolver.tfconfig_cluster_resolver', 'tensorflow.python.distribute.cluster_resolver.tpu_cluster_resolver', 'tensorflow.python.distribute.cluster_resolver.tpu', 'tensorflow.python.distribute.cluster_resolver.tpu.tpu_cluster_resolver', 'tensorflow.python.tpu.tpu_system_metadata', 'tensorflow.python.tpu.client', 'tensorflow.python.tpu.client.client', 'six.moves.urllib.error', 'tensorflow.python.training.device_setter', 'tensorflow.python.distribute.sharded_variable', 'tensorflow.python.ops.partitioned_variables', 'tensorflow.python.eager.remote', 'tensorflow.python.platform.remote_utils', 'tensorflow.python.distribute.coordinator.metric_utils', 'tensorflow.python.distribute.coordinator.values', 'tensorflow.python.distribute.coordinator.watchdog', 'tensorflow.python.eager.cancellation', 'tensorflow.python.keras.engine.input_spec', 'tensorflow.python.keras.engine.node', 'tensorflow.python.keras.saving', 'tensorflow.python.keras.saving.saved_model', 'tensorflow.python.keras.saving.saved_model.json_utils', 'tensorflow.python.keras.mixed_precision', 'tensorflow.python.keras.mixed_precision.autocast_variable', 'tensorflow.python.keras.mixed_precision.loss_scale_optimizer', 'tensorflow.python.distribute.collective_all_reduce_strategy', 'tensorflow.python.distribute.mirrored_strategy', 'tensorflow.python.tpu.tpu_strategy_util', 'tensorflow.python.distribute.one_device_strategy', 'tensorflow.python.distribute.tpu_strategy', 'tensorflow.python.tpu.training_loop', 'tensorflow.python.tpu.tensor_tracer', 'tensorflow.python.platform.analytics', 'tensorflow.python.tpu.tensor_tracer_flags', 'tensorflow.python.tpu.tensor_tracer_report', 'tensorflow.python.tpu.tensor_tracer_pb2', 'tensorflow.python.keras.optimizers', 'tensorflow.python.keras.optimizer_v1', 'tensorflow.python.keras.optimizer_v2', 'tensorflow.python.keras.optimizer_v2.adadelta', 'tensorflow.python.keras.optimizer_v2.optimizer_v2', 'tensorflow.python.distribute.central_storage_strategy', 'tensorflow.python.keras.optimizer_v2.learning_rate_schedule', 'tensorflow.python.keras.optimizer_v2.utils', 'tensorflow.python.keras.utils.layer_utils', 'tensorflow.python.training.gen_training_ops', 'tensorflow.python.ops.gen_training_ops', 'tensorflow.python.keras.optimizer_v2.adagrad', 'tensorflow.python.keras.optimizer_v2.adam', 'tensorflow.python.keras.optimizer_v2.adamax', 'tensorflow.python.keras.optimizer_v2.ftrl', 'tensorflow.python.keras.optimizer_v2.gradient_descent', 'tensorflow.python.keras.optimizer_v2.nadam', 'tensorflow.python.keras.optimizer_v2.rmsprop', 'tensorflow.python.keras.mixed_precision.loss_scale', 'tensorflow.python.training.experimental.loss_scale', 'tensorflow.python.training.experimental.mixed_precision', 'tensorflow.python.training.experimental.loss_scale_optimizer', 'tensorflow.python.training.tracking.base_delegate', 'tensorflow.python.keras.mixed_precision.policy', 'tensorflow.python.keras.mixed_precision.device_compatibility_check', 'tensorflow.python.keras.saving.saved_model.layer_serialization', 'tensorflow.python.keras.saving.saved_model.base_serialization', 'tensorflow.python.keras.saving.saved_model.utils', 'tensorflow.python.keras.saving.saved_model.constants', 'tensorflow.python.keras.saving.saved_model.save_impl', 'tensorflow.python.keras.saving.saving_utils', 'tensorflow.python.keras.losses', 'tensorflow.python.keras.utils.losses_utils', 'tensorflow.python.ops.ragged.ragged_map_ops', 'tensorflow.python.keras.utils.version_utils', 'tensorflow.python.keras.utils.io_utils', 'tensorflow.python.keras.saving.saved_model.load', 'tensorflow.python.keras.protobuf', 'tensorflow.python.keras.protobuf.saved_metadata_pb2', 'tensorflow.python.keras.protobuf.versions_pb2', 'tensorflow.python.keras.saving.saved_model.serialized_attributes', 'tensorflow.python.keras.utils.metrics_utils', 'tensorflow.python.saved_model.load', 'tensorflow.python.saved_model.function_deserialization', 'tensorflow.python.framework.function_def_to_graph', 'tensorflow.python.saved_model.load_options', 'tensorflow.python.saved_model.load_v1_in_v2', 'tensorflow.python.eager.wrap_function', 'tensorflow.python.saved_model.loader_impl', 'tensorflow.core.protobuf.saved_model_pb2', 'tensorflow.python.saved_model.signature_def_utils', 'tensorflow.python.saved_model.signature_def_utils_impl', 'tensorflow.python.saved_model.signature_constants', 'tensorflow.python.saved_model.signature_serialization', 'tensorflow.python.saved_model.function_serialization', 'tensorflow.python.training.tracking.trackable_utils', 'tensorflow.python.module', 'tensorflow.python.module.module', 'tensorflow.python.keras.engine.base_preprocessing_layer', 'tensorflow.python.keras.engine.data_adapter', 'tensorflow.python.keras.engine.training_utils', 'tensorflow.python.keras.utils.data_utils', 'tarfile', 'six.moves.urllib.request', 'tensorflow.python.keras.utils.dataset_creator', 'tensorflow.python.keras.layers.advanced_activations', 'tensorflow.python.keras.layers.convolutional', 'tensorflow.python.keras.layers.pooling', 'tensorflow.python.keras.utils.conv_utils', 'tensorflow.python.keras.layers.core', 'tensorflow.python.ops.standard_ops', 'tensorflow.python.ops.cudnn_rnn_grad', 'tensorflow.python.ops.gen_cudnn_rnn_ops', 'tensorflow.python.ops.rnn_grad', 'tensorflow.python.ops.gen_rnn_ops', 'tensorflow.python.ops.sparse_grad', 'tensorflow.python.ops.state_grad', 'tensorflow.python.ops.batch_ops', 'tensorflow.python.ops.gen_batch_ops', 'tensorflow.python.ops.critical_section_ops', 'tensorflow.python.ops.histogram_ops', 'tensorflow.python.ops.numerics', 'tensorflow.python.ops.proto_ops', 'tensorflow.python.ops.gen_decode_proto_ops', 'tensorflow.python.ops.gen_encode_proto_ops', 'tensorflow.python.ops.ragged.ragged_dispatch', 'tensorflow.python.ops.ragged.ragged_tensor_shape', 'tensorflow.python.ops.template', 'tensorflow.python.compiler.tensorrt', 'tensorflow.python.compiler.tensorrt.trt_convert', 'tensorflow.python.compiler.tensorrt.utils', 'tensorflow.compiler.tf2tensorrt', 'tensorflow.compiler.tf2tensorrt._pywrap_py_utils', 'tensorflow.python.framework.convert_to_constants', 'tensorflow.python.grappler', 'tensorflow.python.grappler.tf_optimizer', 'tensorflow.python.grappler._pywrap_tf_optimizer', 'tensorflow.python.grappler.cluster', 'tensorflow.core.grappler', 'tensorflow.core.grappler.costs', 'tensorflow.core.grappler.costs.op_performance_data_pb2', 'tensorflow.core.protobuf.device_properties_pb2', 'tensorflow.python.grappler._pywrap_tf_cluster', 'tensorflow.python.saved_model.builder', 'tensorflow.python.saved_model.builder_impl', 'tensorflow.python.saved_model.loader', 'tensorflow.python.saved_model.save', 'tensorflow.python.saved_model.tag_constants', 'tensorflow.compiler.tf2tensorrt.ops', 'tensorflow.compiler.tf2tensorrt.ops.gen_trt_ops', 'tensorflow.python.keras.layers.dense_attention', 'tensorflow.python.keras.layers.embeddings', 'tensorflow.python.keras.layers.einsum_dense', 'tensorflow.python.keras.layers.multi_head_attention', 'tensorflow.python.keras.layers.local', 'tensorflow.python.keras.layers.merge', 'tensorflow.python.keras.layers.noise', 'tensorflow.python.keras.layers.kernelized', 'tensorflow.python.keras.layers.recurrent', 'tensorflow.python.keras.layers.recurrent_v2', 'tensorflow.python.platform.sysconfig', 'tensorflow.python.keras.layers.convolutional_recurrent', 'tensorflow.python.keras.layers.cudnn_recurrent', 'tensorflow.python.keras.layers.rnn_cell_wrapper_v2', 'tensorflow.python.keras.layers.legacy_rnn', 'tensorflow.python.keras.layers.legacy_rnn.rnn_cell_wrapper_impl', 'tensorflow.python.keras.layers.serialization', 'tensorflow.python.keras.saving.saved_model.metric_serialization', 'tensorflow.python.keras.engine.functional', 'tensorflow.python.keras.engine.training', 'tensorflow.python.keras.callbacks', 'tensorflow.python.keras.distribute.distributed_file_utils', 'tensorflow.python.keras.distribute.worker_training_state', 'tensorflow.python.keras.utils.mode_keys', 'tensorflow.python.saved_model.model_utils', 'tensorflow.python.saved_model.model_utils.export_output', 'tensorflow.python.saved_model.model_utils.export_utils', 'tensorflow.python.saved_model.model_utils.mode_keys', 'tensorflow.python.profiler.profiler_v2', 'requests', 'urllib3', 'urllib3.connectionpool', 'urllib3.exceptions', 'urllib3.packages', 'urllib3.packages.ssl_match_hostname', 'urllib3.packages.six', 'urllib3.packages.six.moves', 'urllib3.packages.six.moves.http_client', 'urllib3.connection', 'urllib3.util', 'urllib3.util.connection', 'urllib3.util.wait', 'urllib3.contrib', 'urllib3.contrib._appengine_environ', 'urllib3.util.request', 'urllib3.util.response', 'urllib3.util.ssl_', 'urllib3.util.timeout', 'urllib3.util.retry', 'urllib3.util.url', 'urllib3.packages.six.moves.urllib', 'urllib3.packages.six.moves.urllib.parse', 'urllib3._collections', 'urllib3.request', 'urllib3.filepost', 'urllib3.fields', 'urllib3.response', 'urllib3.util.queue', 'urllib3.poolmanager', 'chardet', 'chardet.compat', 'chardet.universaldetector', 'chardet.charsetgroupprober', 'chardet.enums', 'chardet.charsetprober', 'chardet.escprober', 'chardet.codingstatemachine', 'chardet.escsm', 'chardet.latin1prober', 'chardet.mbcsgroupprober', 'chardet.utf8prober', 'chardet.mbcssm', 'chardet.sjisprober', 'chardet.mbcharsetprober', 'chardet.chardistribution', 'chardet.euctwfreq', 'chardet.euckrfreq', 'chardet.gb2312freq', 'chardet.big5freq', 'chardet.jisfreq', 'chardet.jpcntx', 'chardet.eucjpprober', 'chardet.gb2312prober', 'chardet.euckrprober', 'chardet.cp949prober', 'chardet.big5prober', 'chardet.euctwprober', 'chardet.sbcsgroupprober', 'chardet.sbcharsetprober', 'chardet.langcyrillicmodel', 'chardet.langgreekmodel', 'chardet.langbulgarianmodel', 'chardet.langthaimodel', 'chardet.langhebrewmodel', 'chardet.hebrewprober', 'chardet.langturkishmodel', 'chardet.version', 'requests.exceptions', 'requests.__version__', 'requests.utils', 'requests.certs', 'requests._internal_utils', 'requests.compat', 'http.cookiejar', 'http.cookies', 'requests.cookies', 'requests.structures', 'requests.packages', 'requests.packages.urllib3', 'requests.packages.urllib3.connectionpool', 'requests.packages.urllib3.exceptions', 'requests.packages.urllib3.packages', 'requests.packages.urllib3.packages.ssl_match_hostname', 'requests.packages.urllib3.packages.six', 'requests.packages.urllib3.packages.six.moves', 'requests.packages.urllib3.packages.six.moves.http_client', 'requests.packages.urllib3.connection', 'requests.packages.urllib3.util', 'requests.packages.urllib3.util.connection', 'requests.packages.urllib3.util.wait', 'requests.packages.urllib3.contrib', 'requests.packages.urllib3.contrib._appengine_environ', 'requests.packages.urllib3.util.request', 'requests.packages.urllib3.util.response', 'requests.packages.urllib3.util.ssl_', 'requests.packages.urllib3.util.timeout', 'requests.packages.urllib3.util.retry', 'requests.packages.urllib3.util.url', 'requests.packages.urllib3.packages.six.moves.urllib', 'requests.packages.urllib3.packages.six.moves.urllib.parse', 'requests.packages.urllib3._collections', 'requests.packages.urllib3.request', 'requests.packages.urllib3.filepost', 'requests.packages.urllib3.fields', 'requests.packages.urllib3.response', 'requests.packages.urllib3.util.queue', 'requests.packages.urllib3.poolmanager', 'idna', 'idna.package_data', 'idna.core', 'idna.idnadata', 'idna.intranges', 'requests.packages.idna', 'requests.packages.idna.package_data', 'requests.packages.idna.core', 'requests.packages.idna.idnadata', 'requests.packages.idna.intranges', 'requests.packages.chardet', 'requests.packages.chardet.compat', 'requests.packages.chardet.universaldetector', 'requests.packages.chardet.charsetgroupprober', 'requests.packages.chardet.enums', 'requests.packages.chardet.charsetprober', 'requests.packages.chardet.escprober', 'requests.packages.chardet.codingstatemachine', 'requests.packages.chardet.escsm', 'requests.packages.chardet.latin1prober', 'requests.packages.chardet.mbcsgroupprober', 'requests.packages.chardet.utf8prober', 'requests.packages.chardet.mbcssm', 'requests.packages.chardet.sjisprober', 'requests.packages.chardet.mbcharsetprober', 'requests.packages.chardet.chardistribution', 'requests.packages.chardet.euctwfreq', 'requests.packages.chardet.euckrfreq', 'requests.packages.chardet.gb2312freq', 'requests.packages.chardet.big5freq', 'requests.packages.chardet.jisfreq', 'requests.packages.chardet.jpcntx', 'requests.packages.chardet.eucjpprober', 'requests.packages.chardet.gb2312prober', 'requests.packages.chardet.euckrprober', 'requests.packages.chardet.cp949prober', 'requests.packages.chardet.big5prober', 'requests.packages.chardet.euctwprober', 'requests.packages.chardet.sbcsgroupprober', 'requests.packages.chardet.sbcharsetprober', 'requests.packages.chardet.langcyrillicmodel', 'requests.packages.chardet.langgreekmodel', 'requests.packages.chardet.langbulgarianmodel', 'requests.packages.chardet.langthaimodel', 'requests.packages.chardet.langhebrewmodel', 'requests.packages.chardet.hebrewprober', 'requests.packages.chardet.langturkishmodel', 'requests.packages.chardet.version', 'requests.models', 'requests.hooks', 'requests.auth', 'requests.status_codes', 'requests.api', 'requests.sessions', 'requests.adapters', 'urllib3.contrib.socks', 'tensorflow.python.keras.engine.compile_utils', 'tensorflow.python.keras.saving.hdf5_format', 'tensorflow.python.keras.saving.model_config', 'h5py', 'h5py._errors', 'h5py.version', 'h5py.h5', 'h5py.defs', 'h5py._objects', 'h5py._conv', 'h5py.h5r', 'h5py.h5t', 'h5py.h5p', 'h5py.h5s', 'h5py.utils', 'h5py.h5ac', 'h5py.h5z', 'h5py.h5a', 'h5py._proxy', 'h5py.h5d', 'h5py.h5ds', 'h5py.h5f', 'h5py.h5g', 'h5py.h5i', 'h5py.h5fd', 'h5py.h5pl', 'h5py._hl', 'h5py._hl.filters', 'h5py._hl.compat', 'h5py._hl.base', 'h5py._hl.files', 'h5py._hl.group', 'h5py.h5o', 'h5py.h5l', 'h5py._hl.dataset', 'cached_property', 'h5py._selector', 'h5py._hl.selections', 'h5py._hl.selections2', 'h5py._hl.datatype', 'h5py._hl.vds', 'h5py._hl.attrs', 'tensorflow.python.keras.saving.save', 'tensorflow.python.keras.saving.saved_model.load_context', 'tensorflow.python.keras.saving.saved_model.save', 'tensorflow.python.keras.saving.saved_model.model_serialization', 'tensorflow.python.keras.saving.saved_model.network_serialization', 'tensorflow.python.keras.engine.sequential', 'tensorflow.python.keras.engine.training_v1', 'tensorflow.python.keras.distribute.distributed_training_utils_v1', 'tensorflow.python.keras.engine.training_utils_v1', 'tensorflow.python.keras.engine.training_arrays_v1', 'tensorflow.python.keras.engine.training_distributed_v1', 'tensorflow.python.keras.engine.partial_batch_padding_handler', 'tensorflow.python.keras.engine.training_eager_v1', 'tensorflow.python.keras.engine.training_generator_v1', 'tensorflow.python.keras.legacy_tf_layers', 'tensorflow.python.keras.legacy_tf_layers.base', 'tensorflow.python.keras.legacy_tf_layers.variable_scope_shim', 'tensorflow.python.feature_column.feature_column_v2', 'tensorflow.python.feature_column.sequence_feature_column', 'tensorflow.python.feature_column.serialization', 'tensorflow.python.ops.bincount_ops', 'tensorflow.python.ops.gen_count_ops', 'tensorflow.python.ops.cond_v2', 'tensorflow.python.ops.control_flow_util_v2', 'tensorflow.python.ops.gradient_checker_v2', 'tensorflow.python.ops.metrics', 'tensorflow.python.ops.metrics_impl', 'tensorflow.python.ops.stateful_random_ops', 'tensorflow.python.ops.gen_stateful_random_ops', 'tensorflow.python.ops.while_v2', 'tensorflow.python.ops.while_v2_indexed_slices_rewriter', 'tensorflow.python.ops.distributions', 'tensorflow.python.ops.distributions.distributions', 'tensorflow.python.ops.distributions.bernoulli', 'tensorflow.python.ops.distributions.distribution', 'tensorflow.python.ops.distributions.kullback_leibler', 'tensorflow.python.ops.distributions.util', 'tensorflow.python.ops.distributions.beta', 'tensorflow.python.ops.distributions.categorical', 'tensorflow.python.ops.distributions.dirichlet', 'tensorflow.python.ops.distributions.dirichlet_multinomial', 'tensorflow.python.ops.distributions.exponential', 'tensorflow.python.ops.distributions.gamma', 'tensorflow.python.ops.distributions.laplace', 'tensorflow.python.ops.distributions.special_math', 'tensorflow.python.ops.distributions.multinomial', 'tensorflow.python.ops.distributions.normal', 'tensorflow.python.ops.distributions.student_t', 'tensorflow.python.ops.distributions.uniform', 'tensorflow.python.ops.linalg.linalg', 'tensorflow.python.ops.linalg.adjoint_registrations', 'tensorflow.python.ops.linalg.linear_operator', 'tensorflow.python.ops.linalg.linear_operator_algebra', 'tensorflow.python.ops.linalg.linear_operator_util', 'tensorflow.python.ops.linalg.linear_operator_adjoint', 'tensorflow.python.ops.linalg.linear_operator_block_diag', 'tensorflow.python.ops.linalg.linear_operator_circulant', 'tensorflow.python.ops.signal', 'tensorflow.python.ops.signal.fft_ops', 'tensorflow.python.ops.linalg.linear_operator_diag', 'tensorflow.python.ops.linalg.linear_operator_householder', 'tensorflow.python.ops.linalg.linear_operator_identity', 'tensorflow.python.ops.linalg.linear_operator_kronecker', 'tensorflow.python.ops.linalg.cholesky_registrations', 'tensorflow.python.ops.linalg.linear_operator_lower_triangular', 'tensorflow.python.ops.linalg.inverse_registrations', 'tensorflow.python.ops.linalg.linear_operator_addition', 'tensorflow.python.ops.linalg.linear_operator_full_matrix', 'tensorflow.python.ops.linalg.linear_operator_block_lower_triangular', 'tensorflow.python.ops.linalg.linear_operator_inversion', 'tensorflow.python.ops.linalg.matmul_registrations', 'tensorflow.python.ops.linalg.linear_operator_composition', 'tensorflow.python.ops.linalg.linear_operator_zeros', 'tensorflow.python.ops.linalg.registrations_util', 'tensorflow.python.ops.linalg.solve_registrations', 'tensorflow.python.ops.linalg.linear_operator_low_rank_update', 'tensorflow.python.ops.linalg.linear_operator_permutation', 'tensorflow.python.ops.linalg.linear_operator_toeplitz', 'tensorflow.python.ops.linalg.linear_operator_tridiag', 'tensorflow.python.ops.linalg.sparse', 'tensorflow.python.ops.linalg.sparse.sparse', 'tensorflow.python.ops.linalg.sparse.conjugate_gradient', 'tensorflow.python.ops.linalg.sparse.sparse_csr_matrix_grad', 'tensorflow.python.ops.linalg.sparse.sparse_csr_matrix_ops', 'tensorflow.python.ops.linalg.sparse.gen_sparse_csr_matrix_ops', 'tensorflow.python.ops.losses.losses', 'tensorflow.python.ops.ragged.ragged_ops', 'tensorflow.python.ops.ragged.ragged_batch_gather_ops', 'tensorflow.python.ops.ragged.ragged_batch_gather_with_default_op', 'tensorflow.python.ops.ragged.ragged_where_op', 'tensorflow.python.ops.ragged.ragged_concat_ops', 'tensorflow.python.ops.ragged.ragged_conversion_ops', 'tensorflow.python.ops.ragged.ragged_factory_ops', 'tensorflow.python.ops.ragged.ragged_image_ops', 'tensorflow.python.ops.ragged.ragged_squeeze_op', 'tensorflow.python.ops.ragged.ragged_string_ops', 'tensorflow.python.ops.signal.signal', 'tensorflow.python.ops.signal.dct_ops', 'tensorflow.python.ops.signal.mel_ops', 'tensorflow.python.ops.signal.shape_ops', 'tensorflow.python.ops.signal.util_ops', 'fractions', 'tensorflow.python.ops.signal.mfcc_ops', 'tensorflow.python.ops.signal.reconstruction_ops', 'tensorflow.python.ops.signal.spectral_ops', 'tensorflow.python.ops.signal.window_ops', 'tensorflow.python.ops.structured', 'tensorflow.python.ops.structured.structured_ops', 'tensorflow.python.ops.structured.structured_array_ops', 'tensorflow.python.ops.structured.structured_tensor', 'tensorflow.python.profiler.profiler', 'tensorflow.core.profiler', 'tensorflow.core.profiler.tfprof_log_pb2', 'tensorflow.core.profiler.tfprof_output_pb2', 'tensorflow.python.profiler.model_analyzer', 'tensorflow.core.profiler.tfprof_options_pb2', 'tensorflow.python.profiler.option_builder', 'tensorflow.python.profiler.tfprof_logger', 'tensorflow.python.profiler.internal.flops_registry', 'tensorflow.python.util._pywrap_tfprof', 'tensorflow.python.profiler.profiler_client', 'tensorflow.python.saved_model.saved_model', 'tensorflow.python.saved_model.main_op', 'tensorflow.python.saved_model.main_op_impl', 'tensorflow.python.saved_model.method_name_updater', 'tensorflow.python.saved_model.utils', 'tensorflow.python.saved_model.simple_save', 'tensorflow.python.tpu.api', 'tensorflow.python.tpu.bfloat16', 'tensorflow.python.tpu.feature_column_v2', 'tensorflow.python.tpu.feature_column', 'tensorflow.python.tpu.tpu_embedding', 'tensorflow.python.tpu.tpu_embedding_v2', 'tensorflow.python.tpu.tpu_embedding_v2_utils', 'tensorflow.python.ops.init_ops_v2', 'tensorflow.python.tpu.tpu_optimizer', 'tensorflow.python.user_ops', 'tensorflow.python.user_ops.user_ops', 'tensorflow.python.user_ops.ops', 'tensorflow.python.user_ops.ops.gen_user_ops', 'tensorflow.python.ops.gen_audio_ops', 'tensorflow.python.ops.gen_boosted_trees_ops', 'tensorflow.python.ops.gen_sendrecv_ops', 'tensorflow.python.training.training', 'tensorflow.python.ops.sdca_ops', 'tensorflow.python.ops.gen_sdca_ops', 'tensorflow.python.training.adadelta', 'tensorflow.python.training.training_ops', 'tensorflow.python.training.adagrad', 'tensorflow.python.training.adagrad_da', 'tensorflow.python.training.proximal_adagrad', 'tensorflow.python.training.adam', 'tensorflow.python.training.ftrl', 'tensorflow.python.training.momentum', 'tensorflow.python.training.rmsprop', 'tensorflow.python.training.gradient_descent', 'tensorflow.python.training.proximal_gradient_descent', 'tensorflow.python.training.sync_replicas_optimizer', 'tensorflow.python.training.input', 'tensorflow.python.layers.utils', 'tensorflow.python.training.basic_loops', 'tensorflow.python.training.tracking.python_state', 'tensorflow.python.training.supervisor', 'tensorflow.python.training.warm_starting_util', 'tensorflow.python.training.checkpoint_ops', 'tensorflow.python.ops.gen_checkpoint_ops', 'tensorflow.core.example', 'tensorflow.core.example.example_pb2', 'tensorflow.core.example.feature_pb2', 'tensorflow.python.training.learning_rate_decay', 'tensorflow.python.keras.optimizer_v2.legacy_learning_rate_decay', 'tensorflow.python.training.quantize_training', 'tensorflow.python._pywrap_quantize_training', 'tensorflow.python.platform.app', 'tensorflow.python.platform.resource_loader', 'tensorflow.python.platform.test', 'tensorflow.python.framework.test_util', 'absl.testing', 'absl.testing.parameterized', 'absl.testing.absltest', 'unittest.mock', 'absl.testing._pretty_print_reporter', 'absl.testing.xml_reporter', 'xml.sax', 'xml.sax.xmlreader', 'xml.sax.handler', 'xml.sax._exceptions', 'xml.sax.saxutils', 'tensorflow.python.pywrap_sanitizers', 'tensorflow.python._pywrap_sanitizers', 'tensorflow.python.framework._test_metrics_util', 'tensorflow.python.framework.gpu_util', 'tensorflow.python.platform._pywrap_stacktrace_handler', 'tensorflow.python.platform.googletest', 'tensorflow.python.platform.benchmark', 'tensorflow.core.util.test_log_pb2', 'tensorflow.python.util._pywrap_util_port', 'tensorflow.python.util.protobuf', 'tensorflow.python.util.protobuf.compare', 'tensorflow.python.ops.gradient_checker', 'tensorflow.python.compat.v2_compat', 'tensorflow.python.ops.control_flow_v2_toggles', 'tensorflow.python.ops.rnn', 'tensorflow.python.ops.rnn_cell_impl', 'tensorflow.python.keras.layers.legacy_rnn.rnn_cell_impl', 'tensorflow.python.ops.rnn_cell', 'tensorflow.python.debug', 'tensorflow.python.debug.lib', 'tensorflow.python.debug.lib.debug_data', 'tensorflow.python.debug.lib.debug_graphs', 'tensorflow.python.debug.lib.debug_gradients', 'tensorflow.python.debug.lib.debug_utils', 'tensorflow.python.debug.wrappers', 'tensorflow.python.debug.wrappers.dumping_wrapper', 'tensorflow.python.debug.wrappers.framework', 'tensorflow.python.debug.wrappers.grpc_wrapper', 'tensorflow.python.debug.lib.common', 'tensorflow.python.debug.wrappers.hooks', 'tensorflow.python.debug.wrappers.local_cli_wrapper', 'tensorflow.python.debug.cli', 'tensorflow.python.debug.cli.analyzer_cli', 'tensorflow.python.debug.cli.cli_config', 'tensorflow.python.debug.cli.debugger_cli_common', 'tensorflow.python.debug.cli.cli_shared', 'tensorflow.python.debug.cli.command_parser', 'tensorflow.python.debug.cli.tensor_format', 'tensorflow.python.debug.cli.evaluator', 'tensorflow.python.debug.cli.ui_factory', 'tensorflow.python.debug.lib.source_utils', 'tensorflow.python.debug.lib.profiling', 'tensorflow.python.debug.cli.profile_analyzer_cli', 'tensorflow.python.debug.lib.check_numerics_callback', 'tensorflow.core.protobuf.debug_event_pb2', 'tensorflow.python.debug.lib.op_callbacks_common', 'tensorflow.python.ops.gen_debug_ops', 'tensorflow.python.debug.lib.dumping_callback', 'tensorflow.python.debug.lib.debug_events_writer', 'tensorflow.python.client._pywrap_debug_events_writer', 'tensorflow.python.dlpack', 'tensorflow.python.dlpack.dlpack', 'tensorflow.python.compiler.mlir', 'tensorflow.python.compiler.mlir.mlir', 'tensorflow.python.pywrap_mlir', 'tensorflow.python._pywrap_mlir', 'tensorflow.python.tools', 'tensorflow.python.tools.module_util', 'tensorflow._api', 'tensorflow._api.v2', 'tensorflow._api.v2.__internal__', 'tensorflow._api.v2.__internal__.autograph', 'tensorflow._api.v2.__internal__.decorator', 'tensorflow._api.v2.__internal__.dispatch', 'tensorflow._api.v2.__internal__.distribute', 'tensorflow._api.v2.__internal__.distribute.combinations', 'tensorflow.python.distribute.combinations', 'tensorflow.python.distribute.multi_process_runner', 'tensorflow.python.distribute.multi_process_lib', 'tensorflow.python.eager.test', 'dill', 'dill._dill', '_pyio', 'dill._shims', 'dill.settings', 'dill.source', 'dill.temp', 'dill.detect', 'dill.pointers', 'dill.objtypes', 'tblib', 'tblib.cpython', 'tblib.pickling_support', 'tensorflow.python.distribute.multi_worker_test_base', 'tensorflow.python.distribute.distribute_coordinator', 'tensorflow.python.framework.combinations', 'tensorflow.python.framework.test_combinations', 'tensorflow.python.distribute.strategy_combinations', 'tensorflow.python.distribute.test_util', 'tensorflow._api.v2.__internal__.distribute.interim', 'tensorflow.python.distribute.merge_call_interim', 'tensorflow._api.v2.__internal__.distribute.multi_process_runner', 'tensorflow._api.v2.__internal__.eager_context', 'tensorflow._api.v2.__internal__.feature_column', 'tensorflow._api.v2.__internal__.function', 'tensorflow._api.v2.__internal__.graph_util', 'tensorflow._api.v2.__internal__.mixed_precision', 'tensorflow._api.v2.__internal__.monitoring', 'tensorflow._api.v2.__internal__.nest', 'tensorflow._api.v2.__internal__.ops', 'tensorflow._api.v2.__internal__.saved_model', 'tensorflow._api.v2.__internal__.saved_model.load', 'tensorflow._api.v2.__internal__.smart_cond', 'tensorflow._api.v2.__internal__.test', 'tensorflow._api.v2.__internal__.test.combinations', 'tensorflow._api.v2.__internal__.tf2', 'tensorflow._api.v2.__internal__.tracking', 'tensorflow._api.v2.__internal__.train', 'tensorflow._api.v2.__internal__.types', 'tensorflow._api.v2.__operators__', 'tensorflow._api.v2.audio', 'tensorflow._api.v2.autodiff', 'tensorflow._api.v2.autograph', 'tensorflow._api.v2.autograph.experimental', 'tensorflow._api.v2.bitwise', 'tensorflow._api.v2.compat', 'tensorflow._api.v2.compat.v1', 'tensorflow._api.v2.compat.v1.app', 'tensorflow._api.v2.compat.v1.audio', 'tensorflow._api.v2.compat.v1.autograph', 'tensorflow._api.v2.compat.v1.autograph.experimental', 'tensorflow._api.v2.compat.v1.bitwise', 'tensorflow._api.v2.compat.v1.compat', 'tensorflow._api.v2.compat.v1.compat.v1', 'tensorflow._api.v2.compat.v1.compat.v1.compat', 'tensorflow._api.v2.compat.v1.config', 'tensorflow._api.v2.compat.v1.config.experimental', 'tensorflow._api.v2.compat.v1.config.optimizer', 'tensorflow._api.v2.compat.v1.config.threading', 'tensorflow._api.v2.compat.v1.data', 'tensorflow._api.v2.compat.v1.data.experimental', 'tensorflow._api.v2.compat.v1.data.experimental.service', 'tensorflow._api.v2.compat.v1.debugging', 'tensorflow._api.v2.compat.v1.debugging.experimental', 'tensorflow._api.v2.compat.v1.distribute', 'tensorflow._api.v2.compat.v1.distribute.cluster_resolver', 'tensorflow._api.v2.compat.v1.distribute.experimental', 'tensorflow._api.v2.compat.v1.distributions', 'tensorflow._api.v2.compat.v1.dtypes', 'tensorflow._api.v2.compat.v1.errors', 'tensorflow._api.v2.compat.v1.experimental', 'tensorflow.python.framework.load_library', 'tensorflow.python.framework._pywrap_python_op_gen', 'tensorflow._api.v2.compat.v1.feature_column', 'tensorflow._api.v2.compat.v1.gfile', 'tensorflow._api.v2.compat.v1.graph_util', 'tensorflow._api.v2.compat.v1.image', 'tensorflow._api.v2.compat.v1.initializers', 'tensorflow._api.v2.compat.v1.io', 'tensorflow._api.v2.compat.v1.io.gfile', 'tensorflow._api.v2.compat.v1.layers', 'tensorflow._api.v2.compat.v1.layers.experimental', 'tensorflow._api.v2.compat.v1.linalg', 'tensorflow._api.v2.compat.v1.linalg.experimental', 'tensorflow._api.v2.compat.v1.lite', 'tensorflow._api.v2.compat.v1.lite.constants', 'tensorflow.lite', 'tensorflow.lite.python', 'tensorflow.lite.python.lite_constants', 'tensorflow.lite.toco', 'tensorflow.lite.toco.toco_flags_pb2', 'tensorflow.lite.toco.types_pb2', 'tensorflow._api.v2.compat.v1.lite.experimental', 'tensorflow._api.v2.compat.v1.lite.experimental.authoring', 'tensorflow.lite.python.authoring', 'tensorflow.lite.python.authoring.authoring', 'tensorflow.lite.python.convert', 'distutils.spawn', 'distutils.errors', 'distutils.debug', 'distutils.log', 'tensorflow.lite.python.util', 'flatbuffers', 'flatbuffers.builder', 'flatbuffers.number_types', 'flatbuffers.packer', 'flatbuffers.compat', 'flatbuffers.encode', 'flatbuffers.table', 'flatbuffers._version', 'flatbuffers.util', 'tensorflow.lite.python.schema_py_generated', 'tensorflow.lite.python.schema_util', 'tensorflow.lite.python.tflite_keras_util', 'tensorflow.lite.python.op_hint', 'jax', 'jax._src', 'jax._src.cloud_tpu_init', 'jax.config', 'jax._src.config', 'jax._src.lib', 'scipy.signal', 'scipy.signal.sigtools', 'scipy.signal.windows', 'scipy.signal.windows.windows', 'scipy.signal.waveforms', 'scipy.signal._max_len_seq', 'scipy.signal._max_len_seq_inner', 'scipy.signal._upfirdn', 'scipy.signal._upfirdn_apply', 'scipy.signal.spline', 'scipy.signal.bsplines', 'scipy.signal.filter_design', 'scipy.signal.fir_filter_design', 'scipy.signal.ltisys', 'scipy.signal.lti_conversion', 'scipy.signal.signaltools', 'scipy.signal._arraytools', 'scipy.signal._sosfilt', 'scipy.signal._savitzky_golay', 'scipy.signal.spectral', 'scipy.signal._spectral', 'scipy.signal.wavelets', 'scipy.signal._peak_finding', 'scipy.signal._peak_finding_utils', 'jaxlib', 'jaxlib.version', 'jax.version', 'jaxlib.cpu_feature_guard', 'jaxlib.xla_client', 'jaxlib.xla_extension.profiler', 'jaxlib.xla_extension.ops', 'jaxlib.xla_extension.outfeed_receiver', 'jaxlib.xla_extension.pytree', 'jaxlib.xla_extension.jax_jit', 'jaxlib.xla_extension.pmap_lib', 'jaxlib.xla_extension.transfer_guard_lib', 'jaxlib.xla_extension.mlir', 'jaxlib.xla_extension', 'jaxlib.lapack', 'jaxlib.mlir', 'jaxlib.mlir.ir', 'jaxlib.mlir._mlir_libs', 'jaxlib.mlir._mlir_libs._mlir.ir', 'jaxlib.mlir._mlir_libs._mlir.passmanager', 'jaxlib.mlir._mlir_libs._mlir', 'jaxlib.mlir.dialects', 'jaxlib.mlir.dialects.mhlo', 'jaxlib.mlir.dialects._mhlo_ops_gen', 'jaxlib.mlir.dialects._ods_common', 'jaxlib.mlir._mlir_libs._mlirHlo', 'jaxlib._lapack', 'jaxlib.pocketfft', 'jaxlib._pocketfft', 'jaxlib.pocketfft_flatbuffers_py_generated', 'jaxlib.cusolver', 'jaxlib._cublas', 'jaxlib._cusolver', 'jaxlib.cusparse', 'jaxlib._cusparse', 'jaxlib.cuda_prng', 'jaxlib._cuda_prng', 'jaxlib.cuda_linalg', 'jaxlib._cuda_linalg', 'jaxlib.tpu_client', 'jaxlib.tpu_client_extension', 'jax.core', 'jax._src.dtypes', 'jax._src.traceback_util', 'jax._src.util', 'jax.errors', 'jax._src.errors', 'jax.linear_util', 'jax.tree_util', 'jax._src.tree_util', 'jax._src.source_info_util', 'jax._src.pretty_printer', 'jax._src.api', 'jax.stages', 'jax._src.stages', 'jax._src.device_array', 'jax._src.abstract_arrays', 'jax._src.ad_util', 'jax._src.profiler', 'jax._src.lib.xla_bridge', 'jax._src.dispatch', 'jax.interpreters', 'jax.interpreters.ad', 'jax.interpreters.partial_eval', 'jax._src.api_util', 'jax.interpreters.batching', 'jax.interpreters.masking', 'jax.interpreters.mlir', 'jax._src.lib.mlir', 'jax._src.lib.mlir.dialects', 'jaxlib.mlir.dialects.builtin', 'jaxlib.mlir.dialects._builtin_ops_gen', 'jaxlib.mlir.dialects._builtin_ops_ext', 'jaxlib.mlir.dialects.chlo', 'jaxlib.mlir.dialects._chlo_ops_gen', 'jaxlib.mlir.dialects.func', 'jaxlib.mlir.dialects._func_ops_gen', 'jaxlib.mlir.dialects._func_ops_ext', 'jax.interpreters.xla', 'jax._src.lax', 'jax._src.lax.lax', 'jax.interpreters.pxla', 'jax._src.lax.utils', 'jax._src.lax.slicing', 'jax.ad_checkpoint', 'jax._src.ad_checkpoint', 'jax.custom_batching', 'jax._src.custom_batching', 'jax._src.custom_api_util', 'jax.custom_derivatives', 'jax._src.custom_derivatives', 'jax.custom_transpose', 'jax._src.custom_transpose', 'jax.experimental', 'jax.interpreters.sharded_jit', 'jax.experimental.x64_context', 'jax.experimental.maps', 'jax.numpy', 'jax.numpy.fft', 'jax._src.numpy', 'jax._src.numpy.fft', 'jax.lax', 'jax._src.lax.convolution', 'jax._src.lax.windowed_reductions', 'jax._src.lax.control_flow', 'jax._src.lax.fft', 'jax._src.lax.parallel', 'jax._src.numpy.lax_numpy', 'jax._src.numpy.ndarray', 'jax._src.numpy.reductions', 'jax._src.numpy.util', 'jax._src.numpy.ufuncs', 'jax._src.numpy.vectorize', 'jax._src.ops', 'jax._src.ops.scatter', 'jax._src.lax.other', 'jax._src.lax.ann', 'jax.lax.linalg', 'jax._src.lax.linalg', 'jax._src.lax.svd', 'jax._src.lax.qdwh', 'jax.numpy.linalg', 'jax._src.numpy.linalg', 'jax._src.third_party', 'jax._src.third_party.numpy', 'jax._src.third_party.numpy.linalg', 'jax._src.numpy.index_tricks', 'jax._src.numpy.polynomial', 'jax._src.numpy.setops', 'jax.experimental.global_device_array', 'jax.abstract_arrays', 'jax.api_util', 'jax.distributed', 'jax._src.distributed', 'jax.dtypes', 'jax.image', 'jax._src.image', 'jax._src.image.scale', 'jax.nn', 'jax.nn.initializers', 'jax._src.nn', 'jax._src.nn.initializers', 'jax.random', 'jax._src.prng', 'jax._src.random', 'jax._src.nn.functions', 'jax.scipy', 'jax.scipy.interpolate', 'jax._src.third_party.scipy', 'jax._src.third_party.scipy.interpolate', 'jax.scipy.linalg', 'jax._src.scipy', 'jax._src.scipy.linalg', 'jax._src.lax.polar', 'jax.scipy.ndimage', 'jax._src.scipy.ndimage', 'jax.scipy.signal', 'jax._src.scipy.signal', 'jax._src.third_party.scipy.signal_helper', 'jax.scipy.sparse', 'jax.scipy.sparse.linalg', 'jax._src.scipy.sparse', 'jax._src.scipy.sparse.linalg', 'jax.scipy.special', 'jax._src.scipy.special', 'jax.scipy.stats', 'jax.scipy.stats.bernoulli', 'jax._src.scipy.stats', 'jax._src.scipy.stats.bernoulli', 'jax.scipy.stats.beta', 'jax._src.scipy.stats.beta', 'jax.scipy.stats.cauchy', 'jax._src.scipy.stats.cauchy', 'jax.scipy.stats.dirichlet', 'jax._src.scipy.stats.dirichlet', 'jax.scipy.stats.expon', 'jax._src.scipy.stats.expon', 'jax.scipy.stats.gamma', 'jax._src.scipy.stats.gamma', 'jax.scipy.stats.geom', 'jax._src.scipy.stats.geom', 'jax.scipy.stats.laplace', 'jax._src.scipy.stats.laplace', 'jax.scipy.stats.logistic', 'jax._src.scipy.stats.logistic', 'jax.scipy.stats.multivariate_normal', 'jax._src.scipy.stats.multivariate_normal', 'jax.scipy.stats.nbinom', 'jax._src.scipy.stats.nbinom', 'jax.scipy.stats.norm', 'jax._src.scipy.stats.norm', 'jax.scipy.stats.pareto', 'jax._src.scipy.stats.pareto', 'jax.scipy.stats.poisson', 'jax._src.scipy.stats.poisson', 'jax.scipy.stats.t', 'jax._src.scipy.stats.t', 'jax.scipy.stats.uniform', 'jax._src.scipy.stats.uniform', 'jax.scipy.stats.chi2', 'jax._src.scipy.stats.chi2', 'jax.scipy.stats.betabinom', 'jax._src.scipy.stats.betabinom', 'jax.scipy.fft', 'jax._src.scipy.fft', 'scipy.fftpack', 'scipy.fftpack.basic', 'scipy.fftpack.helper', 'scipy.fftpack.pseudo_diffs', 'scipy.fftpack.convolve', 'scipy.fftpack.realtransforms', 'jax.scipy.cluster', 'jax.scipy.cluster.vq', 'jax._src.scipy.cluster', 'jax._src.scipy.cluster.vq', 'scipy.cluster', 'scipy.cluster.vq', 'scipy.cluster._vq', 'scipy.cluster.hierarchy', 'scipy.cluster._hierarchy', 'scipy.cluster._optimal_leaf_ordering', 'jax.ops', 'jax.profiler', 'jax.util', 'jax.lib', 'jax.lib.xla_bridge', 'tensorflow.lite.python.wrap_toco', 'tensorflow.python._pywrap_toco_api', 'tensorflow.lite.python.convert_phase', 'tensorflow.lite.python.metrics', 'tensorflow.lite.python.metrics.converter_error_data_pb2', 'tensorflow.lite.python.metrics.metrics', 'tensorflow.lite.python.metrics.metrics_interface', 'tensorflow.lite.python.metrics.wrapper', 'tensorflow.lite.python.metrics.wrapper.metrics_wrapper', 'tensorflow.lite.python.metrics._pywrap_tensorflow_lite_metrics_wrapper', 'tensorflow.lite.toco.model_flags_pb2', 'tensorflow.lite.tools', 'tensorflow.lite.tools.flatbuffer_utils', 'tensorflow.lite.python.lite', 'tensorflow.lite.experimental', 'tensorflow.lite.experimental.microfrontend', 'tensorflow.lite.experimental.microfrontend.python', 'tensorflow.lite.experimental.microfrontend.python.ops', 'tensorflow.lite.experimental.microfrontend.python.ops.audio_microfrontend_op', 'tensorflow.lite.experimental.microfrontend.ops', 'tensorflow.lite.experimental.microfrontend.ops.gen_audio_microfrontend_op', 'aa8f2297d25b4dc6fd3d98411eb3ba53823c4f42', 'tensorflow.lite.python.convert_saved_model', 'tensorflow.lite.python.interpreter', 'tensorflow.lite.python.interpreter_wrapper', 'tensorflow.lite.python.interpreter_wrapper._pywrap_tensorflow_interpreter_wrapper', 'tensorflow.lite.python.optimize', 'tensorflow.lite.python.optimize.calibrator', 'tensorflow.lite.tools.optimize', 'tensorflow.lite.tools.optimize.debugging', 'tensorflow.lite.tools.optimize.debugging.python', 'tensorflow.lite.tools.optimize.debugging.python.debugger', 'tensorflow.lite.python.analyzer', 'tensorflow.lite.python.analyzer_wrapper', 'tensorflow.lite.python.analyzer_wrapper._pywrap_analyzer_wrapper', 'tensorflow._api.v2.compat.v1.logging', 'tensorflow._api.v2.compat.v1.lookup', 'tensorflow._api.v2.compat.v1.lookup.experimental', 'tensorflow._api.v2.compat.v1.losses', 'tensorflow._api.v2.compat.v1.manip', 'tensorflow._api.v2.compat.v1.math', 'tensorflow._api.v2.compat.v1.math.special', 'tensorflow._api.v2.compat.v1.metrics', 'tensorflow._api.v2.compat.v1.mixed_precision', 'tensorflow._api.v2.compat.v1.mixed_precision.experimental', 'tensorflow._api.v2.compat.v1.mlir', 'tensorflow._api.v2.compat.v1.mlir.experimental', 'tensorflow._api.v2.compat.v1.nest', 'tensorflow._api.v2.compat.v1.nn', 'tensorflow._api.v2.compat.v1.nn.experimental', 'tensorflow._api.v2.compat.v1.nn.rnn_cell', 'tensorflow._api.v2.compat.v1.profiler', 'tensorflow._api.v2.compat.v1.python_io', 'tensorflow._api.v2.compat.v1.quantization', 'tensorflow._api.v2.compat.v1.queue', 'tensorflow._api.v2.compat.v1.ragged', 'tensorflow._api.v2.compat.v1.random', 'tensorflow._api.v2.compat.v1.random.experimental', 'tensorflow._api.v2.compat.v1.raw_ops', 'tensorflow._api.v2.compat.v1.resource_loader', 'tensorflow._api.v2.compat.v1.saved_model', 'tensorflow._api.v2.compat.v1.saved_model.builder', 'tensorflow._api.v2.compat.v1.saved_model.constants', 'tensorflow._api.v2.compat.v1.saved_model.experimental', 'tensorflow._api.v2.compat.v1.saved_model.loader', 'tensorflow._api.v2.compat.v1.saved_model.main_op', 'tensorflow._api.v2.compat.v1.saved_model.signature_constants', 'tensorflow._api.v2.compat.v1.saved_model.signature_def_utils', 'tensorflow._api.v2.compat.v1.saved_model.tag_constants', 'tensorflow._api.v2.compat.v1.saved_model.utils', 'tensorflow._api.v2.compat.v1.sets', 'tensorflow._api.v2.compat.v1.signal', 'tensorflow._api.v2.compat.v1.sparse', 'tensorflow._api.v2.compat.v1.spectral', 'tensorflow._api.v2.compat.v1.strings', 'tensorflow._api.v2.compat.v1.summary', 'tensorflow._api.v2.compat.v1.sysconfig', 'tensorflow._api.v2.compat.v1.test', 'tensorflow._api.v2.compat.v1.tpu', 'tensorflow._api.v2.compat.v1.tpu.experimental', 'tensorflow._api.v2.compat.v1.tpu.experimental.embedding', 'tensorflow._api.v2.compat.v1.train', 'tensorflow._api.v2.compat.v1.train.experimental', 'tensorflow._api.v2.compat.v1.train.queue_runner', 'tensorflow._api.v2.compat.v1.types', 'tensorflow._api.v2.compat.v1.types.experimental', 'tensorflow._api.v2.compat.v1.user_ops', 'tensorflow._api.v2.compat.v1.version', 'tensorflow._api.v2.compat.v1.xla', 'tensorflow._api.v2.compat.v1.xla.experimental', 'tensorflow._api.v2.compat.v1.compat.v2', 'tensorflow._api.v2.compat.v1.compat.v2.compat', 'tensorflow._api.v2.compat.v2', 'tensorflow._api.v2.compat.v2.__internal__', 'tensorflow._api.v2.compat.v2.__internal__.autograph', 'tensorflow._api.v2.compat.v2.__internal__.decorator', 'tensorflow._api.v2.compat.v2.__internal__.dispatch', 'tensorflow._api.v2.compat.v2.__internal__.distribute', 'tensorflow._api.v2.compat.v2.__internal__.distribute.combinations', 'tensorflow._api.v2.compat.v2.__internal__.distribute.interim', 'tensorflow._api.v2.compat.v2.__internal__.distribute.multi_process_runner', 'tensorflow._api.v2.compat.v2.__internal__.eager_context', 'tensorflow._api.v2.compat.v2.__internal__.feature_column', 'tensorflow._api.v2.compat.v2.__internal__.function', 'tensorflow._api.v2.compat.v2.__internal__.graph_util', 'tensorflow._api.v2.compat.v2.__internal__.mixed_precision', 'tensorflow._api.v2.compat.v2.__internal__.monitoring', 'tensorflow._api.v2.compat.v2.__internal__.nest', 'tensorflow._api.v2.compat.v2.__internal__.ops', 'tensorflow._api.v2.compat.v2.__internal__.saved_model', 'tensorflow._api.v2.compat.v2.__internal__.saved_model.load', 'tensorflow._api.v2.compat.v2.__internal__.smart_cond', 'tensorflow._api.v2.compat.v2.__internal__.test', 'tensorflow._api.v2.compat.v2.__internal__.test.combinations', 'tensorflow._api.v2.compat.v2.__internal__.tf2', 'tensorflow._api.v2.compat.v2.__internal__.tracking', 'tensorflow._api.v2.compat.v2.__internal__.train', 'tensorflow._api.v2.compat.v2.__internal__.types', 'tensorflow._api.v2.compat.v2.__operators__', 'tensorflow._api.v2.compat.v2.audio', 'tensorflow._api.v2.compat.v2.autodiff', 'tensorflow._api.v2.compat.v2.autograph', 'tensorflow._api.v2.compat.v2.autograph.experimental', 'tensorflow._api.v2.compat.v2.bitwise', 'tensorflow._api.v2.compat.v2.compat', 'tensorflow._api.v2.compat.v2.compat.v1', 'tensorflow._api.v2.compat.v2.compat.v1.compat', 'tensorflow._api.v2.compat.v2.compat.v2', 'tensorflow._api.v2.compat.v2.compat.v2.compat', 'tensorflow._api.v2.compat.v2.config', 'tensorflow._api.v2.compat.v2.config.experimental', 'tensorflow._api.v2.compat.v2.config.optimizer', 'tensorflow._api.v2.compat.v2.config.threading', 'tensorflow._api.v2.compat.v2.data', 'tensorflow._api.v2.compat.v2.data.experimental', 'tensorflow._api.v2.compat.v2.data.experimental.service', 'tensorflow._api.v2.compat.v2.debugging', 'tensorflow._api.v2.compat.v2.debugging.experimental', 'tensorflow._api.v2.compat.v2.distribute', 'tensorflow._api.v2.compat.v2.distribute.cluster_resolver', 'tensorflow._api.v2.compat.v2.distribute.coordinator', 'tensorflow._api.v2.compat.v2.distribute.experimental', 'tensorflow._api.v2.compat.v2.distribute.experimental.coordinator', 'tensorflow._api.v2.compat.v2.distribute.experimental.partitioners', 'tensorflow._api.v2.compat.v2.distribute.experimental.rpc', 'tensorflow.python.distribute.experimental', 'tensorflow.python.distribute.experimental.rpc', 'tensorflow.python.distribute.experimental.rpc.rpc_ops', 'tensorflow.distribute', 'tensorflow.distribute.experimental', 'tensorflow.distribute.experimental.rpc', 'tensorflow.distribute.experimental.rpc.kernels', 'tensorflow.distribute.experimental.rpc.kernels.gen_rpc_ops', 'tensorflow.distribute.experimental.rpc.proto', 'tensorflow.distribute.experimental.rpc.proto.tf_rpc_service_pb2', 'tensorflow._api.v2.compat.v2.dtypes', 'tensorflow._api.v2.compat.v2.errors', 'tensorflow._api.v2.compat.v2.experimental', 'tensorflow._api.v2.compat.v2.experimental.dlpack', 'tensorflow._api.v2.compat.v2.experimental.numpy', 'tensorflow._api.v2.compat.v2.experimental.numpy.random', 'tensorflow._api.v2.compat.v2.experimental.tensorrt', 'tensorflow._api.v2.compat.v2.feature_column', 'tensorflow._api.v2.compat.v2.graph_util', 'tensorflow._api.v2.compat.v2.image', 'tensorflow._api.v2.compat.v2.io', 'tensorflow._api.v2.compat.v2.io.gfile', 'tensorflow._api.v2.compat.v2.linalg', 'tensorflow._api.v2.compat.v2.linalg.experimental', 'tensorflow._api.v2.compat.v2.lite', 'tensorflow._api.v2.compat.v2.lite.experimental', 'tensorflow._api.v2.compat.v2.lite.experimental.authoring', 'tensorflow._api.v2.compat.v2.lookup', 'tensorflow._api.v2.compat.v2.lookup.experimental', 'tensorflow._api.v2.compat.v2.math', 'tensorflow._api.v2.compat.v2.math.special', 'tensorflow._api.v2.compat.v2.mixed_precision', 'tensorflow._api.v2.compat.v2.mixed_precision.experimental', 'tensorflow._api.v2.compat.v2.mlir', 'tensorflow._api.v2.compat.v2.mlir.experimental', 'tensorflow._api.v2.compat.v2.nest', 'tensorflow._api.v2.compat.v2.nn', 'tensorflow._api.v2.compat.v2.nn.experimental', 'tensorflow._api.v2.compat.v2.profiler', 'tensorflow._api.v2.compat.v2.profiler.experimental', 'tensorflow._api.v2.compat.v2.profiler.experimental.client', 'tensorflow._api.v2.compat.v2.profiler.experimental.server', 'tensorflow._api.v2.compat.v2.quantization', 'tensorflow._api.v2.compat.v2.queue', 'tensorflow._api.v2.compat.v2.ragged', 'tensorflow._api.v2.compat.v2.random', 'tensorflow._api.v2.compat.v2.random.experimental', 'tensorflow._api.v2.compat.v2.raw_ops', 'tensorflow._api.v2.compat.v2.saved_model', 'tensorflow._api.v2.compat.v2.saved_model.experimental', 'tensorflow._api.v2.compat.v2.sets', 'tensorflow._api.v2.compat.v2.signal', 'tensorflow._api.v2.compat.v2.sparse', 'tensorflow._api.v2.compat.v2.strings', 'tensorflow._api.v2.compat.v2.summary', 'tensorflow._api.v2.compat.v2.summary.experimental', 'tensorflow._api.v2.compat.v2.sysconfig', 'tensorflow._api.v2.compat.v2.test', 'tensorflow._api.v2.compat.v2.tpu', 'tensorflow._api.v2.compat.v2.tpu.experimental', 'tensorflow._api.v2.compat.v2.tpu.experimental.embedding', 'tensorflow._api.v2.compat.v2.train', 'tensorflow._api.v2.compat.v2.train.experimental', 'tensorflow._api.v2.compat.v2.types', 'tensorflow._api.v2.compat.v2.types.experimental', 'tensorflow._api.v2.compat.v2.version', 'tensorflow._api.v2.compat.v2.xla', 'tensorflow._api.v2.compat.v2.xla.experimental', 'tensorboard', 'tensorboard.lazy', 'tensorboard.version', 'tensorboard.summary', 'tensorboard.summary.v1', 'tensorboard.plugins', 'tensorboard.plugins.audio', 'tensorboard.plugins.audio.summary', 'tensorboard.util', 'tensorboard.util.encoder', 'tensorboard.util.op_evaluator', 'tensorboard.plugins.audio.metadata', 'tensorboard.compat', 'tensorboard.compat.proto', 'tensorboard.compat.proto.summary_pb2', 'tensorboard.compat.proto.tensor_pb2', 'tensorboard.compat.proto.resource_handle_pb2', 'tensorboard.compat.proto.tensor_shape_pb2', 'tensorboard.compat.proto.types_pb2', 'tensorboard.plugins.audio.plugin_data_pb2', 'tensorboard.plugins.audio.summary_v2', 'tensorboard.util.lazy_tensor_creator', 'tensorboard.plugins.custom_scalar', 'tensorboard.plugins.custom_scalar.summary', 'tensorboard.plugins.custom_scalar.layout_pb2', 'tensorboard.plugins.custom_scalar.metadata', 'tensorboard.plugins.histogram', 'tensorboard.plugins.histogram.summary', 'tensorboard.plugins.histogram.metadata', 'tensorboard.plugins.histogram.plugin_data_pb2', 'tensorboard.plugins.histogram.summary_v2', 'tensorboard.util.tensor_util', 'tensorboard.compat.tensorflow_stub', 'tensorboard.compat.proto.config_pb2', 'tensorboard.compat.proto.cost_graph_pb2', 'tensorboard.compat.proto.graph_pb2', 'tensorboard.compat.proto.function_pb2', 'tensorboard.compat.proto.attr_value_pb2', 'tensorboard.compat.proto.node_def_pb2', 'tensorboard.compat.proto.full_type_pb2', 'tensorboard.compat.proto.op_def_pb2', 'tensorboard.compat.proto.versions_pb2', 'tensorboard.compat.proto.step_stats_pb2', 'tensorboard.compat.proto.allocation_description_pb2', 'tensorboard.compat.proto.tensor_description_pb2', 'tensorboard.compat.proto.cluster_pb2', 'tensorboard.compat.proto.coordination_config_pb2', 'tensorboard.compat.proto.debug_pb2', 'tensorboard.compat.proto.rewriter_config_pb2', 'tensorboard.compat.proto.verifier_config_pb2', 'tensorboard.compat.proto.event_pb2', 'tensorboard.compat.proto.meta_graph_pb2', 'tensorboard.compat.proto.saved_object_graph_pb2', 'tensorboard.compat.proto.variable_pb2', 'tensorboard.compat.proto.struct_pb2', 'tensorboard.compat.proto.trackable_object_graph_pb2', 'tensorboard.compat.proto.saver_pb2', 'tensorboard.compat.tensorflow_stub.dtypes', 'tensorboard.compat.tensorflow_stub.pywrap_tensorflow', 'tensorboard.compat.tensorflow_stub.errors', 'tensorboard.compat.tensorflow_stub.error_codes', 'tensorboard.compat.tensorflow_stub.io', 'tensorboard.compat.tensorflow_stub.io.gfile', 'tensorboard.compat.tensorflow_stub.compat', 'tensorboard.compat.tensorflow_stub.compat.v1', 'tensorboard.compat.tensorflow_stub.app', 'tensorboard.compat.tensorflow_stub.flags', 'tensorboard.compat.tensorflow_stub.tensor_shape', 'tensorboard.plugins.image', 'tensorboard.plugins.image.summary', 'tensorboard.plugins.image.metadata', 'tensorboard.plugins.image.plugin_data_pb2', 'tensorboard.plugins.image.summary_v2', 'tensorboard.plugins.pr_curve', 'tensorboard.plugins.pr_curve.summary', 'tensorboard.plugins.pr_curve.metadata', 'tensorboard.plugins.pr_curve.plugin_data_pb2', 'tensorboard.plugins.scalar', 'tensorboard.plugins.scalar.summary', 'tensorboard.plugins.scalar.metadata', 'tensorboard.plugins.scalar.plugin_data_pb2', 'tensorboard.plugins.scalar.summary_v2', 'tensorboard.plugins.text', 'tensorboard.plugins.text.summary', 'tensorboard.plugins.text.metadata', 'tensorboard.plugins.text.plugin_data_pb2', 'tensorboard.plugins.text.summary_v2', 'tensorboard.summary.v2', 'tensorboard.summary._output', 'tensorboard.summary.writer', 'tensorboard.summary.writer.event_file_writer', 'tensorboard.summary.writer.record_writer', 'tensorboard.summary._writer', 'tensorboard.summary._tf', 'tensorboard.summary._tf.summary', 'tensorflow._api.v2.config', 'tensorflow._api.v2.config.experimental', 'tensorflow._api.v2.config.optimizer', 'tensorflow._api.v2.config.threading', 'tensorflow._api.v2.data', 'tensorflow._api.v2.data.experimental', 'tensorflow._api.v2.data.experimental.service', 'tensorflow._api.v2.debugging', 'tensorflow._api.v2.debugging.experimental', 'tensorflow._api.v2.distribute', 'tensorflow._api.v2.distribute.cluster_resolver', 'tensorflow._api.v2.distribute.coordinator', 'tensorflow._api.v2.distribute.experimental', 'tensorflow._api.v2.distribute.experimental.coordinator', 'tensorflow._api.v2.distribute.experimental.partitioners', 'tensorflow._api.v2.distribute.experimental.rpc', 'tensorflow._api.v2.dtypes', 'tensorflow._api.v2.errors', 'tensorflow._api.v2.experimental', 'tensorflow._api.v2.experimental.dlpack', 'tensorflow._api.v2.experimental.numpy', 'tensorflow._api.v2.experimental.numpy.random', 'tensorflow._api.v2.experimental.tensorrt', 'tensorflow._api.v2.feature_column', 'tensorflow._api.v2.graph_util', 'tensorflow._api.v2.image', 'tensorflow._api.v2.io', 'tensorflow._api.v2.io.gfile', 'tensorflow._api.v2.linalg', 'tensorflow._api.v2.linalg.experimental', 'tensorflow._api.v2.lite', 'tensorflow._api.v2.lite.experimental', 'tensorflow._api.v2.lite.experimental.authoring', 'tensorflow._api.v2.lookup', 'tensorflow._api.v2.lookup.experimental', 'tensorflow._api.v2.math', 'tensorflow._api.v2.math.special', 'tensorflow._api.v2.mixed_precision', 'tensorflow._api.v2.mixed_precision.experimental', 'tensorflow._api.v2.mlir', 'tensorflow._api.v2.mlir.experimental', 'tensorflow._api.v2.nest', 'tensorflow._api.v2.nn', 'tensorflow._api.v2.nn.experimental', 'tensorflow._api.v2.profiler', 'tensorflow._api.v2.profiler.experimental', 'tensorflow._api.v2.profiler.experimental.client', 'tensorflow._api.v2.profiler.experimental.server', 'tensorflow._api.v2.quantization', 'tensorflow._api.v2.queue', 'tensorflow._api.v2.ragged', 'tensorflow._api.v2.random', 'tensorflow._api.v2.random.experimental', 'tensorflow._api.v2.raw_ops', 'tensorflow._api.v2.saved_model', 'tensorflow._api.v2.saved_model.experimental', 'tensorflow._api.v2.sets', 'tensorflow._api.v2.signal', 'tensorflow._api.v2.sparse', 'tensorflow._api.v2.strings', 'tensorflow._api.v2.summary', 'tensorflow._api.v2.summary.experimental', 'tensorflow._api.v2.sysconfig', 'tensorflow._api.v2.test', 'tensorflow._api.v2.tpu', 'tensorflow._api.v2.tpu.experimental', 'tensorflow._api.v2.tpu.experimental.embedding', 'tensorflow._api.v2.train', 'tensorflow._api.v2.train.experimental', 'tensorflow._api.v2.types', 'tensorflow._api.v2.types.experimental', 'tensorflow._api.v2.version', 'tensorflow._api.v2.xla', 'tensorflow._api.v2.xla.experimental', 'keras.distribute', 'keras.distribute.sidecar_evaluator', 'tensorflow.compat', 'tensorflow.compat.v1', 'tensorflow.compat.v1.app', 'tensorflow.compat.v1.audio', 'tensorflow.compat.v1.autograph', 'tensorflow.compat.v1.autograph.experimental', 'tensorflow.compat.v1.bitwise', 'tensorflow.compat.v1.compat', 'tensorflow.compat.v1.compat.v1', 'tensorflow.compat.v1.compat.v1.compat', 'tensorflow.compat.v1.compat.v2', 'tensorflow.compat.v1.compat.v2.compat', 'tensorflow.compat.v1.config', 'tensorflow.compat.v1.config.experimental', 'tensorflow.compat.v1.config.optimizer', 'tensorflow.compat.v1.config.threading', 'tensorflow.compat.v1.data', 'tensorflow.compat.v1.data.experimental', 'tensorflow.compat.v1.data.experimental.service', 'tensorflow.compat.v1.debugging', 'tensorflow.compat.v1.debugging.experimental', 'tensorflow.compat.v1.distribute', 'tensorflow.compat.v1.distribute.cluster_resolver', 'tensorflow.compat.v1.distribute.experimental', 'tensorflow.compat.v1.distributions', 'tensorflow.compat.v1.dtypes', 'tensorflow.compat.v1.errors', 'tensorflow.compat.v1.experimental', 'tensorflow.compat.v1.feature_column', 'tensorflow.compat.v1.gfile', 'tensorflow.compat.v1.graph_util', 'tensorflow.compat.v1.image', 'tensorflow.compat.v1.initializers', 'tensorflow.compat.v1.io', 'tensorflow.compat.v1.io.gfile', 'tensorflow.compat.v1.layers', 'tensorflow.compat.v1.layers.experimental', 'tensorflow.compat.v1.linalg', 'tensorflow.compat.v1.linalg.experimental', 'tensorflow.compat.v1.lite', 'tensorflow.compat.v1.lite.constants', 'tensorflow.compat.v1.lite.experimental', 'tensorflow.compat.v1.lite.experimental.authoring', 'tensorflow.compat.v1.logging', 'tensorflow.compat.v1.lookup', 'tensorflow.compat.v1.lookup.experimental', 'tensorflow.compat.v1.losses', 'tensorflow.compat.v1.manip', 'tensorflow.compat.v1.math', 'tensorflow.compat.v1.math.special', 'tensorflow.compat.v1.metrics', 'tensorflow.compat.v1.mixed_precision', 'tensorflow.compat.v1.mixed_precision.experimental', 'tensorflow.compat.v1.mlir', 'tensorflow.compat.v1.mlir.experimental', 'tensorflow.compat.v1.nest', 'tensorflow.compat.v1.nn', 'tensorflow.compat.v1.nn.experimental', 'tensorflow.compat.v1.nn.rnn_cell', 'tensorflow.compat.v1.profiler', 'tensorflow.compat.v1.python_io', 'tensorflow.compat.v1.quantization', 'tensorflow.compat.v1.queue', 'tensorflow.compat.v1.ragged', 'tensorflow.compat.v1.random', 'tensorflow.compat.v1.random.experimental', 'tensorflow.compat.v1.raw_ops', 'tensorflow.compat.v1.resource_loader', 'tensorflow.compat.v1.saved_model', 'tensorflow.compat.v1.saved_model.builder', 'tensorflow.compat.v1.saved_model.constants', 'tensorflow.compat.v1.saved_model.experimental', 'tensorflow.compat.v1.saved_model.loader', 'tensorflow.compat.v1.saved_model.main_op', 'tensorflow.compat.v1.saved_model.signature_constants', 'tensorflow.compat.v1.saved_model.signature_def_utils', 'tensorflow.compat.v1.saved_model.tag_constants', 'tensorflow.compat.v1.saved_model.utils', 'tensorflow.compat.v1.sets', 'tensorflow.compat.v1.signal', 'tensorflow.compat.v1.sparse', 'tensorflow.compat.v1.spectral', 'tensorflow.compat.v1.strings', 'tensorflow.compat.v1.summary', 'tensorflow.compat.v1.sysconfig', 'tensorflow.compat.v1.test', 'tensorflow.compat.v1.tpu', 'tensorflow.compat.v1.tpu.experimental', 'tensorflow.compat.v1.tpu.experimental.embedding', 'tensorflow.compat.v1.train', 'tensorflow.compat.v1.train.experimental', 'tensorflow.compat.v1.train.queue_runner', 'tensorflow.compat.v1.types', 'tensorflow.compat.v1.types.experimental', 'tensorflow.compat.v1.user_ops', 'tensorflow.compat.v1.version', 'tensorflow.compat.v1.xla', 'tensorflow.compat.v1.xla.experimental', 'tensorflow.compat.v2', 'tensorflow.compat.v2.__internal__', 'tensorflow.compat.v2.__internal__.autograph', 'tensorflow.compat.v2.__internal__.decorator', 'tensorflow.compat.v2.__internal__.dispatch', 'tensorflow.compat.v2.__internal__.distribute', 'tensorflow.compat.v2.__internal__.distribute.combinations', 'tensorflow.compat.v2.__internal__.distribute.interim', 'tensorflow.compat.v2.__internal__.distribute.multi_process_runner', 'tensorflow.compat.v2.__internal__.eager_context', 'tensorflow.compat.v2.__internal__.feature_column', 'tensorflow.compat.v2.__internal__.function', 'tensorflow.compat.v2.__internal__.graph_util', 'tensorflow.compat.v2.__internal__.mixed_precision', 'tensorflow.compat.v2.__internal__.monitoring', 'tensorflow.compat.v2.__internal__.nest', 'tensorflow.compat.v2.__internal__.ops', 'tensorflow.compat.v2.__internal__.saved_model', 'tensorflow.compat.v2.__internal__.saved_model.load', 'tensorflow.compat.v2.__internal__.smart_cond', 'tensorflow.compat.v2.__internal__.test', 'tensorflow.compat.v2.__internal__.test.combinations', 'tensorflow.compat.v2.__internal__.tf2', 'tensorflow.compat.v2.__internal__.tracking', 'tensorflow.compat.v2.__internal__.train', 'tensorflow.compat.v2.__internal__.types', 'tensorflow.compat.v2.__operators__', 'tensorflow.compat.v2.audio', 'tensorflow.compat.v2.autodiff', 'tensorflow.compat.v2.autograph', 'tensorflow.compat.v2.autograph.experimental', 'tensorflow.compat.v2.bitwise', 'tensorflow.compat.v2.compat', 'tensorflow.compat.v2.compat.v1', 'tensorflow.compat.v2.compat.v1.compat', 'tensorflow.compat.v2.compat.v2', 'tensorflow.compat.v2.compat.v2.compat', 'tensorflow.compat.v2.config', 'tensorflow.compat.v2.config.experimental', 'tensorflow.compat.v2.config.optimizer', 'tensorflow.compat.v2.config.threading', 'tensorflow.compat.v2.data', 'tensorflow.compat.v2.data.experimental', 'tensorflow.compat.v2.data.experimental.service', 'tensorflow.compat.v2.debugging', 'tensorflow.compat.v2.debugging.experimental', 'tensorflow.compat.v2.distribute', 'tensorflow.compat.v2.distribute.cluster_resolver', 'tensorflow.compat.v2.distribute.coordinator', 'tensorflow.compat.v2.distribute.experimental', 'tensorflow.compat.v2.distribute.experimental.coordinator', 'tensorflow.compat.v2.distribute.experimental.partitioners', 'tensorflow.compat.v2.distribute.experimental.rpc', 'tensorflow.compat.v2.dtypes', 'tensorflow.compat.v2.errors', 'tensorflow.compat.v2.experimental', 'tensorflow.compat.v2.experimental.dlpack', 'tensorflow.compat.v2.experimental.numpy', 'tensorflow.compat.v2.experimental.numpy.random', 'tensorflow.compat.v2.experimental.tensorrt', 'tensorflow.compat.v2.feature_column', 'tensorflow.compat.v2.graph_util', 'tensorflow.compat.v2.image', 'tensorflow.compat.v2.io', 'tensorflow.compat.v2.io.gfile', 'tensorflow.compat.v2.linalg', 'tensorflow.compat.v2.linalg.experimental', 'tensorflow.compat.v2.lite', 'tensorflow.compat.v2.lite.experimental', 'tensorflow.compat.v2.lite.experimental.authoring', 'tensorflow.compat.v2.lookup', 'tensorflow.compat.v2.lookup.experimental', 'tensorflow.compat.v2.math', 'tensorflow.compat.v2.math.special', 'tensorflow.compat.v2.mixed_precision', 'tensorflow.compat.v2.mixed_precision.experimental', 'tensorflow.compat.v2.mlir', 'tensorflow.compat.v2.mlir.experimental', 'tensorflow.compat.v2.nest', 'tensorflow.compat.v2.nn', 'tensorflow.compat.v2.nn.experimental', 'tensorflow.compat.v2.profiler', 'tensorflow.compat.v2.profiler.experimental', 'tensorflow.compat.v2.profiler.experimental.client', 'tensorflow.compat.v2.profiler.experimental.server', 'tensorflow.compat.v2.quantization', 'tensorflow.compat.v2.queue', 'tensorflow.compat.v2.ragged', 'tensorflow.compat.v2.random', 'tensorflow.compat.v2.random.experimental', 'tensorflow.compat.v2.raw_ops', 'tensorflow.compat.v2.saved_model', 'tensorflow.compat.v2.saved_model.experimental', 'tensorflow.compat.v2.sets', 'tensorflow.compat.v2.signal', 'tensorflow.compat.v2.sparse', 'tensorflow.compat.v2.strings', 'tensorflow.compat.v2.summary', 'tensorflow.compat.v2.summary.experimental', 'tensorflow.compat.v2.sysconfig', 'tensorflow.compat.v2.test', 'tensorflow.compat.v2.tpu', 'tensorflow.compat.v2.tpu.experimental', 'tensorflow.compat.v2.tpu.experimental.embedding', 'tensorflow.compat.v2.train', 'tensorflow.compat.v2.train.experimental', 'tensorflow.compat.v2.types', 'tensorflow.compat.v2.types.experimental', 'tensorflow.compat.v2.version', 'tensorflow.compat.v2.xla', 'tensorflow.compat.v2.xla.experimental', 'keras.models', 'keras.backend', 'keras.backend_config', 'keras.distribute.distribute_coordinator_utils', 'keras.engine', 'keras.engine.keras_tensor', 'keras.utils', 'keras.utils.object_identity', 'keras.utils.control_flow_util', 'keras.utils.tf_contextlib', 'keras.utils.tf_inspect', 'keras.metrics', 'keras.activations', 'keras.layers', 'keras.engine.input_layer', 'keras.distribute.distributed_training_utils', 'keras.engine.base_layer', 'keras.constraints', 'keras.utils.generic_utils', 'keras.utils.io_utils', 'keras.initializers', 'keras.initializers.initializers_v1', 'keras.initializers.initializers_v2', 'keras.regularizers', 'keras.engine.base_layer_utils', 'keras.utils.tf_utils', 'keras.engine.input_spec', 'keras.engine.node', 'keras.saving', 'keras.saving.saved_model', 'keras.saving.saved_model.json_utils', 'keras.mixed_precision', 'keras.mixed_precision.autocast_variable', 'keras.mixed_precision.loss_scale_optimizer', 'keras.optimizers', 'keras.optimizer_experimental', 'keras.optimizer_experimental.optimizer', 'keras.optimizer_v2', 'keras.optimizer_v2.learning_rate_schedule', 'keras.optimizer_v2.utils', 'keras.optimizer_experimental.adadelta', 'keras.optimizer_experimental.adagrad', 'keras.optimizer_experimental.adam', 'keras.optimizer_experimental.sgd', 'keras.optimizer_v1', 'keras.optimizer_v2.adadelta', 'keras.optimizer_v2.optimizer_v2', 'keras.utils.layer_utils', 'keras.optimizer_v2.adagrad', 'keras.optimizer_v2.adam', 'keras.optimizer_v2.adamax', 'keras.optimizer_v2.ftrl', 'keras.optimizer_v2.gradient_descent', 'keras.optimizer_v2.nadam', 'keras.optimizer_v2.rmsprop', 'keras.mixed_precision.loss_scale', 'keras.mixed_precision.policy', 'keras.mixed_precision.device_compatibility_check', 'keras.saving.saved_model.layer_serialization', 'keras.saving.saved_model.base_serialization', 'keras.saving.saved_model.utils', 'keras.saving.saved_model.constants', 'keras.saving.saved_model.save_impl', 'keras.saving.saving_utils', 'keras.losses', 'keras.utils.losses_utils', 'keras.utils.version_utils', 'keras.saving.saved_model.load', 'keras.protobuf', 'keras.protobuf.saved_metadata_pb2', 'keras.protobuf.versions_pb2', 'keras.saving.saved_model.serialized_attributes', 'keras.saving.saved_model.order_preserving_set', 'keras.utils.metrics_utils', 'keras.utils.traceback_utils', 'keras.engine.base_preprocessing_layer', 'keras.engine.data_adapter', 'keras.engine.training_utils', 'keras.utils.data_utils', 'keras.utils.dataset_creator', 'keras.layers.preprocessing', 'keras.layers.preprocessing.image_preprocessing', 'keras.layers.preprocessing.preprocessing_utils', 'keras.preprocessing', 'keras_preprocessing', 'keras.preprocessing.image', 'keras_preprocessing.image', 'keras_preprocessing.image.affine_transformations', 'keras_preprocessing.image.utils', 'PIL.ImageEnhance', 'PIL.ImageFilter', 'PIL.ImageStat', 'keras_preprocessing.image.dataframe_iterator', 'keras_preprocessing.image.iterator', 'keras_preprocessing.image.directory_iterator', 'keras_preprocessing.image.image_data_generator', 'keras_preprocessing.image.numpy_array_iterator', 'keras.preprocessing.image_dataset', 'keras.preprocessing.dataset_utils', 'keras.preprocessing.sequence', 'keras_preprocessing.sequence', 'keras.preprocessing.text', 'keras_preprocessing.text', 'keras.preprocessing.text_dataset', 'keras.preprocessing.timeseries', 'keras.utils.all_utils', 'keras.utils.multi_gpu_utils', 'keras.engine.training', 'keras.callbacks', 'keras.distribute.distributed_file_utils', 'keras.distribute.worker_training_state', 'keras.utils.mode_keys', 'keras.engine.compile_utils', 'keras.saving.hdf5_format', 'keras.saving.model_config', 'keras.saving.save', 'keras.saving.saved_model.load_context', 'keras.saving.saved_model.save', 'keras.layers.serialization', 'keras.layers.advanced_activations', 'keras.layers.convolutional', 'keras.layers.pooling', 'keras.utils.conv_utils', 'keras.layers.convolutional_recurrent', 'keras.layers.recurrent', 'keras.layers.core', 'keras.layers.core.activation', 'keras.layers.core.activity_regularization', 'keras.layers.core.dense', 'keras.layers.core.dropout', 'keras.layers.core.flatten', 'keras.layers.core.lambda_layer', 'keras.layers.core.masking', 'keras.layers.core.permute', 'keras.layers.core.repeat_vector', 'keras.layers.core.reshape', 'keras.layers.core.spatial_dropout', 'keras.layers.core.tf_op_layer', 'keras.layers.cudnn_recurrent', 'keras.layers.recurrent_v2', 'keras.layers.dense_attention', 'keras.layers.einsum_dense', 'keras.layers.embeddings', 'keras.layers.local', 'keras.layers.merge', 'keras.layers.multi_head_attention', 'keras.layers.noise', 'keras.layers.rnn_cell_wrapper_v2', 'keras.layers.legacy_rnn', 'keras.layers.legacy_rnn.rnn_cell_wrapper_impl', 'keras.layers.wrappers', 'keras.layers.normalization', 'keras.layers.normalization.batch_normalization', 'keras.layers.normalization.batch_normalization_v1', 'keras.layers.normalization.layer_normalization', 'keras.layers.preprocessing.category_encoding', 'keras.layers.preprocessing.discretization', 'keras.layers.preprocessing.hashing', 'keras.layers.preprocessing.hashed_crossing', 'keras.layers.preprocessing.integer_lookup', 'keras.layers.preprocessing.index_lookup', 'keras.layers.preprocessing.normalization', 'keras.layers.preprocessing.string_lookup', 'keras.layers.preprocessing.text_vectorization', 'keras.saving.pickle_utils', 'keras.saving.saved_model.model_serialization', 'keras.utils.np_utils', 'keras.utils.vis_utils', 'pydot_ng', 'pydot_ng._dotparser', 'keras.layers.kernelized', 'keras.saving.saved_model.metric_serialization', 'keras.engine.functional', 'keras.engine.functional_utils', 'keras.saving.saved_model.network_serialization', 'keras.engine.sequential', 'keras.engine.training_v1', 'keras.distribute.distributed_training_utils_v1', 'keras.engine.training_utils_v1', 'keras.engine.training_arrays_v1', 'keras.engine.training_distributed_v1', 'keras.engine.partial_batch_padding_handler', 'keras.engine.training_eager_v1', 'keras.engine.training_generator_v1', 'keras.engine.base_layer_v1', '__autograph_generated_fileq0zd5cgx', '__autograph_generated_file0_00ns9i', 'matplotlib._png', '__autograph_generated_fileq8e9z5cy'])\n"
          ]
        }
      ]
    },
    {
      "cell_type": "code",
      "source": [
        "pip freeze > requirements.txt"
      ],
      "metadata": {
        "id": "il33CwZTaxyJ"
      },
      "execution_count": null,
      "outputs": []
    },
    {
      "cell_type": "code",
      "source": [
        "import pickle "
      ],
      "metadata": {
        "id": "yAjk4e7vbDHS"
      },
      "execution_count": null,
      "outputs": []
    },
    {
      "cell_type": "code",
      "source": [
        "file = open('classifier.pkl','wb')"
      ],
      "metadata": {
        "id": "SWtVSXjEiqdr"
      },
      "execution_count": null,
      "outputs": []
    },
    {
      "cell_type": "code",
      "source": [
        "pickle.dump(classifier,file)"
      ],
      "metadata": {
        "colab": {
          "base_uri": "https://localhost:8080/"
        },
        "id": "ibUzwaiCi8ni",
        "outputId": "a2c002f2-f1ef-47dd-c589-0aca552b986f"
      },
      "execution_count": null,
      "outputs": [
        {
          "output_type": "stream",
          "name": "stdout",
          "text": [
            "INFO:tensorflow:Assets written to: ram://25c05374-0fc5-4335-aa51-854f9a6d34f2/assets\n"
          ]
        }
      ]
    }
  ]
}